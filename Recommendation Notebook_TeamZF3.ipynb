{
 "cells": [
  {
   "cell_type": "markdown",
   "id": "7dc42a1c",
   "metadata": {},
   "source": [
    "# Movie Recommendation and Rating - Team ZF3\n",
    "\n",
    "© Explore Data Science Academy 2022\n",
    "\n",
    "---\n",
    "\n",
    "### Honour Code\n",
    "\n",
    "We {**UBASINACHI ELEONU, BONGANI MKHIZE, ABUBAKAR ABDULKABIR, MICHAEL MAMAH, JOSEPH OKONKWO**}, confirm - by submitting this document - that the solutions in this notebook are a result of our own work and that we abide by the [EDSA honour code](https://drive.google.com/file/d/1QDCjGZJ8-FmJE3bZdIQNwnJyQKPhHZBn/view?usp=sharing).\n",
    "\n",
    "We understand that non-compliance with the honour code constitutes a material breach of contract.\n",
    "\n",
    "### Team Members\n",
    "\n",
    "1. Ubasinachi Eleonu\n",
    "2. Bongani Mkhize\n",
    "3. Abubakar Abdulkadir\n",
    "4. Michael Mamah\n",
    "5. Joseph Okonkwo\n",
    "\n",
    "---"
   ]
  },
  {
   "cell_type": "markdown",
   "id": "802b766f",
   "metadata": {},
   "source": [
    "<a id=\"cont\"></a>\n",
    "\n",
    "## Table of Contents\n",
    "\n",
    "<a href=#i>I. Problem Statement</a>\n",
    "\n",
    "<a href=#ii>II. Project Objective</a>\n",
    "\n",
    "<a href=#one>1.0. Packages</a>\n",
    "\n",
    "<a href=#two>2.0. Loading Dataset</a>\n",
    "\n",
    "<a href=#three>3.0. Exploratory Data Analysis (EDA)</a>\n",
    "\n",
    "<a href=#four>4.0. Content Based Filtering</a>\n",
    "\n",
    "<a href=#five>5.0. Collaborative Filtering</a>\n",
    "\n",
    "<br ><br>"
   ]
  },
  {
   "cell_type": "markdown",
   "id": "4dd0fc14",
   "metadata": {},
   "source": [
    " <a id=\"i\"></a>\n",
    "## I. Problem Statement\n",
    "\n",
    "<img src=\"https://th.bing.com/th/id/R.f32f6c0a36b1166033122544cf0dd8a1?rik=QmYumf41lwVQgA&pid=ImgRaw&r=0\" style='margin-top:30x; margin-bottom:30px'/>\n",
    "It is almost impossible for a person to attempt to consume all the products and choices available. It is even most likely that a person will not have the time, patience or resources to even view the myraids of choices in terms of products and services available at his disposal. Hence, it becomes almost imperative for producers of goods and services to help narrow down the choices of products presented to their users in an attempt to reduce overwhelming them and help them reach thier relevant products and services without waste of time and as a result, helping them have a better user experience, while also exposing them to more products and services they might have never discovered otherwise. This help comes in the form of  <b> recommendation </b>\n",
    "\n",
    "Simple as the above sounds, it is not as easy to implement because the traditional approach would have been to deploy product recommender agents (like customer service representatives) who will handle recommendation requests from customers. But these agents will be unable to learn about every of thier customers and what products and services they might want and find useful. So how does one recommend products and services to people he does not know?\n",
    "\n",
    "The response is using Recommender Systems. Recommender systems are machine learning systems that help users discover products and services based on the relationship between the users and the products.Recommender systems are like salesmen who have learnt to recognize customers and the products they might like based on their history and preferences. Recommender systems are so common place now that every time you shop online, a  recommendation system is guiding you towards the most likely product you might purchase.\n",
    "\n",
    "There are several use cases of a recommender system. However, in this project we will focus on building a movie recommendation system.\n",
    "\n",
    "---"
   ]
  },
  {
   "cell_type": "markdown",
   "id": "e5ea8e42",
   "metadata": {},
   "source": [
    " <a id=\"ii\"></a>\n",
    "## II. Project Objective\n",
    "\n",
    "The primary objective of this project is to build a recommendation system capable of recommending movies to users and predicting ratings a user might give a movie they have never seen bebfore. <br ><br>"
   ]
  },
  {
   "cell_type": "markdown",
   "id": "d3289f47",
   "metadata": {},
   "source": [
    " <a id=\"one\"></a>\n",
    "## 1.0 Packages\n",
    "\n",
    "<a href=#cont>Back to Table of Contents</a>"
   ]
  },
  {
   "cell_type": "markdown",
   "id": "a5765a86",
   "metadata": {},
   "source": [
    "### 1.1. Installing Packages\n",
    "\n",
    "For this project, two major libraries were used - sklearn and surprise. Sklearn is the most mopular of the two."
   ]
  },
  {
   "cell_type": "code",
   "execution_count": 1,
   "id": "058ec304",
   "metadata": {},
   "outputs": [
    {
     "name": "stdout",
     "output_type": "stream",
     "text": [
      "Requirement already satisfied: scikit-surprise in c:\\users\\ubasinachi\\anaconda3\\lib\\site-packages (1.1.1)\n",
      "Requirement already satisfied: six>=1.10.0 in c:\\users\\ubasinachi\\appdata\\roaming\\python\\python39\\site-packages (from scikit-surprise) (1.16.0)\n",
      "Requirement already satisfied: scipy>=1.0.0 in c:\\users\\ubasinachi\\anaconda3\\lib\\site-packages (from scikit-surprise) (1.7.1)\n",
      "Requirement already satisfied: joblib>=0.11 in c:\\users\\ubasinachi\\anaconda3\\lib\\site-packages (from scikit-surprise) (1.1.0)\n",
      "Requirement already satisfied: numpy>=1.11.2 in c:\\users\\ubasinachi\\anaconda3\\lib\\site-packages (from scikit-surprise) (1.20.3)\n"
     ]
    }
   ],
   "source": [
    "!pip install scikit-surprise"
   ]
  },
  {
   "cell_type": "markdown",
   "id": "a5a3694f",
   "metadata": {},
   "source": [
    "- <a href=\"http://surpriselib.com/\"> Surprise</a> is a Python scikit for building and analyzing recommender systems that deal with explicit rating data. It does not support implicit ratings or content-based information. Surprise was used in this project to make collaborative prediction. <br>"
   ]
  },
  {
   "cell_type": "markdown",
   "id": "f8e78f84",
   "metadata": {},
   "source": [
    "### 1.2 Importing Packages "
   ]
  },
  {
   "cell_type": "code",
   "execution_count": 2,
   "id": "48f5c979",
   "metadata": {},
   "outputs": [],
   "source": [
    "# data loading and preprocessing \n",
    "import numpy as np \n",
    "import pandas as pd \n",
    "import pickle as pkl\n",
    "from collections import Counter\n",
    "from surprise import Reader\n",
    "from surprise import Dataset\n",
    "import math\n",
    "\n",
    "# Visualisation\n",
    "import matplotlib.pyplot as plt\n",
    "import seaborn as sns\n",
    "\n",
    "# feature extration and similarity metrics\n",
    "from sklearn.feature_extraction.text import TfidfVectorizer, CountVectorizer\n",
    "from sklearn.metrics.pairwise import linear_kernel, cosine_similarity\n",
    "\n",
    "#modeling and validation\n",
    "from surprise.model_selection import cross_validate\n",
    "from surprise import NormalPredictor\n",
    "from surprise import KNNBasic\n",
    "from surprise import KNNWithMeans\n",
    "from surprise import KNNWithZScore\n",
    "from surprise import KNNBaseline\n",
    "from surprise import SVD\n",
    "from surprise import BaselineOnly\n",
    "from surprise import SVDpp\n",
    "from surprise import NMF\n",
    "from surprise import SlopeOne\n",
    "from surprise import CoClustering\n",
    "from surprise.accuracy import rmse\n",
    "from surprise import accuracy\n",
    "from surprise.model_selection import train_test_split\n",
    "from surprise.model_selection import GridSearchCV"
   ]
  },
  {
   "cell_type": "markdown",
   "id": "039aa0d9",
   "metadata": {},
   "source": [
    "<br><br>\n",
    "\n",
    " <a id=\"two\"></a>\n",
    "## 2.0 Loading Dataset\n",
    "\n",
    "<a href=#cont>Back to Table of Contents</a>\n",
    "\n",
    "The dataset used for this project is the MovieLens dataset maintained by the GroupLens research group in the Department of Computer Science and Engineering at the University of Minnesota. Additional movie content data was legally scraped from IMDB. The dataset can be found <a href=\"https://www.kaggle.com/competitions/edsa-movie-recommendation-2022/data\"> here</a>. Pandas library will be used to access and Manipulate the datasets.\n"
   ]
  },
  {
   "cell_type": "code",
   "execution_count": 3,
   "id": "1f488215",
   "metadata": {},
   "outputs": [],
   "source": [
    "# read movie dataset\n",
    "df_movies = pd.read_csv('movies.csv')"
   ]
  },
  {
   "cell_type": "code",
   "execution_count": 4,
   "id": "5cc9acc9",
   "metadata": {},
   "outputs": [],
   "source": [
    "# read the ratings dataset\n",
    "df_rating = pd.read_csv('train_resized.csv')"
   ]
  },
  {
   "cell_type": "code",
   "execution_count": 5,
   "id": "a4db1727",
   "metadata": {},
   "outputs": [],
   "source": [
    "# read the movie additional information\n",
    "df_meta = pd.read_csv('imdb_data.csv')"
   ]
  },
  {
   "cell_type": "markdown",
   "id": "d559cabe",
   "metadata": {},
   "source": [
    "<br><br>\n",
    "\n",
    " <a id=\"three\"></a>\n",
    "## 3.0 Exploratory Data Analysis\n",
    "\n",
    "<a href=#cont>Back to Table of Contents</a>\n",
    "\n",
    "Exploratory data analysis is an approach to analyzing data sets to summarize their main characteristics, often with visual methods. Primarily, EDA is for seeing what the data can tell us beyond the formal modeling or hypothesis testing task.This approach for data analysis uses many tools(mainly graphical to maximize insight into a data set, extract important variables, detect outliers and anomalies, amongst other details that is missed when looking at DataFrame. This step is very important especially when we model the data in order to apply Machine Learning techniques."
   ]
  },
  {
   "cell_type": "code",
   "execution_count": 6,
   "id": "12942d49",
   "metadata": {},
   "outputs": [
    {
     "data": {
      "text/html": [
       "<div>\n",
       "<style scoped>\n",
       "    .dataframe tbody tr th:only-of-type {\n",
       "        vertical-align: middle;\n",
       "    }\n",
       "\n",
       "    .dataframe tbody tr th {\n",
       "        vertical-align: top;\n",
       "    }\n",
       "\n",
       "    .dataframe thead th {\n",
       "        text-align: right;\n",
       "    }\n",
       "</style>\n",
       "<table border=\"1\" class=\"dataframe\">\n",
       "  <thead>\n",
       "    <tr style=\"text-align: right;\">\n",
       "      <th></th>\n",
       "      <th>movieId</th>\n",
       "      <th>title</th>\n",
       "      <th>genres</th>\n",
       "    </tr>\n",
       "  </thead>\n",
       "  <tbody>\n",
       "    <tr>\n",
       "      <th>0</th>\n",
       "      <td>1</td>\n",
       "      <td>Toy Story (1995)</td>\n",
       "      <td>Adventure|Animation|Children|Comedy|Fantasy</td>\n",
       "    </tr>\n",
       "    <tr>\n",
       "      <th>1</th>\n",
       "      <td>2</td>\n",
       "      <td>Jumanji (1995)</td>\n",
       "      <td>Adventure|Children|Fantasy</td>\n",
       "    </tr>\n",
       "    <tr>\n",
       "      <th>2</th>\n",
       "      <td>3</td>\n",
       "      <td>Grumpier Old Men (1995)</td>\n",
       "      <td>Comedy|Romance</td>\n",
       "    </tr>\n",
       "    <tr>\n",
       "      <th>3</th>\n",
       "      <td>4</td>\n",
       "      <td>Waiting to Exhale (1995)</td>\n",
       "      <td>Comedy|Drama|Romance</td>\n",
       "    </tr>\n",
       "    <tr>\n",
       "      <th>4</th>\n",
       "      <td>5</td>\n",
       "      <td>Father of the Bride Part II (1995)</td>\n",
       "      <td>Comedy</td>\n",
       "    </tr>\n",
       "  </tbody>\n",
       "</table>\n",
       "</div>"
      ],
      "text/plain": [
       "   movieId                               title  \\\n",
       "0        1                    Toy Story (1995)   \n",
       "1        2                      Jumanji (1995)   \n",
       "2        3             Grumpier Old Men (1995)   \n",
       "3        4            Waiting to Exhale (1995)   \n",
       "4        5  Father of the Bride Part II (1995)   \n",
       "\n",
       "                                        genres  \n",
       "0  Adventure|Animation|Children|Comedy|Fantasy  \n",
       "1                   Adventure|Children|Fantasy  \n",
       "2                               Comedy|Romance  \n",
       "3                         Comedy|Drama|Romance  \n",
       "4                                       Comedy  "
      ]
     },
     "execution_count": 6,
     "metadata": {},
     "output_type": "execute_result"
    }
   ],
   "source": [
    "df_movies.head()"
   ]
  },
  {
   "cell_type": "code",
   "execution_count": 7,
   "id": "f8309ef3",
   "metadata": {},
   "outputs": [
    {
     "data": {
      "text/html": [
       "<div>\n",
       "<style scoped>\n",
       "    .dataframe tbody tr th:only-of-type {\n",
       "        vertical-align: middle;\n",
       "    }\n",
       "\n",
       "    .dataframe tbody tr th {\n",
       "        vertical-align: top;\n",
       "    }\n",
       "\n",
       "    .dataframe thead th {\n",
       "        text-align: right;\n",
       "    }\n",
       "</style>\n",
       "<table border=\"1\" class=\"dataframe\">\n",
       "  <thead>\n",
       "    <tr style=\"text-align: right;\">\n",
       "      <th></th>\n",
       "      <th>userId</th>\n",
       "      <th>movieId</th>\n",
       "      <th>rating</th>\n",
       "      <th>timestamp</th>\n",
       "    </tr>\n",
       "  </thead>\n",
       "  <tbody>\n",
       "    <tr>\n",
       "      <th>0</th>\n",
       "      <td>5163</td>\n",
       "      <td>57669</td>\n",
       "      <td>4.0</td>\n",
       "      <td>1518349992</td>\n",
       "    </tr>\n",
       "    <tr>\n",
       "      <th>1</th>\n",
       "      <td>106343</td>\n",
       "      <td>5</td>\n",
       "      <td>4.5</td>\n",
       "      <td>1206238739</td>\n",
       "    </tr>\n",
       "    <tr>\n",
       "      <th>2</th>\n",
       "      <td>146790</td>\n",
       "      <td>5459</td>\n",
       "      <td>5.0</td>\n",
       "      <td>1076215539</td>\n",
       "    </tr>\n",
       "    <tr>\n",
       "      <th>3</th>\n",
       "      <td>106362</td>\n",
       "      <td>32296</td>\n",
       "      <td>2.0</td>\n",
       "      <td>1423042565</td>\n",
       "    </tr>\n",
       "    <tr>\n",
       "      <th>4</th>\n",
       "      <td>9041</td>\n",
       "      <td>366</td>\n",
       "      <td>3.0</td>\n",
       "      <td>833375837</td>\n",
       "    </tr>\n",
       "  </tbody>\n",
       "</table>\n",
       "</div>"
      ],
      "text/plain": [
       "   userId  movieId  rating   timestamp\n",
       "0    5163    57669     4.0  1518349992\n",
       "1  106343        5     4.5  1206238739\n",
       "2  146790     5459     5.0  1076215539\n",
       "3  106362    32296     2.0  1423042565\n",
       "4    9041      366     3.0   833375837"
      ]
     },
     "execution_count": 7,
     "metadata": {},
     "output_type": "execute_result"
    }
   ],
   "source": [
    "df_rating.head()"
   ]
  },
  {
   "cell_type": "code",
   "execution_count": 8,
   "id": "59106bf4",
   "metadata": {},
   "outputs": [
    {
     "data": {
      "text/html": [
       "<div>\n",
       "<style scoped>\n",
       "    .dataframe tbody tr th:only-of-type {\n",
       "        vertical-align: middle;\n",
       "    }\n",
       "\n",
       "    .dataframe tbody tr th {\n",
       "        vertical-align: top;\n",
       "    }\n",
       "\n",
       "    .dataframe thead th {\n",
       "        text-align: right;\n",
       "    }\n",
       "</style>\n",
       "<table border=\"1\" class=\"dataframe\">\n",
       "  <thead>\n",
       "    <tr style=\"text-align: right;\">\n",
       "      <th></th>\n",
       "      <th>movieId</th>\n",
       "      <th>title_cast</th>\n",
       "      <th>director</th>\n",
       "      <th>runtime</th>\n",
       "      <th>budget</th>\n",
       "      <th>plot_keywords</th>\n",
       "    </tr>\n",
       "  </thead>\n",
       "  <tbody>\n",
       "    <tr>\n",
       "      <th>0</th>\n",
       "      <td>1</td>\n",
       "      <td>Tom Hanks|Tim Allen|Don Rickles|Jim Varney|Wal...</td>\n",
       "      <td>John Lasseter</td>\n",
       "      <td>81.0</td>\n",
       "      <td>$30,000,000</td>\n",
       "      <td>toy|rivalry|cowboy|cgi animation</td>\n",
       "    </tr>\n",
       "    <tr>\n",
       "      <th>1</th>\n",
       "      <td>2</td>\n",
       "      <td>Robin Williams|Jonathan Hyde|Kirsten Dunst|Bra...</td>\n",
       "      <td>Jonathan Hensleigh</td>\n",
       "      <td>104.0</td>\n",
       "      <td>$65,000,000</td>\n",
       "      <td>board game|adventurer|fight|game</td>\n",
       "    </tr>\n",
       "    <tr>\n",
       "      <th>2</th>\n",
       "      <td>3</td>\n",
       "      <td>Walter Matthau|Jack Lemmon|Sophia Loren|Ann-Ma...</td>\n",
       "      <td>Mark Steven Johnson</td>\n",
       "      <td>101.0</td>\n",
       "      <td>$25,000,000</td>\n",
       "      <td>boat|lake|neighbor|rivalry</td>\n",
       "    </tr>\n",
       "    <tr>\n",
       "      <th>3</th>\n",
       "      <td>4</td>\n",
       "      <td>Whitney Houston|Angela Bassett|Loretta Devine|...</td>\n",
       "      <td>Terry McMillan</td>\n",
       "      <td>124.0</td>\n",
       "      <td>$16,000,000</td>\n",
       "      <td>black american|husband wife relationship|betra...</td>\n",
       "    </tr>\n",
       "    <tr>\n",
       "      <th>4</th>\n",
       "      <td>5</td>\n",
       "      <td>Steve Martin|Diane Keaton|Martin Short|Kimberl...</td>\n",
       "      <td>Albert Hackett</td>\n",
       "      <td>106.0</td>\n",
       "      <td>$30,000,000</td>\n",
       "      <td>fatherhood|doberman|dog|mansion</td>\n",
       "    </tr>\n",
       "  </tbody>\n",
       "</table>\n",
       "</div>"
      ],
      "text/plain": [
       "   movieId                                         title_cast  \\\n",
       "0        1  Tom Hanks|Tim Allen|Don Rickles|Jim Varney|Wal...   \n",
       "1        2  Robin Williams|Jonathan Hyde|Kirsten Dunst|Bra...   \n",
       "2        3  Walter Matthau|Jack Lemmon|Sophia Loren|Ann-Ma...   \n",
       "3        4  Whitney Houston|Angela Bassett|Loretta Devine|...   \n",
       "4        5  Steve Martin|Diane Keaton|Martin Short|Kimberl...   \n",
       "\n",
       "              director  runtime       budget  \\\n",
       "0        John Lasseter     81.0  $30,000,000   \n",
       "1   Jonathan Hensleigh    104.0  $65,000,000   \n",
       "2  Mark Steven Johnson    101.0  $25,000,000   \n",
       "3       Terry McMillan    124.0  $16,000,000   \n",
       "4       Albert Hackett    106.0  $30,000,000   \n",
       "\n",
       "                                       plot_keywords  \n",
       "0                   toy|rivalry|cowboy|cgi animation  \n",
       "1                   board game|adventurer|fight|game  \n",
       "2                         boat|lake|neighbor|rivalry  \n",
       "3  black american|husband wife relationship|betra...  \n",
       "4                    fatherhood|doberman|dog|mansion  "
      ]
     },
     "execution_count": 8,
     "metadata": {},
     "output_type": "execute_result"
    }
   ],
   "source": [
    "df_meta.head()"
   ]
  },
  {
   "cell_type": "code",
   "execution_count": 9,
   "id": "8fb40ed8",
   "metadata": {
    "scrolled": true
   },
   "outputs": [
    {
     "name": "stdout",
     "output_type": "stream",
     "text": [
      "Number of movies in the dataset: 62423\n"
     ]
    }
   ],
   "source": [
    "print (f'Number of movies in the dataset: {df_movies.shape[0]}')"
   ]
  },
  {
   "cell_type": "code",
   "execution_count": 10,
   "id": "10945fe1",
   "metadata": {
    "scrolled": true
   },
   "outputs": [
    {
     "name": "stdout",
     "output_type": "stream",
     "text": [
      "Number of ratings in the dataset: 1048575\n"
     ]
    }
   ],
   "source": [
    "print (f'Number of ratings in the dataset: {df_rating.shape[0]}')"
   ]
  },
  {
   "cell_type": "code",
   "execution_count": 11,
   "id": "8f162d60",
   "metadata": {
    "scrolled": false
   },
   "outputs": [
    {
     "name": "stderr",
     "output_type": "stream",
     "text": [
      "C:\\Users\\Ubasinachi\\anaconda3\\lib\\site-packages\\seaborn\\categorical.py:3717: UserWarning: The `factorplot` function has been renamed to `catplot`. The original name will be removed in a future release. Please update your code. Note that the default `kind` in `factorplot` (`'point'`) has changed `'strip'` in `catplot`.\n",
      "  warnings.warn(msg)\n",
      "C:\\Users\\Ubasinachi\\anaconda3\\lib\\site-packages\\seaborn\\_decorators.py:36: FutureWarning: Pass the following variable as a keyword arg: x. From version 0.12, the only valid positional argument will be `data`, and passing other arguments without an explicit keyword will result in an error or misinterpretation.\n",
      "  warnings.warn(\n"
     ]
    },
    {
     "name": "stdout",
     "output_type": "stream",
     "text": [
      "Average rating in dataset: 3.5335374198316765\n"
     ]
    },
    {
     "data": {
      "image/png": "[encoded data removed]",
      "text/plain": [
       "<Figure size 720x360 with 1 Axes>"
      ]
     },
     "metadata": {},
     "output_type": "display_data"
    }
   ],
   "source": [
    "with sns.axes_style('white'):\n",
    "    g = sns.factorplot(\"rating\", data=df_rating, aspect=2.0,kind='count')\n",
    "    g.set_ylabels(\"Total number of ratings\")\n",
    "print (f'Average rating in dataset: {np.mean(df_rating[\"rating\"])}')"
   ]
  },
  {
   "cell_type": "markdown",
   "id": "d52a5cf4",
   "metadata": {},
   "source": [
    "Here we see that most viewers rated the movies positively, with a greater proportion of positive reviews (> 3) being given over negative ones (< 3)."
   ]
  },
  {
   "cell_type": "markdown",
   "id": "2c863dbc",
   "metadata": {},
   "source": [
    "<br><br>\n",
    "\n",
    " <a id=\"four\"></a>\n",
    "## 4.0 Content Based Filtering\n",
    "\n",
    "<a href=#cont>Back to Table of Contents</a>\n",
    "\n",
    "This section of the project aims at making recommenadations and rating using the content-based aproach. This approach uses the similarity between items to make recommendations. It is based off the assumption that if a user likes a particular item, the user will like items similar to that items. Hence, if a user rates a particular movie very high, there is aa high chance the user will rank other similar movies high. "
   ]
  },
  {
   "cell_type": "markdown",
   "id": "ccc607e0",
   "metadata": {},
   "source": [
    "### 4.1 Feature Engineering and Selection\n",
    "\n",
    "\n",
    "This project considers building a recommender off the movie genre, the director and the plot keyword feature. "
   ]
  },
  {
   "cell_type": "markdown",
   "id": "c2b559c2",
   "metadata": {},
   "source": [
    "#### 4.1.1 Selecting the Required Features\n",
    "\n",
    "The movie genre is available in the movies dataset, the director and plot keywords features are in the imdb_data dataset. Hence, there is a need to merge both datasets and extract the required features. "
   ]
  },
  {
   "cell_type": "code",
   "execution_count": 26,
   "id": "9824e798",
   "metadata": {
    "scrolled": false
   },
   "outputs": [
    {
     "data": {
      "text/html": [
       "<div>\n",
       "<style scoped>\n",
       "    .dataframe tbody tr th:only-of-type {\n",
       "        vertical-align: middle;\n",
       "    }\n",
       "\n",
       "    .dataframe tbody tr th {\n",
       "        vertical-align: top;\n",
       "    }\n",
       "\n",
       "    .dataframe thead th {\n",
       "        text-align: right;\n",
       "    }\n",
       "</style>\n",
       "<table border=\"1\" class=\"dataframe\">\n",
       "  <thead>\n",
       "    <tr style=\"text-align: right;\">\n",
       "      <th></th>\n",
       "      <th>movieId</th>\n",
       "      <th>title</th>\n",
       "      <th>genres</th>\n",
       "      <th>title_cast</th>\n",
       "      <th>director</th>\n",
       "      <th>plot_keywords</th>\n",
       "    </tr>\n",
       "  </thead>\n",
       "  <tbody>\n",
       "    <tr>\n",
       "      <th>0</th>\n",
       "      <td>1</td>\n",
       "      <td>Toy Story (1995)</td>\n",
       "      <td>Adventure|Animation|Children|Comedy|Fantasy</td>\n",
       "      <td>Tom Hanks|Tim Allen|Don Rickles|Jim Varney|Wal...</td>\n",
       "      <td>John Lasseter</td>\n",
       "      <td>toy|rivalry|cowboy|cgi animation</td>\n",
       "    </tr>\n",
       "    <tr>\n",
       "      <th>1</th>\n",
       "      <td>2</td>\n",
       "      <td>Jumanji (1995)</td>\n",
       "      <td>Adventure|Children|Fantasy</td>\n",
       "      <td>Robin Williams|Jonathan Hyde|Kirsten Dunst|Bra...</td>\n",
       "      <td>Jonathan Hensleigh</td>\n",
       "      <td>board game|adventurer|fight|game</td>\n",
       "    </tr>\n",
       "    <tr>\n",
       "      <th>2</th>\n",
       "      <td>3</td>\n",
       "      <td>Grumpier Old Men (1995)</td>\n",
       "      <td>Comedy|Romance</td>\n",
       "      <td>Walter Matthau|Jack Lemmon|Sophia Loren|Ann-Ma...</td>\n",
       "      <td>Mark Steven Johnson</td>\n",
       "      <td>boat|lake|neighbor|rivalry</td>\n",
       "    </tr>\n",
       "    <tr>\n",
       "      <th>3</th>\n",
       "      <td>4</td>\n",
       "      <td>Waiting to Exhale (1995)</td>\n",
       "      <td>Comedy|Drama|Romance</td>\n",
       "      <td>Whitney Houston|Angela Bassett|Loretta Devine|...</td>\n",
       "      <td>Terry McMillan</td>\n",
       "      <td>black american|husband wife relationship|betra...</td>\n",
       "    </tr>\n",
       "    <tr>\n",
       "      <th>4</th>\n",
       "      <td>5</td>\n",
       "      <td>Father of the Bride Part II (1995)</td>\n",
       "      <td>Comedy</td>\n",
       "      <td>Steve Martin|Diane Keaton|Martin Short|Kimberl...</td>\n",
       "      <td>Albert Hackett</td>\n",
       "      <td>fatherhood|doberman|dog|mansion</td>\n",
       "    </tr>\n",
       "  </tbody>\n",
       "</table>\n",
       "</div>"
      ],
      "text/plain": [
       "   movieId                               title  \\\n",
       "0        1                    Toy Story (1995)   \n",
       "1        2                      Jumanji (1995)   \n",
       "2        3             Grumpier Old Men (1995)   \n",
       "3        4            Waiting to Exhale (1995)   \n",
       "4        5  Father of the Bride Part II (1995)   \n",
       "\n",
       "                                        genres  \\\n",
       "0  Adventure|Animation|Children|Comedy|Fantasy   \n",
       "1                   Adventure|Children|Fantasy   \n",
       "2                               Comedy|Romance   \n",
       "3                         Comedy|Drama|Romance   \n",
       "4                                       Comedy   \n",
       "\n",
       "                                          title_cast             director  \\\n",
       "0  Tom Hanks|Tim Allen|Don Rickles|Jim Varney|Wal...        John Lasseter   \n",
       "1  Robin Williams|Jonathan Hyde|Kirsten Dunst|Bra...   Jonathan Hensleigh   \n",
       "2  Walter Matthau|Jack Lemmon|Sophia Loren|Ann-Ma...  Mark Steven Johnson   \n",
       "3  Whitney Houston|Angela Bassett|Loretta Devine|...       Terry McMillan   \n",
       "4  Steve Martin|Diane Keaton|Martin Short|Kimberl...       Albert Hackett   \n",
       "\n",
       "                                       plot_keywords  \n",
       "0                   toy|rivalry|cowboy|cgi animation  \n",
       "1                   board game|adventurer|fight|game  \n",
       "2                         boat|lake|neighbor|rivalry  \n",
       "3  black american|husband wife relationship|betra...  \n",
       "4                    fatherhood|doberman|dog|mansion  "
      ]
     },
     "execution_count": 26,
     "metadata": {},
     "output_type": "execute_result"
    }
   ],
   "source": [
    "# Extract movieId, title_cast, director and plot_keywords from df_meta\n",
    "df_meta = df_meta[['movieId', 'title_cast', 'director', 'plot_keywords']]\n",
    "\n",
    "\n",
    "# merge meta dataset to movies dataset to produce our train dataset\n",
    "df_train = df_movies.merge(df_meta, on='movieId', how='left')\n",
    "df_train.head()\n"
   ]
  },
  {
   "cell_type": "code",
   "execution_count": 27,
   "id": "05c3aa50",
   "metadata": {},
   "outputs": [
    {
     "data": {
      "text/html": [
       "<div>\n",
       "<style scoped>\n",
       "    .dataframe tbody tr th:only-of-type {\n",
       "        vertical-align: middle;\n",
       "    }\n",
       "\n",
       "    .dataframe tbody tr th {\n",
       "        vertical-align: top;\n",
       "    }\n",
       "\n",
       "    .dataframe thead th {\n",
       "        text-align: right;\n",
       "    }\n",
       "</style>\n",
       "<table border=\"1\" class=\"dataframe\">\n",
       "  <thead>\n",
       "    <tr style=\"text-align: right;\">\n",
       "      <th></th>\n",
       "      <th>movieId</th>\n",
       "      <th>title</th>\n",
       "      <th>genres</th>\n",
       "      <th>title_cast</th>\n",
       "      <th>director</th>\n",
       "      <th>plot_keywords</th>\n",
       "    </tr>\n",
       "  </thead>\n",
       "  <tbody>\n",
       "    <tr>\n",
       "      <th>62413</th>\n",
       "      <td>209145</td>\n",
       "      <td>Liberté (2019)</td>\n",
       "      <td>Drama</td>\n",
       "      <td>NaN</td>\n",
       "      <td>NaN</td>\n",
       "      <td>NaN</td>\n",
       "    </tr>\n",
       "    <tr>\n",
       "      <th>62414</th>\n",
       "      <td>209147</td>\n",
       "      <td>The Carpet of Horror (1962)</td>\n",
       "      <td>Crime|Horror</td>\n",
       "      <td>NaN</td>\n",
       "      <td>NaN</td>\n",
       "      <td>NaN</td>\n",
       "    </tr>\n",
       "    <tr>\n",
       "      <th>62415</th>\n",
       "      <td>209151</td>\n",
       "      <td>Mao Zedong 1949 (2019)</td>\n",
       "      <td>(no genres listed)</td>\n",
       "      <td>NaN</td>\n",
       "      <td>NaN</td>\n",
       "      <td>NaN</td>\n",
       "    </tr>\n",
       "    <tr>\n",
       "      <th>62416</th>\n",
       "      <td>209153</td>\n",
       "      <td>Happy Flight (2008)</td>\n",
       "      <td>Comedy|Drama</td>\n",
       "      <td>NaN</td>\n",
       "      <td>NaN</td>\n",
       "      <td>NaN</td>\n",
       "    </tr>\n",
       "    <tr>\n",
       "      <th>62417</th>\n",
       "      <td>209155</td>\n",
       "      <td>Santosh Subramaniam (2008)</td>\n",
       "      <td>Action|Comedy|Romance</td>\n",
       "      <td>NaN</td>\n",
       "      <td>NaN</td>\n",
       "      <td>NaN</td>\n",
       "    </tr>\n",
       "    <tr>\n",
       "      <th>62418</th>\n",
       "      <td>209157</td>\n",
       "      <td>We (2018)</td>\n",
       "      <td>Drama</td>\n",
       "      <td>NaN</td>\n",
       "      <td>NaN</td>\n",
       "      <td>NaN</td>\n",
       "    </tr>\n",
       "    <tr>\n",
       "      <th>62419</th>\n",
       "      <td>209159</td>\n",
       "      <td>Window of the Soul (2001)</td>\n",
       "      <td>Documentary</td>\n",
       "      <td>NaN</td>\n",
       "      <td>NaN</td>\n",
       "      <td>NaN</td>\n",
       "    </tr>\n",
       "    <tr>\n",
       "      <th>62420</th>\n",
       "      <td>209163</td>\n",
       "      <td>Bad Poems (2018)</td>\n",
       "      <td>Comedy|Drama</td>\n",
       "      <td>NaN</td>\n",
       "      <td>NaN</td>\n",
       "      <td>NaN</td>\n",
       "    </tr>\n",
       "    <tr>\n",
       "      <th>62421</th>\n",
       "      <td>209169</td>\n",
       "      <td>A Girl Thing (2001)</td>\n",
       "      <td>(no genres listed)</td>\n",
       "      <td>NaN</td>\n",
       "      <td>NaN</td>\n",
       "      <td>NaN</td>\n",
       "    </tr>\n",
       "    <tr>\n",
       "      <th>62422</th>\n",
       "      <td>209171</td>\n",
       "      <td>Women of Devil's Island (1962)</td>\n",
       "      <td>Action|Adventure|Drama</td>\n",
       "      <td>NaN</td>\n",
       "      <td>NaN</td>\n",
       "      <td>NaN</td>\n",
       "    </tr>\n",
       "  </tbody>\n",
       "</table>\n",
       "</div>"
      ],
      "text/plain": [
       "       movieId                           title                  genres  \\\n",
       "62413   209145                  Liberté (2019)                   Drama   \n",
       "62414   209147     The Carpet of Horror (1962)            Crime|Horror   \n",
       "62415   209151          Mao Zedong 1949 (2019)      (no genres listed)   \n",
       "62416   209153             Happy Flight (2008)            Comedy|Drama   \n",
       "62417   209155      Santosh Subramaniam (2008)   Action|Comedy|Romance   \n",
       "62418   209157                       We (2018)                   Drama   \n",
       "62419   209159       Window of the Soul (2001)             Documentary   \n",
       "62420   209163                Bad Poems (2018)            Comedy|Drama   \n",
       "62421   209169             A Girl Thing (2001)      (no genres listed)   \n",
       "62422   209171  Women of Devil's Island (1962)  Action|Adventure|Drama   \n",
       "\n",
       "      title_cast director plot_keywords  \n",
       "62413        NaN      NaN           NaN  \n",
       "62414        NaN      NaN           NaN  \n",
       "62415        NaN      NaN           NaN  \n",
       "62416        NaN      NaN           NaN  \n",
       "62417        NaN      NaN           NaN  \n",
       "62418        NaN      NaN           NaN  \n",
       "62419        NaN      NaN           NaN  \n",
       "62420        NaN      NaN           NaN  \n",
       "62421        NaN      NaN           NaN  \n",
       "62422        NaN      NaN           NaN  "
      ]
     },
     "execution_count": 27,
     "metadata": {},
     "output_type": "execute_result"
    }
   ],
   "source": [
    "df_train.tail(10)"
   ]
  },
  {
   "cell_type": "markdown",
   "id": "b426f060",
   "metadata": {},
   "source": [
    "<br>\n",
    "\n",
    "#### 4.1.2 Cleaning the Selected features\n",
    "\n",
    "The genres and plot keywords feature contains genres and keywords seperated by the '|' character. There is a need to replace the seperator character with a space. On the director feature, there is a need to remove the space between the director name and surname; this is so that the model will not percieve any similarity between Albert Johnson and Albert Robert. They are totally different persons. And lastly, merging the features together and changing them to all lowercasing."
   ]
  },
  {
   "cell_type": "code",
   "execution_count": 28,
   "id": "d140484f",
   "metadata": {},
   "outputs": [
    {
     "data": {
      "text/plain": [
       "0    Adventure Animation Children Comedy Fantasy Jo...\n",
       "1    Adventure Children Fantasy JonathanHensleigh b...\n",
       "2    Comedy Romance MarkStevenJohnson boatlakeneigh...\n",
       "3    Comedy Drama Romance TerryMcMillan black ameri...\n",
       "4    Comedy AlbertHackett fatherhooddobermandogmansion\n",
       "dtype: object"
      ]
     },
     "execution_count": 28,
     "metadata": {},
     "output_type": "execute_result"
    }
   ],
   "source": [
    "# handle missing data\n",
    "df_train.fillna(' ', inplace=True)\n",
    "\n",
    "# replacing \"|\" and \"(no genres listed)\" with ' ' in genre\n",
    "df_train['genres'] = df_train['genres'].apply(lambda x: x.replace(\"|\" , ' ')\n",
    "                                       .replace(\"(no genres listed)\", ' '))\n",
    "\n",
    "# replacing \"|\" and \" \" with ' ' in director\n",
    "df_train['director'] = df_train['director'].apply(lambda x: ((x+'|'))\n",
    "                                            .replace(\" \", '')\n",
    "                                            .replace(\"|\", ''))\n",
    "\n",
    "# replace \"|\" with ' ' in plot_keywords\n",
    "df_train['plot_keywords'] = df_train['plot_keywords'].apply(lambda x: x.replace(\"|\", ''))\n",
    "\n",
    "# Merge the genres, plot_keywords and director names as our major predictors\n",
    "df_train_string = df_train['genres'] + \" \" + df_train['director'] + \" \" + df_train['plot_keywords']\n",
    "\n",
    "# change to lower case\n",
    "df_train_string.apply(str.lower)\n",
    "\n",
    "# view predictors\n",
    "df_train_string.head()"
   ]
  },
  {
   "cell_type": "markdown",
   "id": "fe9dbeb8",
   "metadata": {},
   "source": [
    "#### 4.1.3 Vectorization\n",
    "\n",
    "To create a model, there is a need to have a set of feature(s) with numerical values since most models only accept numerical values for feature sets. For this project, our feature is a string of words. Hence there is a need to create vectors of digits from these words. The process is called Vectorization.\n",
    "\n",
    "For this project we define a vectorizer with the following tuning\n",
    "- analyser = 'word'\n",
    "- ngram_range = (1, 1)\n",
    "- max_df = 0.3\n",
    "- min_df = 20\n",
    "- stop_words = 'english'"
   ]
  },
  {
   "cell_type": "code",
   "execution_count": 29,
   "id": "42f81104",
   "metadata": {},
   "outputs": [
    {
     "data": {
      "text/plain": [
       "(62423, 482)"
      ]
     },
     "execution_count": 29,
     "metadata": {},
     "output_type": "execute_result"
    }
   ],
   "source": [
    "vectorizer = TfidfVectorizer(analyzer='word', ngram_range=(1, 1), min_df=10, max_df=0.5, stop_words='english')\n",
    "features = vectorizer.fit_transform(df_train_string)\n",
    "\n",
    "features.shape"
   ]
  },
  {
   "cell_type": "markdown",
   "id": "459082d2",
   "metadata": {},
   "source": [
    "<br>\n",
    "\n",
    "### 4.2 Recommending\n",
    "\n",
    "This section contains functions for making movie recommendation for a user using the vectorised features from the previous section. The section contains four functions "
   ]
  },
  {
   "cell_type": "markdown",
   "id": "a7608cbf",
   "metadata": {},
   "source": [
    "#### 4.2.1 Retrieving Top N Movies Rated by a User\n",
    "\n",
    "To perform content based filtering, there is a need to retrieve all movies rated by the user under focus sorted by the rating the user ascribe to them in descending order. "
   ]
  },
  {
   "cell_type": "code",
   "execution_count": 16,
   "id": "cadf4b8c",
   "metadata": {},
   "outputs": [],
   "source": [
    "#function to collect all movies rated by a particular user\n",
    "\n",
    "def all_user_rated_movies(userId, n):\n",
    "    rated_movies = df_rating[df_rating['userId'] == userId]\n",
    "    rated_sorted =  rated_movies.sort_values(by='rating', ascending=False)\n",
    "    return rated_sorted['movieId'].iloc[:n]"
   ]
  },
  {
   "cell_type": "markdown",
   "id": "2bc52580",
   "metadata": {},
   "source": [
    "#### 4.2.2 Retrieving All Unseen Movies by a User\n",
    "\n",
    "Similarly, there is also a need to retrieve all movies previously unseen by a user from which we can make recommendation from to avoid recommending movies which has previously been seen by a user."
   ]
  },
  {
   "cell_type": "code",
   "execution_count": 17,
   "id": "eff441a6",
   "metadata": {},
   "outputs": [],
   "source": [
    "def all_unseen_movies(userId):\n",
    "    unseen_movies = df_rating[df_rating['userId'] != userId]['movieId']\n",
    "    return df_movies[df_movies['movieId'].isin(unseen_movies)].index"
   ]
  },
  {
   "cell_type": "markdown",
   "id": "dd79f3cf",
   "metadata": {},
   "source": [
    "#### 4.2.3 Recommending Top N Unseen Movies by user\n",
    "\n",
    "Using the cosine similarity, the top N similar movies to each top rated movies by the user is recommended for the user."
   ]
  },
  {
   "cell_type": "code",
   "execution_count": 18,
   "id": "c9f31838",
   "metadata": {},
   "outputs": [],
   "source": [
    "# Recommend the Top N movies for each top rated movie by a user\n",
    "\n",
    "def recommend(movie_df, userId, n=10):\n",
    "    top_rated_movies_id = all_user_rated_movies(userId, int(n/2))\n",
    "    unseen_movies = all_unseen_movies(userId)\n",
    "    similarity_list = []\n",
    "    \n",
    "    for movieId in list(top_rated_movies_id):\n",
    "        movie_index = movie_df[movie_df['movieId'] == movieId].index[0]\n",
    "        sim_matrix = cosine_similarity(features[movie_index], features[unseen_movies])[0]\n",
    "        \n",
    "        for i in range(2):\n",
    "            similarity_list.append(np.argmax(sim_matrix))\n",
    "            sim_matrix[np.argmax(sim_matrix)] = 0\n",
    "        \n",
    "    return df_train.iloc[similarity_list]"
   ]
  },
  {
   "cell_type": "markdown",
   "id": "c31c4562",
   "metadata": {},
   "source": [
    "Using the recommend function to recommend 15 movies for user with userId 100"
   ]
  },
  {
   "cell_type": "code",
   "execution_count": 24,
   "id": "75d3fa68",
   "metadata": {
    "scrolled": false
   },
   "outputs": [
    {
     "data": {
      "text/html": [
       "<div>\n",
       "<style scoped>\n",
       "    .dataframe tbody tr th:only-of-type {\n",
       "        vertical-align: middle;\n",
       "    }\n",
       "\n",
       "    .dataframe tbody tr th {\n",
       "        vertical-align: top;\n",
       "    }\n",
       "\n",
       "    .dataframe thead th {\n",
       "        text-align: right;\n",
       "    }\n",
       "</style>\n",
       "<table border=\"1\" class=\"dataframe\">\n",
       "  <thead>\n",
       "    <tr style=\"text-align: right;\">\n",
       "      <th></th>\n",
       "      <th>movieId</th>\n",
       "      <th>title</th>\n",
       "      <th>genres</th>\n",
       "      <th>title_cast</th>\n",
       "      <th>director</th>\n",
       "      <th>plot_keywords</th>\n",
       "    </tr>\n",
       "  </thead>\n",
       "  <tbody>\n",
       "    <tr>\n",
       "      <th>685</th>\n",
       "      <td>700</td>\n",
       "      <td>Angus (1995)</td>\n",
       "      <td>Comedy</td>\n",
       "      <td>Perry Anzilotti|Kathy Bates|Robert Curtis Brow...</td>\n",
       "      <td>ChrisCrutcher</td>\n",
       "      <td>based on short storyindependent filmcharacter ...</td>\n",
       "    </tr>\n",
       "    <tr>\n",
       "      <th>11164</th>\n",
       "      <td>48783</td>\n",
       "      <td>Flags of Our Fathers (2006)</td>\n",
       "      <td>Drama War</td>\n",
       "      <td>Ryan Phillippe|Jesse Bradford|Adam Beach|John ...</td>\n",
       "      <td>WilliamBroylesJr.</td>\n",
       "      <td>reference to arizonapima indianjapanese soldie...</td>\n",
       "    </tr>\n",
       "    <tr>\n",
       "      <th>258</th>\n",
       "      <td>261</td>\n",
       "      <td>Little Women (1994)</td>\n",
       "      <td>Drama</td>\n",
       "      <td>Winona Ryder|Gabriel Byrne|Trini Alvarado|Sama...</td>\n",
       "      <td>LouisaMayAlcott</td>\n",
       "      <td>american civil warf ratedfemale protagonistref...</td>\n",
       "    </tr>\n",
       "    <tr>\n",
       "      <th>897</th>\n",
       "      <td>918</td>\n",
       "      <td>Meet Me in St. Louis (1944)</td>\n",
       "      <td>Musical</td>\n",
       "      <td></td>\n",
       "      <td></td>\n",
       "      <td></td>\n",
       "    </tr>\n",
       "    <tr>\n",
       "      <th>2</th>\n",
       "      <td>3</td>\n",
       "      <td>Grumpier Old Men (1995)</td>\n",
       "      <td>Comedy Romance</td>\n",
       "      <td>Walter Matthau|Jack Lemmon|Sophia Loren|Ann-Ma...</td>\n",
       "      <td>MarkStevenJohnson</td>\n",
       "      <td>boatlakeneighborrivalry</td>\n",
       "    </tr>\n",
       "    <tr>\n",
       "      <th>62</th>\n",
       "      <td>63</td>\n",
       "      <td>Don't Be a Menace to South Central While Drink...</td>\n",
       "      <td>Comedy Crime</td>\n",
       "      <td>Shawn Wayans|Marlon Wayans|Tracey Cherelle Jon...</td>\n",
       "      <td>SouthCentral</td>\n",
       "      <td>hoodparodygrandmothercult film</td>\n",
       "    </tr>\n",
       "  </tbody>\n",
       "</table>\n",
       "</div>"
      ],
      "text/plain": [
       "       movieId                                              title  \\\n",
       "685        700                                       Angus (1995)   \n",
       "11164    48783                        Flags of Our Fathers (2006)   \n",
       "258        261                                Little Women (1994)   \n",
       "897        918                        Meet Me in St. Louis (1944)   \n",
       "2            3                            Grumpier Old Men (1995)   \n",
       "62          63  Don't Be a Menace to South Central While Drink...   \n",
       "\n",
       "               genres                                         title_cast  \\\n",
       "685            Comedy  Perry Anzilotti|Kathy Bates|Robert Curtis Brow...   \n",
       "11164       Drama War  Ryan Phillippe|Jesse Bradford|Adam Beach|John ...   \n",
       "258             Drama  Winona Ryder|Gabriel Byrne|Trini Alvarado|Sama...   \n",
       "897           Musical                                                      \n",
       "2      Comedy Romance  Walter Matthau|Jack Lemmon|Sophia Loren|Ann-Ma...   \n",
       "62       Comedy Crime  Shawn Wayans|Marlon Wayans|Tracey Cherelle Jon...   \n",
       "\n",
       "                director                                      plot_keywords  \n",
       "685        ChrisCrutcher  based on short storyindependent filmcharacter ...  \n",
       "11164  WilliamBroylesJr.  reference to arizonapima indianjapanese soldie...  \n",
       "258      LouisaMayAlcott  american civil warf ratedfemale protagonistref...  \n",
       "897                                                                          \n",
       "2      MarkStevenJohnson                            boatlakeneighborrivalry  \n",
       "62          SouthCentral                     hoodparodygrandmothercult film  "
      ]
     },
     "execution_count": 24,
     "metadata": {},
     "output_type": "execute_result"
    }
   ],
   "source": [
    "recommend(df_movies, 600, 15)"
   ]
  },
  {
   "cell_type": "code",
   "execution_count": 25,
   "id": "39347b0a",
   "metadata": {},
   "outputs": [
    {
     "data": {
      "text/html": [
       "<div>\n",
       "<style scoped>\n",
       "    .dataframe tbody tr th:only-of-type {\n",
       "        vertical-align: middle;\n",
       "    }\n",
       "\n",
       "    .dataframe tbody tr th {\n",
       "        vertical-align: top;\n",
       "    }\n",
       "\n",
       "    .dataframe thead th {\n",
       "        text-align: right;\n",
       "    }\n",
       "</style>\n",
       "<table border=\"1\" class=\"dataframe\">\n",
       "  <thead>\n",
       "    <tr style=\"text-align: right;\">\n",
       "      <th></th>\n",
       "      <th>movieId</th>\n",
       "      <th>title</th>\n",
       "      <th>genres</th>\n",
       "      <th>title_cast</th>\n",
       "      <th>director</th>\n",
       "      <th>plot_keywords</th>\n",
       "    </tr>\n",
       "  </thead>\n",
       "  <tbody>\n",
       "    <tr>\n",
       "      <th>239</th>\n",
       "      <td>242</td>\n",
       "      <td>Farinelli: il castrato (1994)</td>\n",
       "      <td>Drama Musical</td>\n",
       "      <td>Stefano Dionisi|Enrico Lo Verso|Elsa Zylberste...</td>\n",
       "      <td>AndréeCorbiau</td>\n",
       "      <td>bare chested malemale protagonistsecretbrother...</td>\n",
       "    </tr>\n",
       "    <tr>\n",
       "      <th>8434</th>\n",
       "      <td>25903</td>\n",
       "      <td>Mask of Dimitrios, The (1944)</td>\n",
       "      <td>Crime Drama Film-Noir Mystery</td>\n",
       "      <td></td>\n",
       "      <td></td>\n",
       "      <td></td>\n",
       "    </tr>\n",
       "    <tr>\n",
       "      <th>16</th>\n",
       "      <td>17</td>\n",
       "      <td>Sense and Sensibility (1995)</td>\n",
       "      <td>Drama Romance</td>\n",
       "      <td>James Fleet|Tom Wilkinson|Harriet Walter|Kate ...</td>\n",
       "      <td>JaneAusten</td>\n",
       "      <td>england19th centurybased on novelblack hair</td>\n",
       "    </tr>\n",
       "    <tr>\n",
       "      <th>2257</th>\n",
       "      <td>2348</td>\n",
       "      <td>Sid and Nancy (1986)</td>\n",
       "      <td>Drama</td>\n",
       "      <td></td>\n",
       "      <td></td>\n",
       "      <td></td>\n",
       "    </tr>\n",
       "    <tr>\n",
       "      <th>486</th>\n",
       "      <td>491</td>\n",
       "      <td>Man Without a Face, The (1993)</td>\n",
       "      <td>Drama</td>\n",
       "      <td>Mel Gibson|Nick Stahl|Margaret Whitton|Fay Mas...</td>\n",
       "      <td>IsabelleHolland</td>\n",
       "      <td>directorial debutdisfigured facedirected by st...</td>\n",
       "    </tr>\n",
       "    <tr>\n",
       "      <th>15230</th>\n",
       "      <td>80432</td>\n",
       "      <td>Our Relations (1936)</td>\n",
       "      <td>Comedy</td>\n",
       "      <td></td>\n",
       "      <td></td>\n",
       "      <td></td>\n",
       "    </tr>\n",
       "    <tr>\n",
       "      <th>18</th>\n",
       "      <td>19</td>\n",
       "      <td>Ace Ventura: When Nature Calls (1995)</td>\n",
       "      <td>Comedy</td>\n",
       "      <td>Jim Carrey|Ian McNeice|Simon Callow|Maynard Ez...</td>\n",
       "      <td>JackBernstein</td>\n",
       "      <td>male objectificationkidnappingcaught masturbat...</td>\n",
       "    </tr>\n",
       "    <tr>\n",
       "      <th>1653</th>\n",
       "      <td>1719</td>\n",
       "      <td>Sweet Hereafter, The (1997)</td>\n",
       "      <td>Drama</td>\n",
       "      <td>Ian Holm|Caerthan Banks|Sarah Polley|Tom McCam...</td>\n",
       "      <td>RussellBanks</td>\n",
       "      <td>slut shaminglawyercommunityschool bus</td>\n",
       "    </tr>\n",
       "  </tbody>\n",
       "</table>\n",
       "</div>"
      ],
      "text/plain": [
       "       movieId                                  title  \\\n",
       "239        242          Farinelli: il castrato (1994)   \n",
       "8434     25903          Mask of Dimitrios, The (1944)   \n",
       "16          17           Sense and Sensibility (1995)   \n",
       "2257      2348                   Sid and Nancy (1986)   \n",
       "486        491         Man Without a Face, The (1993)   \n",
       "15230    80432                   Our Relations (1936)   \n",
       "18          19  Ace Ventura: When Nature Calls (1995)   \n",
       "1653      1719            Sweet Hereafter, The (1997)   \n",
       "\n",
       "                              genres  \\\n",
       "239                    Drama Musical   \n",
       "8434   Crime Drama Film-Noir Mystery   \n",
       "16                     Drama Romance   \n",
       "2257                           Drama   \n",
       "486                            Drama   \n",
       "15230                         Comedy   \n",
       "18                            Comedy   \n",
       "1653                           Drama   \n",
       "\n",
       "                                              title_cast         director  \\\n",
       "239    Stefano Dionisi|Enrico Lo Verso|Elsa Zylberste...    AndréeCorbiau   \n",
       "8434                                                                        \n",
       "16     James Fleet|Tom Wilkinson|Harriet Walter|Kate ...       JaneAusten   \n",
       "2257                                                                        \n",
       "486    Mel Gibson|Nick Stahl|Margaret Whitton|Fay Mas...  IsabelleHolland   \n",
       "15230                                                                       \n",
       "18     Jim Carrey|Ian McNeice|Simon Callow|Maynard Ez...    JackBernstein   \n",
       "1653   Ian Holm|Caerthan Banks|Sarah Polley|Tom McCam...     RussellBanks   \n",
       "\n",
       "                                           plot_keywords  \n",
       "239    bare chested malemale protagonistsecretbrother...  \n",
       "8434                                                      \n",
       "16           england19th centurybased on novelblack hair  \n",
       "2257                                                      \n",
       "486    directorial debutdisfigured facedirected by st...  \n",
       "15230                                                     \n",
       "18     male objectificationkidnappingcaught masturbat...  \n",
       "1653               slut shaminglawyercommunityschool bus  "
      ]
     },
     "execution_count": 25,
     "metadata": {},
     "output_type": "execute_result"
    }
   ],
   "source": [
    "recommend(df_movies, 25, 15)"
   ]
  },
  {
   "cell_type": "code",
   "execution_count": 21,
   "id": "dda29cc1",
   "metadata": {},
   "outputs": [
    {
     "data": {
      "text/html": [
       "<div>\n",
       "<style scoped>\n",
       "    .dataframe tbody tr th:only-of-type {\n",
       "        vertical-align: middle;\n",
       "    }\n",
       "\n",
       "    .dataframe tbody tr th {\n",
       "        vertical-align: top;\n",
       "    }\n",
       "\n",
       "    .dataframe thead th {\n",
       "        text-align: right;\n",
       "    }\n",
       "</style>\n",
       "<table border=\"1\" class=\"dataframe\">\n",
       "  <thead>\n",
       "    <tr style=\"text-align: right;\">\n",
       "      <th></th>\n",
       "      <th>movieId</th>\n",
       "      <th>title</th>\n",
       "      <th>genres</th>\n",
       "      <th>title_cast</th>\n",
       "      <th>director</th>\n",
       "      <th>plot_keywords</th>\n",
       "    </tr>\n",
       "  </thead>\n",
       "  <tbody>\n",
       "    <tr>\n",
       "      <th>685</th>\n",
       "      <td>700</td>\n",
       "      <td>Angus (1995)</td>\n",
       "      <td>Comedy</td>\n",
       "      <td>Perry Anzilotti|Kathy Bates|Robert Curtis Brow...</td>\n",
       "      <td>ChrisCrutcher</td>\n",
       "      <td>based on short storyindependent filmcharacter ...</td>\n",
       "    </tr>\n",
       "    <tr>\n",
       "      <th>11164</th>\n",
       "      <td>48783</td>\n",
       "      <td>Flags of Our Fathers (2006)</td>\n",
       "      <td>Drama War</td>\n",
       "      <td>Ryan Phillippe|Jesse Bradford|Adam Beach|John ...</td>\n",
       "      <td>WilliamBroylesJr.</td>\n",
       "      <td>reference to arizonapima indianjapanese soldie...</td>\n",
       "    </tr>\n",
       "    <tr>\n",
       "      <th>258</th>\n",
       "      <td>261</td>\n",
       "      <td>Little Women (1994)</td>\n",
       "      <td>Drama</td>\n",
       "      <td>Winona Ryder|Gabriel Byrne|Trini Alvarado|Sama...</td>\n",
       "      <td>LouisaMayAlcott</td>\n",
       "      <td>american civil warf ratedfemale protagonistref...</td>\n",
       "    </tr>\n",
       "    <tr>\n",
       "      <th>897</th>\n",
       "      <td>918</td>\n",
       "      <td>Meet Me in St. Louis (1944)</td>\n",
       "      <td>Musical</td>\n",
       "      <td></td>\n",
       "      <td></td>\n",
       "      <td></td>\n",
       "    </tr>\n",
       "    <tr>\n",
       "      <th>2</th>\n",
       "      <td>3</td>\n",
       "      <td>Grumpier Old Men (1995)</td>\n",
       "      <td>Comedy Romance</td>\n",
       "      <td>Walter Matthau|Jack Lemmon|Sophia Loren|Ann-Ma...</td>\n",
       "      <td>MarkStevenJohnson</td>\n",
       "      <td>boatlakeneighborrivalry</td>\n",
       "    </tr>\n",
       "    <tr>\n",
       "      <th>62</th>\n",
       "      <td>63</td>\n",
       "      <td>Don't Be a Menace to South Central While Drink...</td>\n",
       "      <td>Comedy Crime</td>\n",
       "      <td>Shawn Wayans|Marlon Wayans|Tracey Cherelle Jon...</td>\n",
       "      <td>SouthCentral</td>\n",
       "      <td>hoodparodygrandmothercult film</td>\n",
       "    </tr>\n",
       "  </tbody>\n",
       "</table>\n",
       "</div>"
      ],
      "text/plain": [
       "       movieId                                              title  \\\n",
       "685        700                                       Angus (1995)   \n",
       "11164    48783                        Flags of Our Fathers (2006)   \n",
       "258        261                                Little Women (1994)   \n",
       "897        918                        Meet Me in St. Louis (1944)   \n",
       "2            3                            Grumpier Old Men (1995)   \n",
       "62          63  Don't Be a Menace to South Central While Drink...   \n",
       "\n",
       "               genres                                         title_cast  \\\n",
       "685            Comedy  Perry Anzilotti|Kathy Bates|Robert Curtis Brow...   \n",
       "11164       Drama War  Ryan Phillippe|Jesse Bradford|Adam Beach|John ...   \n",
       "258             Drama  Winona Ryder|Gabriel Byrne|Trini Alvarado|Sama...   \n",
       "897           Musical                                                      \n",
       "2      Comedy Romance  Walter Matthau|Jack Lemmon|Sophia Loren|Ann-Ma...   \n",
       "62       Comedy Crime  Shawn Wayans|Marlon Wayans|Tracey Cherelle Jon...   \n",
       "\n",
       "                director                                      plot_keywords  \n",
       "685        ChrisCrutcher  based on short storyindependent filmcharacter ...  \n",
       "11164  WilliamBroylesJr.  reference to arizonapima indianjapanese soldie...  \n",
       "258      LouisaMayAlcott  american civil warf ratedfemale protagonistref...  \n",
       "897                                                                          \n",
       "2      MarkStevenJohnson                            boatlakeneighborrivalry  \n",
       "62          SouthCentral                     hoodparodygrandmothercult film  "
      ]
     },
     "execution_count": 21,
     "metadata": {},
     "output_type": "execute_result"
    }
   ],
   "source": [
    "recommend(df_movies, 600, 15)"
   ]
  },
  {
   "cell_type": "markdown",
   "id": "6dcd53ee",
   "metadata": {},
   "source": [
    "<br><br>\n",
    "\n",
    " <a id=\"five\"></a>\n",
    "## 5.0 Collaborative Filtering\n",
    "\n",
    "<a href=#cont>Back to Table of Contents</a>\n",
    "\n",
    "This section of the project aims at making recommenadations and rating using the collaborative aproach. This approach uses the similarity between users to make recommendations. It is based off the assumption that if a user likes a particular item, other users sharing similar trait with the user will most likely like the item. Hence, if a user rates a particular movie very high, there is a high chance another user who enjoys similar rating patern with the use will rank the movie high. \n",
    "\n",
    "For the collaborative filtering, we use the surprise package for handling data loading, data manipulation, modelling and testing."
   ]
  },
  {
   "cell_type": "markdown",
   "id": "c6646578",
   "metadata": {},
   "source": [
    "<br>\n",
    "\n",
    "### 5.1Reducing the Dataset Size"
   ]
  },
  {
   "cell_type": "markdown",
   "id": "882bef68",
   "metadata": {},
   "source": [
    "To reduce the dimension of our training dataset, we filter out movies with low ratings ans users who have only rated few movies."
   ]
  },
  {
   "cell_type": "code",
   "execution_count": null,
   "id": "2735d095",
   "metadata": {},
   "outputs": [],
   "source": []
  }
 ],
 "metadata": {
  "kernelspec": {
   "display_name": "Python 3 (ipykernel)",
   "language": "python",
   "name": "python3"
  },
  "language_info": {
   "codemirror_mode": {
    "name": "ipython",
    "version": 3
   },
   "file_extension": ".py",
   "mimetype": "text/x-python",
   "name": "python",
   "nbconvert_exporter": "python",
   "pygments_lexer": "ipython3",
   "version": "3.9.7"
  }
 },
 "nbformat": 4,
 "nbformat_minor": 5
}
