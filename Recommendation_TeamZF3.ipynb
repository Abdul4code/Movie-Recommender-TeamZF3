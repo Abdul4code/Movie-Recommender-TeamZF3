{
 "cells": [
  {
   "cell_type": "markdown",
   "id": "7dc42a1c",
   "metadata": {},
   "source": [
    "# Movie Recommendation and Rating - Team ZF3\n",
    "\n",
    "© Explore Data Science Academy 2022\n",
    "\n",
    "---\n",
    "\n",
    "###### Team Members\n",
    "\n",
    "1. Ubasinachi Eleonu\n",
    "2. Bongani Mkhize\n",
    "3. Abubakar Abdulkadir\n",
    "4. Michael Mamah\n",
    "5. Joseph Okonkwo\n",
    "6. \n",
    "\n",
    "---"
   ]
  },
  {
   "cell_type": "markdown",
   "id": "4dd0fc14",
   "metadata": {},
   "source": [
    "## Project Overview\n",
    "\n",
    "<img src=\"https://th.bing.com/th/id/R.f32f6c0a36b1166033122544cf0dd8a1?rik=QmYumf41lwVQgA&pid=ImgRaw&r=0\" style='margin-top:30x; margin-bottom:30px'/>\n",
    "It is almost impossible for a person to attempt to consume all the products and choices available. It is even most likely that a person will not have the time, patience or resources to even view the myraids of choices in terms of products and services available at his disposal. Hence, it becomes almost imperative for producers of goods and services to help narrow down the choices of products presented to their users in an attempt to reduce overwhelming them and help them reach thier relevant products and services without waste of time and as a result, helping them have a better user experience, while also exposing them to more products and services they might have never discovered otherwise. This help comes in the form of  <b> recommendation </b>\n",
    "\n",
    "Simple as the above sounds, it is not as easy to implement because the traditional approach would have been to deploy product recommender agents (like customer service representatives) who will handle recommendation requests from customers. But these agents will be unable to learn about every of thier customers and what products and services they might want and find useful. So how does one recommend products and services to people he does not know?\n",
    "\n",
    "The response is using Recommender Systems. Recommender systems are machine learning systems that help users discover products and services based on the relationship between the users and the products.Recommender systems are like salesmen who have learnt to recognize customers and the products they might like based on their history and preferences. Recommender systems are so common place now that every time you shop online, a  recommendation system is guiding you towards the most likely product you might purchase.\n",
    "\n",
    "There are several use cases of the recommender system. But this project will focus on movie recommendation.\n",
    "\n",
    "---"
   ]
  },
  {
   "cell_type": "markdown",
   "id": "e5ea8e42",
   "metadata": {},
   "source": [
    "## 1.0 Project Objective\n",
    "\n",
    "To build a recommendation system capable of recommending movies to users and predicting ratings a user might give a movie they have never seen bebfore. <br ><br>"
   ]
  },
  {
   "cell_type": "markdown",
   "id": "d3289f47",
   "metadata": {},
   "source": [
    "## 2.0 Packages"
   ]
  },
  {
   "cell_type": "markdown",
   "id": "a5765a86",
   "metadata": {},
   "source": [
    "### 2.1. Installing Packages\n",
    "\n",
    "For this project, two major libraries were leveraged on - sklearn and surprise. Sklearn is the most mopular of the two."
   ]
  },
  {
   "cell_type": "code",
   "execution_count": null,
   "id": "058ec304",
   "metadata": {},
   "outputs": [],
   "source": [
    "!pip install scikit-surprise"
   ]
  },
  {
   "cell_type": "markdown",
   "id": "a5a3694f",
   "metadata": {},
   "source": [
    "- <a href=\"http://surpriselib.com/\"> Surprise</a> is a Python scikit for building and analyzing recommender systems that deal with explicit rating data. It does not support implicit ratings or content-based information. Surprise was used in this project to make collaborative prediction. <br>"
   ]
  },
  {
   "cell_type": "markdown",
   "id": "f8e78f84",
   "metadata": {},
   "source": [
    "### 2.2 Importing Packages "
   ]
  },
  {
   "cell_type": "code",
   "execution_count": null,
   "id": "48f5c979",
   "metadata": {},
   "outputs": [],
   "source": [
    "# data loading and preprocessing \n",
    "import numpy as np \n",
    "import pandas as pd \n",
    "import pickle as pkl\n",
    "from collections import Counter\n",
    "from surprise import Reader\n",
    "from surprise import Dataset\n",
    "import math\n",
    "\n",
    "# Visualisation\n",
    "import matplotlib.pyplot as plt\n",
    "import seaborn as sns\n",
    "\n",
    "# feature extration and similarity metrics\n",
    "from sklearn.feature_extraction.text import TfidfVectorizer, CountVectorizer\n",
    "from sklearn.metrics.pairwise import linear_kernel, cosine_similarity\n",
    "\n",
    "#modeling and validation\n",
    "from surprise.model_selection import cross_validate\n",
    "from surprise import NormalPredictor\n",
    "from surprise import KNNBasic\n",
    "from surprise import KNNWithMeans\n",
    "from surprise import KNNWithZScore\n",
    "from surprise import KNNBaseline\n",
    "from surprise import SVD\n",
    "from surprise import BaselineOnly\n",
    "from surprise import SVDpp\n",
    "from surprise import NMF\n",
    "from surprise import SlopeOne\n",
    "from surprise import CoClustering\n",
    "from surprise.accuracy import rmse\n",
    "from surprise import accuracy\n",
    "from surprise.model_selection import train_test_split\n",
    "from surprise.model_selection import GridSearchCV"
   ]
  },
  {
   "cell_type": "markdown",
   "id": "039aa0d9",
   "metadata": {},
   "source": [
    "<br />\n",
    "\n",
    "## 3.0 Loading Datasets\n",
    "\n",
    "    \n",
    "The dataset used for this project is the MovieLens dataset maintained by the GroupLens research group in the Department of Computer Science and Engineering at the University of Minnesota. Additional movie content data was legally scraped from IMDB. The dataset can be found <a href=\"https://www.kaggle.com/competitions/edsa-movie-recommendation-2022/data\"> here</a>. Pandas library will be used to access and Manipulate the datasets."
   ]
  },
  {
   "cell_type": "code",
   "execution_count": 309,
   "id": "1f488215",
   "metadata": {},
   "outputs": [],
   "source": [
    "# read movie dataset\n",
    "df_movies = pd.read_csv('data/movies.csv')"
   ]
  },
  {
   "cell_type": "code",
   "execution_count": 310,
   "id": "5cc9acc9",
   "metadata": {},
   "outputs": [],
   "source": [
    "# read the ratings dataset\n",
    "df_rating = pd.read_csv('data/train.csv')"
   ]
  },
  {
   "cell_type": "code",
   "execution_count": 311,
   "id": "a4db1727",
   "metadata": {},
   "outputs": [],
   "source": [
    "# read the movie additional information\n",
    "df_meta = pd.read_csv('data/imdb_data.csv')"
   ]
  },
  {
   "cell_type": "markdown",
   "id": "d559cabe",
   "metadata": {},
   "source": [
    "<br><br>\n",
    "## 4.0 Exploratory Data Analysis\n",
    "\n",
    "\n",
    "Exploratory data analysis is an approach to analyzing data sets to summarize their main characteristics, often with visual methods. Primarily, EDA is for seeing what the data can tell us beyond the formal modeling or hypothesis testing task.This approach for data analysis uses many tools(mainly graphical to maximize insight into a data set, extract important variables, detect outliers and anomalies, amongst other details that is missed when looking at DataFrame. This step is very important especially when we model the data in order to apply Machine Learning techniques. <br><br>"
   ]
  },
  {
   "cell_type": "markdown",
   "id": "ad0e4cac",
   "metadata": {},
   "source": [
    "### 4.1 Overview of Our Datasets"
   ]
  },
  {
   "cell_type": "markdown",
   "id": "18937148",
   "metadata": {},
   "source": [
    "The datasets for this project are eight. A brief overview is available <a href=\"https://www.kaggle.com/competitions/edsa-movie-recommendation-2022/data\"> here</a>. For the purose of this project, we will be looking at three of those dataset (already imported above) which our models will most likely be relying on. "
   ]
  },
  {
   "cell_type": "markdown",
   "id": "b3e3150d",
   "metadata": {},
   "source": [
    "### 4.2 Movie Ratings\n",
    "\n",
    "We explore the scale, the distribution, ratings by movies, ratings by genre, average movie rating etc <br>"
   ]
  },
  {
   "cell_type": "markdown",
   "id": "6ed873fa",
   "metadata": {},
   "source": [
    "#### 4.2.1 Ratings Distribution"
   ]
  },
  {
   "cell_type": "code",
   "execution_count": 313,
   "id": "befa8687",
   "metadata": {},
   "outputs": [
    {
     "data": {
      "image/png": "[encoded data removed]",
      "text/plain": [
       "<Figure size 576x432 with 1 Axes>"
      ]
     },
     "metadata": {
      "needs_background": "light"
     },
     "output_type": "display_data"
    }
   ],
   "source": [
    "fig, ax = plt.subplots(figsize = (8, 6))\n",
    "sns.countplot(data=df_rating, x='rating', ax=ax, palette=\"Blues_d\")\n",
    "plt.title('Movie Ratings Distribution')\n",
    "plt.ylabel(\"Total ratings\")\n",
    "plt.show()"
   ]
  },
  {
   "cell_type": "markdown",
   "id": "b1b7d209",
   "metadata": {},
   "source": [
    "The Top three most common ratings are 3.0, 4.0 and 5.0. Generally, the ratings for movies has been good as the chart skews to the left. A look at the chart, we can observe that users prefer to rate movies in integers say 3 than thier float say 3.5. For an instance 1.0 is more frequent than 1.5, 2.0 than 2.5, 3.0 than 3.5 and goes all the way."
   ]
  },
  {
   "cell_type": "markdown",
   "id": "cceee369",
   "metadata": {},
   "source": [
    "#### 4.2.2 Most rated Movies"
   ]
  },
  {
   "cell_type": "code",
   "execution_count": 314,
   "id": "1d1675a8",
   "metadata": {},
   "outputs": [
    {
     "data": {
      "image/png": "[encoded data removed]",
      "text/plain": [
       "<Figure size 1080x504 with 1 Axes>"
      ]
     },
     "metadata": {
      "needs_background": "light"
     },
     "output_type": "display_data"
    }
   ],
   "source": [
    "fig, ax = plt.subplots(figsize = (15, 7))\n",
    "data = df_rating['movieId'].value_counts().sort_values(ascending=False)[0:20]\n",
    "titles = [df_movies.loc[movieId, 'title'] for movieId in data.index]\n",
    "sns.barplot(y=titles, x=data, ax=ax, palette=\"Blues_d\")\n",
    "plt.title('Top 10 Most rated Movies')\n",
    "plt.ylabel(\"Movie Title\")\n",
    "plt.xlabel(\"Number of Ratings Recieved\")\n",
    "plt.show()"
   ]
  },
  {
   "cell_type": "markdown",
   "id": "0573cf4e",
   "metadata": {},
   "source": [
    "The most rated movies are movies produced in the 90's. Although, these chart does not determine if the movies are positevly or negatively rated. It only shows the total number of ratings they are able to garner. The question is, which movies are best rated."
   ]
  },
  {
   "cell_type": "markdown",
   "id": "4dbb86cb",
   "metadata": {},
   "source": [
    "#### 4.2.3 Best Rated Movies"
   ]
  },
  {
   "cell_type": "code",
   "execution_count": 346,
   "id": "b3e5fb2f",
   "metadata": {},
   "outputs": [
    {
     "data": {
      "image/png": "[encoded data removed]",
      "text/plain": [
       "<Figure size 1080x504 with 1 Axes>"
      ]
     },
     "metadata": {
      "needs_background": "light"
     },
     "output_type": "display_data"
    }
   ],
   "source": [
    "# considering the average rating of movies with 50 votes and above.\n",
    "movies_per_rating = dict(Counter(df_rating.movieId))\n",
    "required_movies = []\n",
    "for key, value in movies_per_rating.items():\n",
    "    if value > 50:\n",
    "        required_movies.append(key)\n",
    "data = df_rating[df_rating['movieId'].isin(required_movies)]\n",
    "\n",
    "# calculating the average rating\n",
    "data = data.groupby('movieId')['rating'].mean().sort_values(ascending=False)[0:20]\n",
    "\n",
    "# ploting the \n",
    "fig, ax = plt.subplots(figsize = (15, 7))\n",
    "index = [df_movies[df_movies['movieId'] == x].index for x in data.index]\n",
    "titles = [df_movies[df_movies['movieId'] == movieId]['title'].iloc[0] for movieId in data.index]\n",
    "sns.barplot(y=titles, x=data.values, ax=ax, palette=\"Blues_d\")\n",
    "plt.title('Top 10 Most rated Movies')\n",
    "plt.ylabel(\"Movie Title\")\n",
    "plt.xlabel(\"Number of Ratings Recieved\")\n",
    "plt.show()"
   ]
  },
  {
   "cell_type": "markdown",
   "id": "2c863dbc",
   "metadata": {},
   "source": [
    "<br>\n",
    "\n",
    "## 5.0 Content Based Filtering\n",
    "\n",
    "\n",
    "This section of the project aims at making recommenadations and rating using the content-based aproach. This approach uses the similarity between items to make recommendations. It is based off the assumption that if a user likes a particular item, the user will like items similar to that items. Hence, if a user rates a particular movie very high, there is aa high chance the user will rank other similar movies high. "
   ]
  },
  {
   "cell_type": "markdown",
   "id": "ccc607e0",
   "metadata": {},
   "source": [
    "### 5.1 Feature Engineering and Selection\n",
    "\n",
    "\n",
    "This project considers building a recommender off the movie genre, the director and the plot keyword feature. "
   ]
  },
  {
   "cell_type": "markdown",
   "id": "c2b559c2",
   "metadata": {},
   "source": [
    "#### 5.1.1 Selecting the Required Features\n",
    "\n",
    "The movie genre is available in the movies dataset, the director and plot keywords features are in the imdb_data dataset. Hence, there is a need to merge both datasets and extract the required features. "
   ]
  },
  {
   "cell_type": "code",
   "execution_count": null,
   "id": "9824e798",
   "metadata": {},
   "outputs": [],
   "source": [
    "# Extract movieId, title_cast, director and plot_keywords from df_meta\n",
    "df_meta = df_meta[['movieId', 'director', 'plot_keywords']]\n",
    "\n",
    "\n",
    "# merge meta dataset to movies dataset to produce our train dataset\n",
    "df_train = df_movies.merge(df_meta, on='movieId', how='left')\n",
    "df_train.head()"
   ]
  },
  {
   "cell_type": "markdown",
   "id": "b426f060",
   "metadata": {},
   "source": [
    "<br>\n",
    "\n",
    "#### 5.1.2 Cleaning the Selected features\n",
    "\n",
    "The genres and plot keywords feature contains genres and keywords seperated by the '|' character. There is a need to replace the seperator character with a space. On the director feature, there is a need to remove the space between the director name and surname; this is so that the model will not percieve any similarity between Albert Johnson and Albert Robert. They are totally different persons. And lastly, merging the features together and changing them to all lowercasing."
   ]
  },
  {
   "cell_type": "code",
   "execution_count": null,
   "id": "d140484f",
   "metadata": {},
   "outputs": [],
   "source": [
    "# handle missing data\n",
    "df_train.fillna(' ', inplace=True)\n",
    "\n",
    "# replacing \"|\" and \"(no genres listed)\" with ' ' in genre\n",
    "df_train['genres'] = df_train['genres'].apply(lambda x: x.replace(\"|\" , ' ')\n",
    "                                       .replace(\"(no genres listed)\", ' '))\n",
    "\n",
    "# replacing \" \" with ' ' in director\n",
    "df_train['director'] = df_train['director'].apply(lambda x: ((x+'|'))\n",
    "                                            .replace(\" \", '')\n",
    "                                            .replace(\"|\", \" \"))\n",
    "\n",
    "# replace \"|\" with ' ' in plot_keywords\n",
    "df_train['plot_keywords'] = df_train['plot_keywords'].apply(lambda x: x.replace(\"|\", \" \"))\n",
    "\n",
    "# Merge the genres, plot_keywords and director names as our major predictors\n",
    "df_train_string = df_train['genres'] + \" \" + df_train['director'] + \" \" + df_train['plot_keywords']\n",
    "\n",
    "# change to lower case\n",
    "df_train_string.apply(str.lower)"
   ]
  },
  {
   "cell_type": "markdown",
   "id": "fe9dbeb8",
   "metadata": {},
   "source": [
    "#### 5.1.3 Vectorization\n",
    "\n",
    "To create a model, there is a need to have a set of feature(s) with numerical values since most models only accept numerical values for feature sets. For this project, our feature is a string of words. Hence there is a need to create vectors of digits from these words. The process is called Vectorization.\n",
    "\n",
    "For this project we define a vectorizer with the following tuning\n",
    "- analyser = 'word'\n",
    "- ngram_range = (1, 1)\n",
    "- max_df = 0.3\n",
    "- min_df = 20\n",
    "- stop_words = 'english'"
   ]
  },
  {
   "cell_type": "code",
   "execution_count": null,
   "id": "42f81104",
   "metadata": {},
   "outputs": [],
   "source": [
    "vectorizer = TfidfVectorizer(analyzer='word', ngram_range=(1, 1), min_df=10, max_df=0.5, stop_words='english')\n",
    "features = vectorizer.fit_transform(df_train_string)\n",
    "\n",
    "features.shape"
   ]
  },
  {
   "cell_type": "markdown",
   "id": "459082d2",
   "metadata": {},
   "source": [
    "<br>\n",
    "\n",
    "### 5.2 Recommending\n",
    "\n",
    "This section contains functions for making movie recommendation for a user using the vectorised features from the previous section. The section contains four functions "
   ]
  },
  {
   "cell_type": "markdown",
   "id": "1d29ccdd",
   "metadata": {},
   "source": [
    "#### 5.2.1 Retrieving Top N Movies Rated by a User\n",
    "\n",
    "To perform content based filtering, there is a need to retrieve all movies rated by the user under focus sorted by the rating the user ascribe to them in descending order. "
   ]
  },
  {
   "cell_type": "code",
   "execution_count": null,
   "id": "a152c0dc",
   "metadata": {},
   "outputs": [],
   "source": [
    "#function to collect all movies rated by a particular user\n",
    "\n",
    "def all_user_rated_movies(userId, n):\n",
    "    rated_movies = df_rating[df_rating['userId'] == userId]\n",
    "    rated_sorted =  rated_movies.sort_values(by='rating', ascending=False)\n",
    "    return rated_sorted['movieId'].iloc[:n]"
   ]
  },
  {
   "cell_type": "markdown",
   "id": "6cda0ef6",
   "metadata": {},
   "source": [
    "#### 5.2.1 Retrieving All Unseen Movies by a User\n",
    "\n",
    "Similarly, there is also a need to retrieve all movies previously unseen by a user from which we can make recommendation from to avoid recommending movies which has previously been seen by a user."
   ]
  },
  {
   "cell_type": "code",
   "execution_count": null,
   "id": "16ad9930",
   "metadata": {},
   "outputs": [],
   "source": [
    "def all_unseen_movies(userId):\n",
    "    unseen_movies = df_rating[df_rating['userId'] != userId]['movieId']\n",
    "    return df_movies[df_movies['movieId'].isin(unseen_movies)].index"
   ]
  },
  {
   "cell_type": "markdown",
   "id": "cc29821f",
   "metadata": {},
   "source": [
    "#### 5.2.2 Recommending Top N Unseen Movies by user\n",
    "\n",
    "Using the cosine similarity, the top N similar movies to each top rated movies by the user is recommended for the user."
   ]
  },
  {
   "cell_type": "code",
   "execution_count": null,
   "id": "c9f31838",
   "metadata": {},
   "outputs": [],
   "source": [
    "# Recommend the Top N movies for each top rated movie by a user\n",
    "\n",
    "def recommend(movie_df, userId, n=10):\n",
    "    top_rated_movies_id = all_user_rated_movies(userId, int(n/2))\n",
    "    unseen_movies = all_unseen_movies(userId)\n",
    "    similarity_list = []\n",
    "    \n",
    "    for movieId in list(top_rated_movies_id):\n",
    "        movie_index = movie_df[movie_df['movieId'] == movieId].index[0]\n",
    "        sim_matrix = cosine_similarity(features[movie_index], features[unseen_movies])[0]\n",
    "        \n",
    "        for i in range(2):\n",
    "            similarity_list.append(np.argmax(sim_matrix))\n",
    "            sim_matrix[np.argmax(sim_matrix)] = 0\n",
    "        \n",
    "    return df_train.iloc[similarity_list]"
   ]
  },
  {
   "cell_type": "markdown",
   "id": "04df036b",
   "metadata": {},
   "source": [
    "Using the recommend function to recommend 15 movies for user with userId 100"
   ]
  },
  {
   "cell_type": "code",
   "execution_count": null,
   "id": "8e905c15",
   "metadata": {},
   "outputs": [],
   "source": [
    "recommend(df_movies, 600, 15)"
   ]
  },
  {
   "cell_type": "code",
   "execution_count": null,
   "id": "39347b0a",
   "metadata": {},
   "outputs": [],
   "source": [
    "recommend(df_movies, 25, 15)"
   ]
  },
  {
   "cell_type": "code",
   "execution_count": null,
   "id": "90c6b4bd",
   "metadata": {},
   "outputs": [],
   "source": [
    "recommend(df_movies, 600, 15)"
   ]
  },
  {
   "cell_type": "markdown",
   "id": "2d0f196d",
   "metadata": {},
   "source": [
    "<br><br>\n",
    "\n",
    "## 6.0 Collaborative Filtering\n",
    "\n",
    "\n",
    "This section of the project aims at making recommenadations and rating using the collaborative aproach. This approach uses the similarity between users to make recommendations. It is based off the assumption that if a user likes a particular item, other users sharing similar trait with the user will most likely like the item. Hence, if a user rates a particular movie very high, there is a high chance another user who enjoys similar rating patern with the use will rank the movie high. \n",
    "\n",
    "For the collaborative filtering, we use the surprise package for handling data loading, data manipulation, modelling and testing. In this section, unlike the content-based section, where the most used dataset if the movies and meta data dataset, this section will leverage more on the ratings data set."
   ]
  },
  {
   "cell_type": "markdown",
   "id": "39ac68b6",
   "metadata": {},
   "source": [
    "<br>\n",
    "\n",
    "### 6.1Reducing the Dataset Dimension"
   ]
  },
  {
   "cell_type": "markdown",
   "id": "7492ad5f",
   "metadata": {},
   "source": [
    "Our initial ratings dataset which plays a pivotal role in the training of this model contains a little above 10 million records. This will constitute a speed inefficiency during training. To reduce the dimension of our training dataset, we filter out movies with low ratings and users who have only rated few movies. "
   ]
  },
  {
   "cell_type": "markdown",
   "id": "24da6ecc",
   "metadata": {},
   "source": [
    "\n",
    "#### 6.1.1 Filtering Movies with below Benchmark number of ratings"
   ]
  },
  {
   "cell_type": "code",
   "execution_count": null,
   "id": "b6fb5c79",
   "metadata": {},
   "outputs": [],
   "source": [
    "def filter_low_rated_movies(df, min_no_rating):\n",
    "    movies_per_rating = dict(Counter(df.movieId))\n",
    "    required_movies = []\n",
    "    \n",
    "    for key, value in movies_per_rating.items():\n",
    "        if value > min_no_rating:\n",
    "            required_movies.append(key)\n",
    "        \n",
    "    return df[df['movieId'].isin(required_movies)]"
   ]
  },
  {
   "cell_type": "code",
   "execution_count": null,
   "id": "38d74d24",
   "metadata": {},
   "outputs": [],
   "source": [
    "df_filtered = filter_low_rated_movies(df_rating, 2500)\n",
    "\n",
    "print(\"The old dataset has {} shape\".format(df_rating.shape))\n",
    "print(\"The dataset with low ratings removed has {} shape\".format(df_filtered.shape))"
   ]
  },
  {
   "cell_type": "markdown",
   "id": "56003f64",
   "metadata": {},
   "source": [
    "\n",
    "#### 6.1.2 Filtering Users who have rated below Benchmark number of ratings"
   ]
  },
  {
   "cell_type": "code",
   "execution_count": null,
   "id": "527ed85d",
   "metadata": {},
   "outputs": [],
   "source": [
    "def filter_low_rating_users(df, min_no_rating):\n",
    "    users_per_rating = dict(Counter(df.userId))\n",
    "    required_users = []\n",
    "    \n",
    "    for key, value in users_per_rating.items():\n",
    "        if value > min_no_rating:\n",
    "            required_users.append(key)\n",
    "        \n",
    "    return df[df['userId'].isin(required_users)]"
   ]
  },
  {
   "cell_type": "code",
   "execution_count": null,
   "id": "b9fc1a5b",
   "metadata": {},
   "outputs": [],
   "source": [
    "df_cleaned = filter_low_rating_users(df_filtered, 250)\n",
    "\n",
    "print(\"The dataset with low rating users removed has {} shape\".format(df_cleaned.shape))"
   ]
  },
  {
   "cell_type": "markdown",
   "id": "238e1769",
   "metadata": {},
   "source": [
    "<br>\n",
    "\n",
    "### 6.2 Benchmarking the Models"
   ]
  },
  {
   "cell_type": "code",
   "execution_count": null,
   "id": "c40172ff",
   "metadata": {},
   "outputs": [],
   "source": [
    "# Tune the surprise reader prediction scale\n",
    "reader = Reader(rating_scale=(1, 5))\n",
    "\n",
    "# load the training dataset with the surprise dataset class\n",
    "data = Dataset.load_from_df(df_cleaned[['userId', 'movieId', 'rating']], reader)"
   ]
  },
  {
   "cell_type": "markdown",
   "id": "0383787d",
   "metadata": {},
   "source": [
    "<br>\n",
    "The surprise library provides a range of models which can be used to make predictions. In this section, we select few distinct models and benchmark their performance"
   ]
  },
  {
   "cell_type": "code",
   "execution_count": null,
   "id": "68eb4386",
   "metadata": {},
   "outputs": [],
   "source": [
    "benchmark = []\n",
    "# Iterate over all algorithms\n",
    "algorithms = [SVD(), NMF(), NormalPredictor(), CoClustering(), SVDpp()]\n",
    "\n",
    "print (\"Attempting: \", str(algorithms), '\\n\\n\\n')\n",
    "\n",
    "for algorithm in algorithms:\n",
    "    print(\"Starting: \" ,str(algorithm))\n",
    "    \n",
    "    # Perform cross validation\n",
    "    results = cross_validate(algorithm, data, measures=['RMSE'], cv=3, verbose=False)\n",
    "    \n",
    "    # Get results & append algorithm name\n",
    "    tmp = pd.DataFrame.from_dict(results).mean(axis=0)\n",
    "    tmp = tmp.append(pd.Series([str(algorithm).split(' ')[0].split('.')[-1]], index=['Algorithm']))\n",
    "    benchmark.append(tmp)\n",
    "    print(\"Done: \" ,str(algorithm), \"\\n\\n\")\n",
    "\n",
    "print ('\\n\\tDONE\\n')"
   ]
  },
  {
   "cell_type": "code",
   "execution_count": null,
   "id": "f640792a",
   "metadata": {},
   "outputs": [],
   "source": [
    "surprise_results = pd.DataFrame(benchmark).set_index('Algorithm').sort_values('test_rmse')\n",
    "surprise_results"
   ]
  },
  {
   "cell_type": "markdown",
   "id": "000e6f09",
   "metadata": {},
   "source": [
    "The best performing model is the SVDpp with 0.7670 RMSE while the worst is the Normal predictor"
   ]
  },
  {
   "cell_type": "code",
   "execution_count": null,
   "id": "30726333",
   "metadata": {},
   "outputs": [],
   "source": [
    "# visualising the result on a bar chart\n",
    "surprise_results['test_rmse'].plot(kind='bar', figsize=(10,7))\n",
    "plt.ylabel(\"RMSE\")\n",
    "plt.title(\"RMSE for Bechnmarked Algorithms\")\n",
    "plt.show()"
   ]
  },
  {
   "cell_type": "markdown",
   "id": "ab5a1253",
   "metadata": {},
   "source": [
    "<br>\n",
    "\n",
    "### 6.3 Choice of Model"
   ]
  },
  {
   "cell_type": "markdown",
   "id": "22fc05ae",
   "metadata": {},
   "source": [
    "From the benchmark in the previous section, the best performing model is the SVDpp, which is a variant of the SVD model. Although, its performance does not come without a limitation. It is the slowest of all the models by a wide marging. Its training and testing time is very high and might cause a bottle for our usecase. The use case is a movie recommendation system; there will be expectation of trafic upon its deployment. Hence, for this project, its variant SVD is considered."
   ]
  },
  {
   "cell_type": "markdown",
   "id": "d6326a05",
   "metadata": {},
   "source": [
    "<br>\n",
    "\n",
    "### 6.3 Training an SVD Model"
   ]
  },
  {
   "cell_type": "markdown",
   "id": "a350ab9b",
   "metadata": {},
   "source": [
    "In this section, we train an SVD model with the following hyperparameters    \"n_epochs\": 20, \"lr_all\": 0.005, \"reg_all\": 0.02. Although, we should train our model on the full dataset, but because of execution time, we will train our models on only items with 2500 ratings and above and users with 250 ratings and above. These parameters can be adjusted for scenarios where there is more computing power."
   ]
  },
  {
   "cell_type": "code",
   "execution_count": 235,
   "id": "5f913c3f",
   "metadata": {},
   "outputs": [
    {
     "name": "stdout",
     "output_type": "stream",
     "text": [
      "(190361, 4)\n"
     ]
    },
    {
     "data": {
      "text/plain": [
       "<surprise.prediction_algorithms.matrix_factorization.SVD at 0x214185646c8>"
      ]
     },
     "execution_count": 235,
     "metadata": {},
     "output_type": "execute_result"
    }
   ],
   "source": [
    "# Hyperparameter tuning variable\n",
    "params = {\n",
    "    \"n_epochs\": 20,\n",
    "    \"lr_all\": 0.005,\n",
    "    \"reg_all\": 0.02\n",
    "}\n",
    "\n",
    "# Configurable minimum number of movie and users ratings\n",
    "min_no_movie_rating = 2500\n",
    "min_no_user_rating = 250\n",
    "\n",
    "# Filter the training set with the configuration\n",
    "training_set = filter_low_rated_movies(df_rating, min_no_movie_rating)\n",
    "training_set = filter_low_rating_users(training_set, min_no_user_rating)\n",
    "\n",
    "# load the dataset\n",
    "data = Dataset.load_from_df(training_set[['userId', 'movieId', 'rating']], reader)\n",
    "print(training_set.shape)\n",
    "\n",
    "# build a full trainset from the dataset\n",
    "trainset = data.build_full_trainset()\n",
    "\n",
    "algo = SVD(n_epochs = params['n_epochs'], lr_all = params['lr_all'], reg_all = params['reg_all'])\n",
    "\n",
    "algo.fit(trainset)"
   ]
  },
  {
   "cell_type": "markdown",
   "id": "82f137fa",
   "metadata": {},
   "source": [
    "<br>\n",
    "\n",
    "### 6.4 Pickling the Model\n",
    "\n",
    "The trained model was pickled for future use to avoid retraining of a model for every prediction."
   ]
  },
  {
   "cell_type": "code",
   "execution_count": 238,
   "id": "8895f290",
   "metadata": {},
   "outputs": [],
   "source": [
    "with open('resources/model.pkl',  'wb') as file:\n",
    "    pkl.dump(algo, file)"
   ]
  },
  {
   "cell_type": "markdown",
   "id": "acb78cf6",
   "metadata": {},
   "source": [
    "<br>\n",
    "\n",
    "### 6.5 Prediction\n",
    "\n",
    "In this section, the trained model is used to generate prediction. The test Dataset is about 5 million rows, but we will be using a sample of 20 entries to generate predictions because of the execution of time of the notebook. This number can be adjusted depending on computing power."
   ]
  },
  {
   "cell_type": "code",
   "execution_count": 239,
   "id": "fa84c8fd",
   "metadata": {},
   "outputs": [],
   "source": [
    "# function to predict a single rating\n",
    "def predict_each(row, model):\n",
    "    row['id'] = str(row['userId']) + '_' + str(row['movieId'])\n",
    "    row['rating'] = round(model.predict(row['userId'], row['movieId'], verbose=False).est, 2)\n",
    "    return row[['id', 'rating']]\n",
    "\n",
    "# function to predict all the entries in a dataframe\n",
    "def predict(df, model):\n",
    "    data = df.apply(predict_each, model=model, axis='columns')\n",
    "    return data"
   ]
  },
  {
   "cell_type": "markdown",
   "id": "b4ef412a",
   "metadata": {},
   "source": [
    "<br>\n",
    "\n",
    "Then we read the testing dataset and make predictions with the predict fucntion"
   ]
  },
  {
   "cell_type": "code",
   "execution_count": 241,
   "id": "2ead3760",
   "metadata": {},
   "outputs": [
    {
     "data": {
      "text/html": [
       "<div>\n",
       "<style scoped>\n",
       "    .dataframe tbody tr th:only-of-type {\n",
       "        vertical-align: middle;\n",
       "    }\n",
       "\n",
       "    .dataframe tbody tr th {\n",
       "        vertical-align: top;\n",
       "    }\n",
       "\n",
       "    .dataframe thead th {\n",
       "        text-align: right;\n",
       "    }\n",
       "</style>\n",
       "<table border=\"1\" class=\"dataframe\">\n",
       "  <thead>\n",
       "    <tr style=\"text-align: right;\">\n",
       "      <th></th>\n",
       "      <th>id</th>\n",
       "      <th>rating</th>\n",
       "    </tr>\n",
       "  </thead>\n",
       "  <tbody>\n",
       "    <tr>\n",
       "      <th>0</th>\n",
       "      <td>1_2011</td>\n",
       "      <td>3.50</td>\n",
       "    </tr>\n",
       "    <tr>\n",
       "      <th>1</th>\n",
       "      <td>1_4144</td>\n",
       "      <td>3.39</td>\n",
       "    </tr>\n",
       "    <tr>\n",
       "      <th>2</th>\n",
       "      <td>1_5767</td>\n",
       "      <td>3.39</td>\n",
       "    </tr>\n",
       "    <tr>\n",
       "      <th>3</th>\n",
       "      <td>1_6711</td>\n",
       "      <td>3.74</td>\n",
       "    </tr>\n",
       "    <tr>\n",
       "      <th>4</th>\n",
       "      <td>1_7318</td>\n",
       "      <td>3.39</td>\n",
       "    </tr>\n",
       "    <tr>\n",
       "      <th>5</th>\n",
       "      <td>1_8405</td>\n",
       "      <td>3.39</td>\n",
       "    </tr>\n",
       "    <tr>\n",
       "      <th>6</th>\n",
       "      <td>1_8786</td>\n",
       "      <td>3.39</td>\n",
       "    </tr>\n",
       "    <tr>\n",
       "      <th>7</th>\n",
       "      <td>2_150</td>\n",
       "      <td>3.68</td>\n",
       "    </tr>\n",
       "    <tr>\n",
       "      <th>8</th>\n",
       "      <td>2_356</td>\n",
       "      <td>3.85</td>\n",
       "    </tr>\n",
       "    <tr>\n",
       "      <th>9</th>\n",
       "      <td>2_497</td>\n",
       "      <td>3.48</td>\n",
       "    </tr>\n",
       "    <tr>\n",
       "      <th>10</th>\n",
       "      <td>2_588</td>\n",
       "      <td>3.54</td>\n",
       "    </tr>\n",
       "    <tr>\n",
       "      <th>11</th>\n",
       "      <td>2_653</td>\n",
       "      <td>2.76</td>\n",
       "    </tr>\n",
       "    <tr>\n",
       "      <th>12</th>\n",
       "      <td>2_1080</td>\n",
       "      <td>3.78</td>\n",
       "    </tr>\n",
       "    <tr>\n",
       "      <th>13</th>\n",
       "      <td>2_1196</td>\n",
       "      <td>4.22</td>\n",
       "    </tr>\n",
       "    <tr>\n",
       "      <th>14</th>\n",
       "      <td>2_1198</td>\n",
       "      <td>4.34</td>\n",
       "    </tr>\n",
       "    <tr>\n",
       "      <th>15</th>\n",
       "      <td>2_1201</td>\n",
       "      <td>4.04</td>\n",
       "    </tr>\n",
       "    <tr>\n",
       "      <th>16</th>\n",
       "      <td>2_1299</td>\n",
       "      <td>3.61</td>\n",
       "    </tr>\n",
       "    <tr>\n",
       "      <th>17</th>\n",
       "      <td>2_1485</td>\n",
       "      <td>2.97</td>\n",
       "    </tr>\n",
       "    <tr>\n",
       "      <th>18</th>\n",
       "      <td>2_1580</td>\n",
       "      <td>3.51</td>\n",
       "    </tr>\n",
       "    <tr>\n",
       "      <th>19</th>\n",
       "      <td>2_1693</td>\n",
       "      <td>3.39</td>\n",
       "    </tr>\n",
       "  </tbody>\n",
       "</table>\n",
       "</div>"
      ],
      "text/plain": [
       "        id  rating\n",
       "0   1_2011    3.50\n",
       "1   1_4144    3.39\n",
       "2   1_5767    3.39\n",
       "3   1_6711    3.74\n",
       "4   1_7318    3.39\n",
       "5   1_8405    3.39\n",
       "6   1_8786    3.39\n",
       "7    2_150    3.68\n",
       "8    2_356    3.85\n",
       "9    2_497    3.48\n",
       "10   2_588    3.54\n",
       "11   2_653    2.76\n",
       "12  2_1080    3.78\n",
       "13  2_1196    4.22\n",
       "14  2_1198    4.34\n",
       "15  2_1201    4.04\n",
       "16  2_1299    3.61\n",
       "17  2_1485    2.97\n",
       "18  2_1580    3.51\n",
       "19  2_1693    3.39"
      ]
     },
     "execution_count": 241,
     "metadata": {},
     "output_type": "execute_result"
    }
   ],
   "source": [
    "# adjust this number for more or fewer predictions\n",
    "number_of_predictions = 20\n",
    "\n",
    "# read the test dataset\n",
    "test = pd.read_csv('data/test.csv')\n",
    "\n",
    "# Make the required number of predictions\n",
    "df_prediction = predict(test[:number_of_predictions], algo)\n",
    "\n",
    "df_prediction"
   ]
  },
  {
   "cell_type": "markdown",
   "id": "a9a9ddd5",
   "metadata": {},
   "source": [
    "<br>\n",
    "\n",
    "### 6.5 Generating Submission File\n",
    "\n",
    "The prediction dataframe is converted to a csv file for kaggle submission. Note: To make a valid submission, change the number_of_predictions variable to lenght of test dataset."
   ]
  },
  {
   "cell_type": "code",
   "execution_count": null,
   "id": "f716a70d",
   "metadata": {},
   "outputs": [],
   "source": [
    "df_prediction.to_csv(\"submission.csv\", index=False)"
   ]
  }
 ],
 "metadata": {
  "kernelspec": {
   "display_name": "Python 3 (ipykernel)",
   "language": "python",
   "name": "python3"
  },
  "language_info": {
   "codemirror_mode": {
    "name": "ipython",
    "version": 3
   },
   "file_extension": ".py",
   "mimetype": "text/x-python",
   "name": "python",
   "nbconvert_exporter": "python",
   "pygments_lexer": "ipython3",
   "version": "3.7.6"
  }
 },
 "nbformat": 4,
 "nbformat_minor": 5
}
