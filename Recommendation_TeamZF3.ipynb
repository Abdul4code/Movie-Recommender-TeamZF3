{
 "cells": [
  {
   "cell_type": "markdown",
   "id": "7dc42a1c",
   "metadata": {},
   "source": [
    "# Movie Recommendation and Rating - Team ZF3\n",
    "\n",
    "© Explore Data Science Academy 2022\n",
    "\n",
    "---\n",
    "\n",
    "###### Team Members\n",
    "\n",
    "1. Ubasinachi Eleonu\n",
    "2. Bongani Mkhize\n",
    "3. Abubakar Abdulkadir\n",
    "4. Michael Mamah\n",
    "5. Joseph Okonkwo\n",
    "6. \n",
    "\n",
    "---"
   ]
  },
  {
   "cell_type": "markdown",
   "id": "4dd0fc14",
   "metadata": {},
   "source": [
    "## Project Overview\n",
    "\n",
    "<img src=\"resources/images/bg.jfif\" style='margin-top:30x; margin-bottom:30px'/>\n",
    "It is almost impossible for a person to attempt to consume all the products and choices available. It is even most likely that a person will not have the time, patience or resources to even view the myraids of choices in terms of products and services available at his disposal. Hence, it becomes almost imperative for producers of goods and services to help narrow down the choices of products presented to their users in an attempt to reduce overwhelming them and help them reach thier relevant products and services without waste of time and as a result, helping them have a better user experience, while also exposing them to more products and services they might have never discovered otherwise. This help comes in the form of  <b> recommendation </b>\n",
    "\n",
    "Simple as the above sounds, it is not as easy to implement because the traditional approach would have been to deploy product recommender agents (like customer service representatives) who will handle recommendation requests from customers. But these agents will be unable to learn about every of thier customers and what products and services they might want and find useful. So how does one recommend products and services to people he does not know?\n",
    "\n",
    "The response is using Recommender Systems. Recommender systems are machine learning systems that help users discover products and services based on the relationship between the users and the products.Recommender systems are like salesmen who have learnt to recognize customers and the products they might like based on their history and preferences. Recommender systems are so common place now that every time you shop online, a  recommendation system is guiding you towards the most likely product you might purchase.\n",
    "\n",
    "There are several use cases of the recommender system. But this project will focus on movie recommendation.\n",
    "\n",
    "---"
   ]
  },
  {
   "cell_type": "markdown",
   "id": "e5ea8e42",
   "metadata": {},
   "source": [
    "## 1.0 Project Objective\n",
    "\n",
    "To build a recommendation system capable of recommending movies to users and predicting ratings a user might give a movie they have never seen bebfore. <br ><br>"
   ]
  },
  {
   "cell_type": "markdown",
   "id": "d3289f47",
   "metadata": {},
   "source": [
    "## 2.0 Packages"
   ]
  },
  {
   "cell_type": "markdown",
   "id": "a5765a86",
   "metadata": {},
   "source": [
    "### 2.1. Installing Packages\n",
    "\n",
    "For this project, two major libraries were leveraged on - sklearn and surprise. Sklearn is the most mopular of the two."
   ]
  },
  {
   "cell_type": "code",
   "execution_count": null,
   "id": "058ec304",
   "metadata": {},
   "outputs": [],
   "source": [
    "!pip install scikit-surprise"
   ]
  },
  {
   "cell_type": "markdown",
   "id": "a5a3694f",
   "metadata": {},
   "source": [
    "- <a href=\"http://surpriselib.com/\"> Surprise</a> is a Python scikit for building and analyzing recommender systems that deal with explicit rating data. It does not support implicit ratings or content-based information. Surprise was used in this project to make collaborative prediction. <br>"
   ]
  },
  {
   "cell_type": "markdown",
   "id": "f8e78f84",
   "metadata": {},
   "source": [
    "### 2.2 Importing Packages "
   ]
  },
  {
   "cell_type": "code",
   "execution_count": 1,
   "id": "48f5c979",
   "metadata": {},
   "outputs": [],
   "source": [
    "# data loading and preprocessing \n",
    "import numpy as np \n",
    "import pandas as pd \n",
    "import pickle as pkl\n",
    "from collections import Counter\n",
    "from surprise import Reader\n",
    "from surprise import Dataset\n",
    "import math\n",
    "\n",
    "# Visualisation\n",
    "import matplotlib.pyplot as plt\n",
    "import seaborn as sns\n",
    "\n",
    "# feature extration and similarity metrics\n",
    "from sklearn.feature_extraction.text import TfidfVectorizer, CountVectorizer\n",
    "from sklearn.metrics.pairwise import linear_kernel, cosine_similarity\n",
    "\n",
    "#modeling and validation\n",
    "from surprise.model_selection import cross_validate\n",
    "from surprise import NormalPredictor\n",
    "from surprise import KNNBasic\n",
    "from surprise import KNNWithMeans\n",
    "from surprise import KNNWithZScore\n",
    "from surprise import KNNBaseline\n",
    "from surprise import SVD\n",
    "from surprise import BaselineOnly\n",
    "from surprise import SVDpp\n",
    "from surprise import NMF\n",
    "from surprise import SlopeOne\n",
    "from surprise import CoClustering\n",
    "from surprise.accuracy import rmse\n",
    "from surprise import accuracy\n",
    "from surprise.model_selection import train_test_split\n",
    "from surprise.model_selection import GridSearchCV"
   ]
  },
  {
   "cell_type": "markdown",
   "id": "039aa0d9",
   "metadata": {},
   "source": [
    "<br />\n",
    "\n",
    "## 3.0 Loading Datasets\n",
    "\n",
    "    \n",
    "The dataset used for this project is the MovieLens dataset maintained by the GroupLens research group in the Department of Computer Science and Engineering at the University of Minnesota. Additional movie content data was legally scraped from IMDB. The dataset can be found <a href=\"https://www.kaggle.com/competitions/edsa-movie-recommendation-2022/data\"> here</a>. Pandas library will be used to access and Manipulate the datasets."
   ]
  },
  {
   "cell_type": "code",
   "execution_count": 2,
   "id": "1f488215",
   "metadata": {},
   "outputs": [],
   "source": [
    "# read movie dataset\n",
    "df_movies = pd.read_csv('data/movies.csv')"
   ]
  },
  {
   "cell_type": "code",
   "execution_count": 4,
   "id": "5cc9acc9",
   "metadata": {},
   "outputs": [],
   "source": [
    "# read the ratings dataset\n",
    "df_train = pd.read_csv('data/train.csv')"
   ]
  },
  {
   "cell_type": "code",
   "execution_count": 6,
   "id": "a4db1727",
   "metadata": {},
   "outputs": [],
   "source": [
    "# read the movie additional information\n",
    "df_meta = pd.read_csv('data/imdb_data.csv')"
   ]
  },
  {
   "cell_type": "markdown",
   "id": "d559cabe",
   "metadata": {},
   "source": [
    "<br><br>\n",
    "## 4.0 Exploratory Data Analysis\n",
    "\n",
    "\n",
    "Exploratory data analysis is an approach to analyzing data sets to summarize their main characteristics, often with visual methods. Primarily, EDA is for seeing what the data can tell us beyond the formal modeling or hypothesis testing task.This approach for data analysis uses many tools(mainly graphical to maximize insight into a data set, extract important variables, detect outliers and anomalies, amongst other details that is missed when looking at DataFrame. This step is very important especially when we model the data in order to apply Machine Learning techniques."
   ]
  },
  {
   "cell_type": "markdown",
   "id": "2c863dbc",
   "metadata": {},
   "source": [
    "<br><br>\n",
    "## 5.0 Content Based Recommendaton"
   ]
  },
  {
   "cell_type": "markdown",
   "id": "ccc607e0",
   "metadata": {},
   "source": [
    "## 5.0 Feature Engineering and Selection\n",
    "\n",
    "\n",
    "In this section, the recommendations from the exploratory data analysis phase is implemented. The dataset were merged, cleaned and features selected for similarity assessment."
   ]
  },
  {
   "cell_type": "markdown",
   "id": "c2b559c2",
   "metadata": {},
   "source": [
    "### 5.1 Text Cleaning\n",
    "\n",
    "The dataset contains punctuations, links, emojis and twitter specific characters like @ and # symbols. Words also exist in different cases which models might translate and different. Hence, the proceeding function performs cleaning by:\n",
    "- Changing the Case of the words\n",
    "- Remove punctuations\n",
    "- Remove links\n",
    "- Remove emojis"
   ]
  },
  {
   "cell_type": "code",
   "execution_count": 8,
   "id": "9824e798",
   "metadata": {},
   "outputs": [],
   "source": [
    "# Extract movieId, title_cast, director and plot_keywords from df_meta\n",
    "\n",
    "df_meta = df_meta[['movieId', 'title_cast', 'director', 'plot_keywords']]"
   ]
  },
  {
   "cell_type": "code",
   "execution_count": 9,
   "id": "d140484f",
   "metadata": {},
   "outputs": [
    {
     "data": {
      "text/html": [
       "<div>\n",
       "<style scoped>\n",
       "    .dataframe tbody tr th:only-of-type {\n",
       "        vertical-align: middle;\n",
       "    }\n",
       "\n",
       "    .dataframe tbody tr th {\n",
       "        vertical-align: top;\n",
       "    }\n",
       "\n",
       "    .dataframe thead th {\n",
       "        text-align: right;\n",
       "    }\n",
       "</style>\n",
       "<table border=\"1\" class=\"dataframe\">\n",
       "  <thead>\n",
       "    <tr style=\"text-align: right;\">\n",
       "      <th></th>\n",
       "      <th>userId</th>\n",
       "      <th>movieId</th>\n",
       "      <th>rating</th>\n",
       "      <th>timestamp</th>\n",
       "    </tr>\n",
       "  </thead>\n",
       "  <tbody>\n",
       "    <tr>\n",
       "      <th>0</th>\n",
       "      <td>5163</td>\n",
       "      <td>57669</td>\n",
       "      <td>4.0</td>\n",
       "      <td>1518349992</td>\n",
       "    </tr>\n",
       "    <tr>\n",
       "      <th>1</th>\n",
       "      <td>106343</td>\n",
       "      <td>5</td>\n",
       "      <td>4.5</td>\n",
       "      <td>1206238739</td>\n",
       "    </tr>\n",
       "    <tr>\n",
       "      <th>2</th>\n",
       "      <td>146790</td>\n",
       "      <td>5459</td>\n",
       "      <td>5.0</td>\n",
       "      <td>1076215539</td>\n",
       "    </tr>\n",
       "    <tr>\n",
       "      <th>3</th>\n",
       "      <td>106362</td>\n",
       "      <td>32296</td>\n",
       "      <td>2.0</td>\n",
       "      <td>1423042565</td>\n",
       "    </tr>\n",
       "    <tr>\n",
       "      <th>4</th>\n",
       "      <td>9041</td>\n",
       "      <td>366</td>\n",
       "      <td>3.0</td>\n",
       "      <td>833375837</td>\n",
       "    </tr>\n",
       "  </tbody>\n",
       "</table>\n",
       "</div>"
      ],
      "text/plain": [
       "   userId  movieId  rating   timestamp\n",
       "0    5163    57669     4.0  1518349992\n",
       "1  106343        5     4.5  1206238739\n",
       "2  146790     5459     5.0  1076215539\n",
       "3  106362    32296     2.0  1423042565\n",
       "4    9041      366     3.0   833375837"
      ]
     },
     "execution_count": 9,
     "metadata": {},
     "output_type": "execute_result"
    }
   ],
   "source": [
    "df_train.head()"
   ]
  },
  {
   "cell_type": "code",
   "execution_count": 10,
   "id": "c9f31838",
   "metadata": {},
   "outputs": [],
   "source": [
    "# merging dataset to form our inital dataset\n",
    "\n",
    "df_merged = df_movies.merge(df_meta, on='movieId', how='left')"
   ]
  },
  {
   "cell_type": "code",
   "execution_count": 11,
   "id": "39347b0a",
   "metadata": {},
   "outputs": [
    {
     "data": {
      "text/plain": [
       "(62423, 6)"
      ]
     },
     "execution_count": 11,
     "metadata": {},
     "output_type": "execute_result"
    }
   ],
   "source": [
    "df_merged.shape"
   ]
  },
  {
   "cell_type": "code",
   "execution_count": 12,
   "id": "009dd901",
   "metadata": {},
   "outputs": [
    {
     "name": "stdout",
     "output_type": "stream",
     "text": [
      "<class 'pandas.core.frame.DataFrame'>\n",
      "Int64Index: 62423 entries, 0 to 62422\n",
      "Data columns (total 6 columns):\n",
      " #   Column         Non-Null Count  Dtype \n",
      "---  ------         --------------  ----- \n",
      " 0   movieId        62423 non-null  int64 \n",
      " 1   title          62423 non-null  object\n",
      " 2   genres         62423 non-null  object\n",
      " 3   title_cast     15201 non-null  object\n",
      " 4   director       15347 non-null  object\n",
      " 5   plot_keywords  14384 non-null  object\n",
      "dtypes: int64(1), object(5)\n",
      "memory usage: 3.3+ MB\n"
     ]
    }
   ],
   "source": [
    "df_merged.info()"
   ]
  },
  {
   "cell_type": "code",
   "execution_count": 13,
   "id": "cc028ebe",
   "metadata": {},
   "outputs": [],
   "source": [
    "# handle missing data\n",
    "df_merged['title_cast'].fillna(' ', inplace=True)\n",
    "df_merged['director'].fillna(' ', inplace=True)\n",
    "df_merged['plot_keywords'].fillna(' ', inplace=True)"
   ]
  },
  {
   "cell_type": "code",
   "execution_count": 14,
   "id": "6c669ea9",
   "metadata": {},
   "outputs": [
    {
     "name": "stdout",
     "output_type": "stream",
     "text": [
      "<class 'pandas.core.frame.DataFrame'>\n",
      "Int64Index: 62423 entries, 0 to 62422\n",
      "Data columns (total 6 columns):\n",
      " #   Column         Non-Null Count  Dtype \n",
      "---  ------         --------------  ----- \n",
      " 0   movieId        62423 non-null  int64 \n",
      " 1   title          62423 non-null  object\n",
      " 2   genres         62423 non-null  object\n",
      " 3   title_cast     62423 non-null  object\n",
      " 4   director       62423 non-null  object\n",
      " 5   plot_keywords  62423 non-null  object\n",
      "dtypes: int64(1), object(5)\n",
      "memory usage: 3.3+ MB\n"
     ]
    }
   ],
   "source": [
    "df_merged.info()"
   ]
  },
  {
   "cell_type": "code",
   "execution_count": 15,
   "id": "b902b9eb",
   "metadata": {},
   "outputs": [
    {
     "data": {
      "text/html": [
       "<div>\n",
       "<style scoped>\n",
       "    .dataframe tbody tr th:only-of-type {\n",
       "        vertical-align: middle;\n",
       "    }\n",
       "\n",
       "    .dataframe tbody tr th {\n",
       "        vertical-align: top;\n",
       "    }\n",
       "\n",
       "    .dataframe thead th {\n",
       "        text-align: right;\n",
       "    }\n",
       "</style>\n",
       "<table border=\"1\" class=\"dataframe\">\n",
       "  <thead>\n",
       "    <tr style=\"text-align: right;\">\n",
       "      <th></th>\n",
       "      <th>movieId</th>\n",
       "      <th>title</th>\n",
       "      <th>genres</th>\n",
       "      <th>title_cast</th>\n",
       "      <th>director</th>\n",
       "      <th>plot_keywords</th>\n",
       "    </tr>\n",
       "  </thead>\n",
       "  <tbody>\n",
       "    <tr>\n",
       "      <th>0</th>\n",
       "      <td>1</td>\n",
       "      <td>Toy Story (1995)</td>\n",
       "      <td>Adventure|Animation|Children|Comedy|Fantasy</td>\n",
       "      <td>Tom Hanks|Tim Allen|Don Rickles|Jim Varney|Wal...</td>\n",
       "      <td>John Lasseter</td>\n",
       "      <td>toy|rivalry|cowboy|cgi animation</td>\n",
       "    </tr>\n",
       "    <tr>\n",
       "      <th>1</th>\n",
       "      <td>2</td>\n",
       "      <td>Jumanji (1995)</td>\n",
       "      <td>Adventure|Children|Fantasy</td>\n",
       "      <td>Robin Williams|Jonathan Hyde|Kirsten Dunst|Bra...</td>\n",
       "      <td>Jonathan Hensleigh</td>\n",
       "      <td>board game|adventurer|fight|game</td>\n",
       "    </tr>\n",
       "    <tr>\n",
       "      <th>2</th>\n",
       "      <td>3</td>\n",
       "      <td>Grumpier Old Men (1995)</td>\n",
       "      <td>Comedy|Romance</td>\n",
       "      <td>Walter Matthau|Jack Lemmon|Sophia Loren|Ann-Ma...</td>\n",
       "      <td>Mark Steven Johnson</td>\n",
       "      <td>boat|lake|neighbor|rivalry</td>\n",
       "    </tr>\n",
       "    <tr>\n",
       "      <th>3</th>\n",
       "      <td>4</td>\n",
       "      <td>Waiting to Exhale (1995)</td>\n",
       "      <td>Comedy|Drama|Romance</td>\n",
       "      <td>Whitney Houston|Angela Bassett|Loretta Devine|...</td>\n",
       "      <td>Terry McMillan</td>\n",
       "      <td>black american|husband wife relationship|betra...</td>\n",
       "    </tr>\n",
       "    <tr>\n",
       "      <th>4</th>\n",
       "      <td>5</td>\n",
       "      <td>Father of the Bride Part II (1995)</td>\n",
       "      <td>Comedy</td>\n",
       "      <td>Steve Martin|Diane Keaton|Martin Short|Kimberl...</td>\n",
       "      <td>Albert Hackett</td>\n",
       "      <td>fatherhood|doberman|dog|mansion</td>\n",
       "    </tr>\n",
       "    <tr>\n",
       "      <th>...</th>\n",
       "      <td>...</td>\n",
       "      <td>...</td>\n",
       "      <td>...</td>\n",
       "      <td>...</td>\n",
       "      <td>...</td>\n",
       "      <td>...</td>\n",
       "    </tr>\n",
       "    <tr>\n",
       "      <th>62418</th>\n",
       "      <td>209157</td>\n",
       "      <td>We (2018)</td>\n",
       "      <td>Drama</td>\n",
       "      <td></td>\n",
       "      <td></td>\n",
       "      <td></td>\n",
       "    </tr>\n",
       "    <tr>\n",
       "      <th>62419</th>\n",
       "      <td>209159</td>\n",
       "      <td>Window of the Soul (2001)</td>\n",
       "      <td>Documentary</td>\n",
       "      <td></td>\n",
       "      <td></td>\n",
       "      <td></td>\n",
       "    </tr>\n",
       "    <tr>\n",
       "      <th>62420</th>\n",
       "      <td>209163</td>\n",
       "      <td>Bad Poems (2018)</td>\n",
       "      <td>Comedy|Drama</td>\n",
       "      <td></td>\n",
       "      <td></td>\n",
       "      <td></td>\n",
       "    </tr>\n",
       "    <tr>\n",
       "      <th>62421</th>\n",
       "      <td>209169</td>\n",
       "      <td>A Girl Thing (2001)</td>\n",
       "      <td>(no genres listed)</td>\n",
       "      <td></td>\n",
       "      <td></td>\n",
       "      <td></td>\n",
       "    </tr>\n",
       "    <tr>\n",
       "      <th>62422</th>\n",
       "      <td>209171</td>\n",
       "      <td>Women of Devil's Island (1962)</td>\n",
       "      <td>Action|Adventure|Drama</td>\n",
       "      <td></td>\n",
       "      <td></td>\n",
       "      <td></td>\n",
       "    </tr>\n",
       "  </tbody>\n",
       "</table>\n",
       "<p>62423 rows × 6 columns</p>\n",
       "</div>"
      ],
      "text/plain": [
       "       movieId                               title  \\\n",
       "0            1                    Toy Story (1995)   \n",
       "1            2                      Jumanji (1995)   \n",
       "2            3             Grumpier Old Men (1995)   \n",
       "3            4            Waiting to Exhale (1995)   \n",
       "4            5  Father of the Bride Part II (1995)   \n",
       "...        ...                                 ...   \n",
       "62418   209157                           We (2018)   \n",
       "62419   209159           Window of the Soul (2001)   \n",
       "62420   209163                    Bad Poems (2018)   \n",
       "62421   209169                 A Girl Thing (2001)   \n",
       "62422   209171      Women of Devil's Island (1962)   \n",
       "\n",
       "                                            genres  \\\n",
       "0      Adventure|Animation|Children|Comedy|Fantasy   \n",
       "1                       Adventure|Children|Fantasy   \n",
       "2                                   Comedy|Romance   \n",
       "3                             Comedy|Drama|Romance   \n",
       "4                                           Comedy   \n",
       "...                                            ...   \n",
       "62418                                        Drama   \n",
       "62419                                  Documentary   \n",
       "62420                                 Comedy|Drama   \n",
       "62421                           (no genres listed)   \n",
       "62422                       Action|Adventure|Drama   \n",
       "\n",
       "                                              title_cast             director  \\\n",
       "0      Tom Hanks|Tim Allen|Don Rickles|Jim Varney|Wal...        John Lasseter   \n",
       "1      Robin Williams|Jonathan Hyde|Kirsten Dunst|Bra...   Jonathan Hensleigh   \n",
       "2      Walter Matthau|Jack Lemmon|Sophia Loren|Ann-Ma...  Mark Steven Johnson   \n",
       "3      Whitney Houston|Angela Bassett|Loretta Devine|...       Terry McMillan   \n",
       "4      Steve Martin|Diane Keaton|Martin Short|Kimberl...       Albert Hackett   \n",
       "...                                                  ...                  ...   \n",
       "62418                                                                           \n",
       "62419                                                                           \n",
       "62420                                                                           \n",
       "62421                                                                           \n",
       "62422                                                                           \n",
       "\n",
       "                                           plot_keywords  \n",
       "0                       toy|rivalry|cowboy|cgi animation  \n",
       "1                       board game|adventurer|fight|game  \n",
       "2                             boat|lake|neighbor|rivalry  \n",
       "3      black american|husband wife relationship|betra...  \n",
       "4                        fatherhood|doberman|dog|mansion  \n",
       "...                                                  ...  \n",
       "62418                                                     \n",
       "62419                                                     \n",
       "62420                                                     \n",
       "62421                                                     \n",
       "62422                                                     \n",
       "\n",
       "[62423 rows x 6 columns]"
      ]
     },
     "execution_count": 15,
     "metadata": {},
     "output_type": "execute_result"
    }
   ],
   "source": [
    "df_merged"
   ]
  },
  {
   "cell_type": "code",
   "execution_count": 16,
   "id": "1793338b",
   "metadata": {},
   "outputs": [],
   "source": [
    "# cleaning the data in genres\n",
    "df_cleaned = df_merged.copy()\n",
    "df_cleaned['genres'] = df_merged['genres'].apply(lambda x: x.replace(\"|\" , ' ').replace(\"(no genres listed)\", ' '))"
   ]
  },
  {
   "cell_type": "code",
   "execution_count": 17,
   "id": "6e1c0980",
   "metadata": {},
   "outputs": [],
   "source": [
    "df_cleaned['title_cast'] = df_merged['title_cast'].apply(lambda x: x.replace(\" \" , '').replace(\"|\", ' '))\n"
   ]
  },
  {
   "cell_type": "code",
   "execution_count": 18,
   "id": "36270679",
   "metadata": {},
   "outputs": [],
   "source": [
    "df_cleaned['director'] = df_merged['director'].apply(lambda x: ((x+'|') * 3).replace(\" \", '').replace(\"|\", \" \"))"
   ]
  },
  {
   "cell_type": "code",
   "execution_count": 19,
   "id": "8ce0576b",
   "metadata": {},
   "outputs": [
    {
     "data": {
      "text/plain": [
       "0                  JohnLasseter JohnLasseter JohnLasseter \n",
       "1        JonathanHensleigh JonathanHensleigh JonathanHe...\n",
       "2        MarkStevenJohnson MarkStevenJohnson MarkSteven...\n",
       "3               TerryMcMillan TerryMcMillan TerryMcMillan \n",
       "4               AlbertHackett AlbertHackett AlbertHackett \n",
       "                               ...                        \n",
       "62418                                                     \n",
       "62419                                                     \n",
       "62420                                                     \n",
       "62421                                                     \n",
       "62422                                                     \n",
       "Name: director, Length: 62423, dtype: object"
      ]
     },
     "execution_count": 19,
     "metadata": {},
     "output_type": "execute_result"
    }
   ],
   "source": [
    "df_cleaned['director']"
   ]
  },
  {
   "cell_type": "code",
   "execution_count": 20,
   "id": "5bed151f",
   "metadata": {},
   "outputs": [],
   "source": [
    "df_cleaned['plot_keywords'] = df_merged['plot_keywords'].apply(lambda x: x.replace(\"|\", \" \"))"
   ]
  },
  {
   "cell_type": "code",
   "execution_count": 21,
   "id": "2fb0707a",
   "metadata": {},
   "outputs": [
    {
     "data": {
      "text/plain": [
       "0                         toy rivalry cowboy cgi animation\n",
       "1                         board game adventurer fight game\n",
       "2                               boat lake neighbor rivalry\n",
       "3        black american husband wife relationship betra...\n",
       "4                          fatherhood doberman dog mansion\n",
       "                               ...                        \n",
       "62418                                                     \n",
       "62419                                                     \n",
       "62420                                                     \n",
       "62421                                                     \n",
       "62422                                                     \n",
       "Name: plot_keywords, Length: 62423, dtype: object"
      ]
     },
     "execution_count": 21,
     "metadata": {},
     "output_type": "execute_result"
    }
   ],
   "source": [
    "df_cleaned['plot_keywords']"
   ]
  },
  {
   "cell_type": "code",
   "execution_count": 22,
   "id": "e87377a7",
   "metadata": {},
   "outputs": [
    {
     "data": {
      "text/html": [
       "<div>\n",
       "<style scoped>\n",
       "    .dataframe tbody tr th:only-of-type {\n",
       "        vertical-align: middle;\n",
       "    }\n",
       "\n",
       "    .dataframe tbody tr th {\n",
       "        vertical-align: top;\n",
       "    }\n",
       "\n",
       "    .dataframe thead th {\n",
       "        text-align: right;\n",
       "    }\n",
       "</style>\n",
       "<table border=\"1\" class=\"dataframe\">\n",
       "  <thead>\n",
       "    <tr style=\"text-align: right;\">\n",
       "      <th></th>\n",
       "      <th>movieId</th>\n",
       "      <th>title</th>\n",
       "      <th>genres</th>\n",
       "      <th>title_cast</th>\n",
       "      <th>director</th>\n",
       "      <th>plot_keywords</th>\n",
       "    </tr>\n",
       "  </thead>\n",
       "  <tbody>\n",
       "    <tr>\n",
       "      <th>0</th>\n",
       "      <td>1</td>\n",
       "      <td>Toy Story (1995)</td>\n",
       "      <td>Adventure Animation Children Comedy Fantasy</td>\n",
       "      <td>TomHanks TimAllen DonRickles JimVarney Wallace...</td>\n",
       "      <td>JohnLasseter JohnLasseter JohnLasseter</td>\n",
       "      <td>toy rivalry cowboy cgi animation</td>\n",
       "    </tr>\n",
       "    <tr>\n",
       "      <th>1</th>\n",
       "      <td>2</td>\n",
       "      <td>Jumanji (1995)</td>\n",
       "      <td>Adventure Children Fantasy</td>\n",
       "      <td>RobinWilliams JonathanHyde KirstenDunst Bradle...</td>\n",
       "      <td>JonathanHensleigh JonathanHensleigh JonathanHe...</td>\n",
       "      <td>board game adventurer fight game</td>\n",
       "    </tr>\n",
       "    <tr>\n",
       "      <th>2</th>\n",
       "      <td>3</td>\n",
       "      <td>Grumpier Old Men (1995)</td>\n",
       "      <td>Comedy Romance</td>\n",
       "      <td>WalterMatthau JackLemmon SophiaLoren Ann-Margr...</td>\n",
       "      <td>MarkStevenJohnson MarkStevenJohnson MarkSteven...</td>\n",
       "      <td>boat lake neighbor rivalry</td>\n",
       "    </tr>\n",
       "    <tr>\n",
       "      <th>3</th>\n",
       "      <td>4</td>\n",
       "      <td>Waiting to Exhale (1995)</td>\n",
       "      <td>Comedy Drama Romance</td>\n",
       "      <td>WhitneyHouston AngelaBassett LorettaDevine Lel...</td>\n",
       "      <td>TerryMcMillan TerryMcMillan TerryMcMillan</td>\n",
       "      <td>black american husband wife relationship betra...</td>\n",
       "    </tr>\n",
       "    <tr>\n",
       "      <th>4</th>\n",
       "      <td>5</td>\n",
       "      <td>Father of the Bride Part II (1995)</td>\n",
       "      <td>Comedy</td>\n",
       "      <td>SteveMartin DianeKeaton MartinShort KimberlyWi...</td>\n",
       "      <td>AlbertHackett AlbertHackett AlbertHackett</td>\n",
       "      <td>fatherhood doberman dog mansion</td>\n",
       "    </tr>\n",
       "  </tbody>\n",
       "</table>\n",
       "</div>"
      ],
      "text/plain": [
       "   movieId                               title  \\\n",
       "0        1                    Toy Story (1995)   \n",
       "1        2                      Jumanji (1995)   \n",
       "2        3             Grumpier Old Men (1995)   \n",
       "3        4            Waiting to Exhale (1995)   \n",
       "4        5  Father of the Bride Part II (1995)   \n",
       "\n",
       "                                        genres  \\\n",
       "0  Adventure Animation Children Comedy Fantasy   \n",
       "1                   Adventure Children Fantasy   \n",
       "2                               Comedy Romance   \n",
       "3                         Comedy Drama Romance   \n",
       "4                                       Comedy   \n",
       "\n",
       "                                          title_cast  \\\n",
       "0  TomHanks TimAllen DonRickles JimVarney Wallace...   \n",
       "1  RobinWilliams JonathanHyde KirstenDunst Bradle...   \n",
       "2  WalterMatthau JackLemmon SophiaLoren Ann-Margr...   \n",
       "3  WhitneyHouston AngelaBassett LorettaDevine Lel...   \n",
       "4  SteveMartin DianeKeaton MartinShort KimberlyWi...   \n",
       "\n",
       "                                            director  \\\n",
       "0            JohnLasseter JohnLasseter JohnLasseter    \n",
       "1  JonathanHensleigh JonathanHensleigh JonathanHe...   \n",
       "2  MarkStevenJohnson MarkStevenJohnson MarkSteven...   \n",
       "3         TerryMcMillan TerryMcMillan TerryMcMillan    \n",
       "4         AlbertHackett AlbertHackett AlbertHackett    \n",
       "\n",
       "                                       plot_keywords  \n",
       "0                   toy rivalry cowboy cgi animation  \n",
       "1                   board game adventurer fight game  \n",
       "2                         boat lake neighbor rivalry  \n",
       "3  black american husband wife relationship betra...  \n",
       "4                    fatherhood doberman dog mansion  "
      ]
     },
     "execution_count": 22,
     "metadata": {},
     "output_type": "execute_result"
    }
   ],
   "source": [
    "df_cleaned.head()"
   ]
  },
  {
   "cell_type": "code",
   "execution_count": 23,
   "id": "9fb81f88",
   "metadata": {},
   "outputs": [],
   "source": [
    "df_data_string = df_cleaned['title'] + \" \" + df_cleaned['genres'] + \" \" + df_cleaned['title_cast'] + \" \" + df_cleaned['director'] + \" \" + df_cleaned['plot_keywords']"
   ]
  },
  {
   "cell_type": "code",
   "execution_count": 24,
   "id": "528d83d4",
   "metadata": {},
   "outputs": [
    {
     "data": {
      "text/plain": [
       "0    Toy Story (1995) Adventure Animation Children ...\n",
       "1    Jumanji (1995) Adventure Children Fantasy Robi...\n",
       "2    Grumpier Old Men (1995) Comedy Romance WalterM...\n",
       "3    Waiting to Exhale (1995) Comedy Drama Romance ...\n",
       "4    Father of the Bride Part II (1995) Comedy Stev...\n",
       "dtype: object"
      ]
     },
     "execution_count": 24,
     "metadata": {},
     "output_type": "execute_result"
    }
   ],
   "source": [
    "df_data_string.head()"
   ]
  },
  {
   "cell_type": "code",
   "execution_count": null,
   "id": "c3159ac5",
   "metadata": {},
   "outputs": [],
   "source": [
    "# vectorization\n",
    "\n",
    "vectorizer = TfidfVectorizer(analyzer='word', ngram_range=(1, 2), min_df=1, max_df=0.5, stop_words='english')\n",
    "features = vectorizer.fit_transform(df_data_string)"
   ]
  },
  {
   "cell_type": "code",
   "execution_count": null,
   "id": "4ccfea4b",
   "metadata": {},
   "outputs": [],
   "source": [
    "features.astype(np.float16)"
   ]
  },
  {
   "cell_type": "code",
   "execution_count": null,
   "id": "3fc5293e",
   "metadata": {},
   "outputs": [],
   "source": [
    "# creating the similarity matrix\n",
    "cosine_sim = cosine_similarity(features[0:1000], features)"
   ]
  },
  {
   "cell_type": "code",
   "execution_count": null,
   "id": "840abb56",
   "metadata": {},
   "outputs": [],
   "source": [
    "cosine_sim.shape"
   ]
  },
  {
   "cell_type": "code",
   "execution_count": 45,
   "id": "8a50c13f",
   "metadata": {},
   "outputs": [
    {
     "data": {
      "text/plain": [
       "0             1\n",
       "1             2\n",
       "2             3\n",
       "3             4\n",
       "4             5\n",
       "          ...  \n",
       "62418    209157\n",
       "62419    209159\n",
       "62420    209163\n",
       "62421    209169\n",
       "62422    209171\n",
       "Name: movieId, Length: 62423, dtype: int64"
      ]
     },
     "execution_count": 45,
     "metadata": {},
     "output_type": "execute_result"
    }
   ],
   "source": [
    "df_cleaned.movieId"
   ]
  },
  {
   "cell_type": "code",
   "execution_count": null,
   "id": "1bb467a8",
   "metadata": {},
   "outputs": [],
   "source": []
  }
 ],
 "metadata": {
  "kernelspec": {
   "display_name": "Python 3 (ipykernel)",
   "language": "python",
   "name": "python3"
  },
  "language_info": {
   "codemirror_mode": {
    "name": "ipython",
    "version": 3
   },
   "file_extension": ".py",
   "mimetype": "text/x-python",
   "name": "python",
   "nbconvert_exporter": "python",
   "pygments_lexer": "ipython3",
   "version": "3.7.6"
  }
 },
 "nbformat": 4,
 "nbformat_minor": 5
}
