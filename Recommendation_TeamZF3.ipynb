{
 "cells": [
  {
   "cell_type": "markdown",
   "id": "7dc42a1c",
   "metadata": {},
   "source": [
    "# Movie Recommendation and Rating - Team ZF3\n",
    "\n",
    "© Explore Data Science Academy 2022\n",
    "\n",
    "---\n",
    "\n",
    "###### Team Members\n",
    "\n",
    "1. Ubasinachi Eleonu\n",
    "2. Bongani Mkhize\n",
    "3. Abubakar Abdulkadir\n",
    "4. Michael Mamah\n",
    "5. Joseph Okonkwo\n",
    "6. \n",
    "\n",
    "---"
   ]
  },
  {
   "cell_type": "markdown",
   "id": "4dd0fc14",
   "metadata": {},
   "source": [
    "## Project Overview\n",
    "\n",
    "<img src=\"https://th.bing.com/th/id/R.f32f6c0a36b1166033122544cf0dd8a1?rik=QmYumf41lwVQgA&pid=ImgRaw&r=0\" style='margin-top:30x; margin-bottom:30px'/>\n",
    "It is almost impossible for a person to attempt to consume all the products and choices available. It is even most likely that a person will not have the time, patience or resources to even view the myraids of choices in terms of products and services available at his disposal. Hence, it becomes almost imperative for producers of goods and services to help narrow down the choices of products presented to their users in an attempt to reduce overwhelming them and help them reach thier relevant products and services without waste of time and as a result, helping them have a better user experience, while also exposing them to more products and services they might have never discovered otherwise. This help comes in the form of  <b> recommendation </b>\n",
    "\n",
    "Simple as the above sounds, it is not as easy to implement because the traditional approach would have been to deploy product recommender agents (like customer service representatives) who will handle recommendation requests from customers. But these agents will be unable to learn about every of thier customers and what products and services they might want and find useful. So how does one recommend products and services to people he does not know?\n",
    "\n",
    "The response is using Recommender Systems. Recommender systems are machine learning systems that help users discover products and services based on the relationship between the users and the products.Recommender systems are like salesmen who have learnt to recognize customers and the products they might like based on their history and preferences. Recommender systems are so common place now that every time you shop online, a  recommendation system is guiding you towards the most likely product you might purchase.\n",
    "\n",
    "There are several use cases of the recommender system. But this project will focus on movie recommendation.\n",
    "\n",
    "---"
   ]
  },
  {
   "cell_type": "markdown",
   "id": "e5ea8e42",
   "metadata": {},
   "source": [
    "## 1.0 Project Objective\n",
    "\n",
    "To build a recommendation system capable of recommending movies to users and predicting ratings a user might give a movie they have never seen bebfore. <br ><br>"
   ]
  },
  {
   "cell_type": "markdown",
   "id": "d3289f47",
   "metadata": {},
   "source": [
    "## 2.0 Packages"
   ]
  },
  {
   "cell_type": "markdown",
   "id": "a5765a86",
   "metadata": {},
   "source": [
    "### 2.1. Installing Packages\n",
    "\n",
    "For this project, two major libraries were leveraged on - sklearn and surprise. Sklearn is the most mopular of the two."
   ]
  },
  {
   "cell_type": "code",
   "execution_count": null,
   "id": "058ec304",
   "metadata": {},
   "outputs": [],
   "source": [
    "!pip install scikit-surprise"
   ]
  },
  {
   "cell_type": "markdown",
   "id": "a5a3694f",
   "metadata": {},
   "source": [
    "- <a href=\"http://surpriselib.com/\"> Surprise</a> is a Python scikit for building and analyzing recommender systems that deal with explicit rating data. It does not support implicit ratings or content-based information. Surprise was used in this project to make collaborative prediction. <br>"
   ]
  },
  {
   "cell_type": "markdown",
   "id": "f8e78f84",
   "metadata": {},
   "source": [
    "### 2.2 Importing Packages "
   ]
  },
  {
   "cell_type": "code",
   "execution_count": 2,
   "id": "48f5c979",
   "metadata": {},
   "outputs": [],
   "source": [
    "# data loading and preprocessing \n",
    "import numpy as np \n",
    "import pandas as pd \n",
    "import pickle as pkl\n",
    "from collections import Counter\n",
    "from surprise import Reader\n",
    "from surprise import Dataset\n",
    "import math\n",
    "\n",
    "# Visualisation\n",
    "import matplotlib.pyplot as plt\n",
    "import seaborn as sns\n",
    "\n",
    "# feature extration and similarity metrics\n",
    "from sklearn.feature_extraction.text import TfidfVectorizer, CountVectorizer\n",
    "from sklearn.metrics.pairwise import linear_kernel, cosine_similarity\n",
    "\n",
    "#modeling and validation\n",
    "from surprise.model_selection import cross_validate\n",
    "from surprise import NormalPredictor\n",
    "from surprise import KNNBasic\n",
    "from surprise import KNNWithMeans\n",
    "from surprise import KNNWithZScore\n",
    "from surprise import KNNBaseline\n",
    "from surprise import SVD\n",
    "from surprise import BaselineOnly\n",
    "from surprise import SVDpp\n",
    "from surprise import NMF\n",
    "from surprise import SlopeOne\n",
    "from surprise import CoClustering\n",
    "from surprise.accuracy import rmse\n",
    "from surprise import accuracy\n",
    "from surprise.model_selection import train_test_split\n",
    "from surprise.model_selection import GridSearchCV"
   ]
  },
  {
   "cell_type": "markdown",
   "id": "039aa0d9",
   "metadata": {},
   "source": [
    "<br />\n",
    "\n",
    "## 3.0 Loading Datasets\n",
    "\n",
    "    \n",
    "The dataset used for this project is the MovieLens dataset maintained by the GroupLens research group in the Department of Computer Science and Engineering at the University of Minnesota. Additional movie content data was legally scraped from IMDB. The dataset can be found <a href=\"https://www.kaggle.com/competitions/edsa-movie-recommendation-2022/data\"> here</a>. Pandas library will be used to access and Manipulate the datasets."
   ]
  },
  {
   "cell_type": "code",
   "execution_count": 3,
   "id": "1f488215",
   "metadata": {},
   "outputs": [],
   "source": [
    "# read movie dataset\n",
    "df_movies = pd.read_csv('data/movies.csv')"
   ]
  },
  {
   "cell_type": "code",
   "execution_count": 9,
   "id": "5cc9acc9",
   "metadata": {},
   "outputs": [],
   "source": [
    "# read the ratings dataset\n",
    "df_rating = pd.read_csv('data/train.csv')"
   ]
  },
  {
   "cell_type": "code",
   "execution_count": 5,
   "id": "a4db1727",
   "metadata": {},
   "outputs": [],
   "source": [
    "# read the movie additional information\n",
    "df_meta = pd.read_csv('data/imdb_data.csv')"
   ]
  },
  {
   "cell_type": "code",
   "execution_count": 13,
   "id": "35312434",
   "metadata": {},
   "outputs": [],
   "source": [
    "data = pd.read_csv(\"C:/Users/USER/Desktop/recommedation/submission/submission.csv\")"
   ]
  },
  {
   "cell_type": "code",
   "execution_count": 15,
   "id": "6700e7c5",
   "metadata": {},
   "outputs": [],
   "source": [
    "data['rating'] = data['rating'].apply(lambda x: round(x, 1))"
   ]
  },
  {
   "cell_type": "code",
   "execution_count": 16,
   "id": "b4afd238",
   "metadata": {},
   "outputs": [],
   "source": [
    "data.to_csv(\"C:/Users/USER/Desktop/recommedation/submission/submission_main.csv\", index=False)"
   ]
  },
  {
   "cell_type": "markdown",
   "id": "d559cabe",
   "metadata": {},
   "source": [
    "<br><br>\n",
    "## 4.0 Exploratory Data Analysis\n",
    "\n",
    "\n",
    "Exploratory data analysis is an approach to analyzing data sets to summarize their main characteristics, often with visual methods. Primarily, EDA is for seeing what the data can tell us beyond the formal modeling or hypothesis testing task.This approach for data analysis uses many tools(mainly graphical to maximize insight into a data set, extract important variables, detect outliers and anomalies, amongst other details that is missed when looking at DataFrame. This step is very important especially when we model the data in order to apply Machine Learning techniques."
   ]
  },
  {
   "cell_type": "markdown",
   "id": "2c863dbc",
   "metadata": {},
   "source": [
    "<br><br>\n",
    "## 5.0 Content Based Recommendaton\n",
    "\n",
    "This section of the project aims at making recommenadations and rating using the content-based aproach. This approach uses the similarity between items to make recommendations. It is based off the assumption that if a user likes a particular item, the user will like items similar to that items. Hence, if a user rates a particular movie very high, there is aa high chance the user will rank other similar movies high. "
   ]
  },
  {
   "cell_type": "markdown",
   "id": "ccc607e0",
   "metadata": {},
   "source": [
    "### 5.1 Feature Engineering and Selection\n",
    "\n",
    "\n",
    "This project considers building a recommender off the movie genre, the director and the plot keyword feature. "
   ]
  },
  {
   "cell_type": "markdown",
   "id": "c2b559c2",
   "metadata": {},
   "source": [
    "#### 5.1.1 Selecting the Required Features\n",
    "\n",
    "The movie genre is available in the movies dataset, the director and plot keywords features are in the imdb_data dataset. Hence, there is a need to merge both datasets and extract the required features. "
   ]
  },
  {
   "cell_type": "code",
   "execution_count": 33,
   "id": "9824e798",
   "metadata": {},
   "outputs": [
    {
     "data": {
      "text/html": [
       "<div>\n",
       "<style scoped>\n",
       "    .dataframe tbody tr th:only-of-type {\n",
       "        vertical-align: middle;\n",
       "    }\n",
       "\n",
       "    .dataframe tbody tr th {\n",
       "        vertical-align: top;\n",
       "    }\n",
       "\n",
       "    .dataframe thead th {\n",
       "        text-align: right;\n",
       "    }\n",
       "</style>\n",
       "<table border=\"1\" class=\"dataframe\">\n",
       "  <thead>\n",
       "    <tr style=\"text-align: right;\">\n",
       "      <th></th>\n",
       "      <th>movieId</th>\n",
       "      <th>title</th>\n",
       "      <th>genres</th>\n",
       "      <th>director</th>\n",
       "      <th>plot_keywords</th>\n",
       "    </tr>\n",
       "  </thead>\n",
       "  <tbody>\n",
       "    <tr>\n",
       "      <th>0</th>\n",
       "      <td>1</td>\n",
       "      <td>Toy Story (1995)</td>\n",
       "      <td>Adventure|Animation|Children|Comedy|Fantasy</td>\n",
       "      <td>John Lasseter</td>\n",
       "      <td>toy|rivalry|cowboy|cgi animation</td>\n",
       "    </tr>\n",
       "    <tr>\n",
       "      <th>1</th>\n",
       "      <td>2</td>\n",
       "      <td>Jumanji (1995)</td>\n",
       "      <td>Adventure|Children|Fantasy</td>\n",
       "      <td>Jonathan Hensleigh</td>\n",
       "      <td>board game|adventurer|fight|game</td>\n",
       "    </tr>\n",
       "    <tr>\n",
       "      <th>2</th>\n",
       "      <td>3</td>\n",
       "      <td>Grumpier Old Men (1995)</td>\n",
       "      <td>Comedy|Romance</td>\n",
       "      <td>Mark Steven Johnson</td>\n",
       "      <td>boat|lake|neighbor|rivalry</td>\n",
       "    </tr>\n",
       "    <tr>\n",
       "      <th>3</th>\n",
       "      <td>4</td>\n",
       "      <td>Waiting to Exhale (1995)</td>\n",
       "      <td>Comedy|Drama|Romance</td>\n",
       "      <td>Terry McMillan</td>\n",
       "      <td>black american|husband wife relationship|betra...</td>\n",
       "    </tr>\n",
       "    <tr>\n",
       "      <th>4</th>\n",
       "      <td>5</td>\n",
       "      <td>Father of the Bride Part II (1995)</td>\n",
       "      <td>Comedy</td>\n",
       "      <td>Albert Hackett</td>\n",
       "      <td>fatherhood|doberman|dog|mansion</td>\n",
       "    </tr>\n",
       "  </tbody>\n",
       "</table>\n",
       "</div>"
      ],
      "text/plain": [
       "   movieId                               title  \\\n",
       "0        1                    Toy Story (1995)   \n",
       "1        2                      Jumanji (1995)   \n",
       "2        3             Grumpier Old Men (1995)   \n",
       "3        4            Waiting to Exhale (1995)   \n",
       "4        5  Father of the Bride Part II (1995)   \n",
       "\n",
       "                                        genres             director  \\\n",
       "0  Adventure|Animation|Children|Comedy|Fantasy        John Lasseter   \n",
       "1                   Adventure|Children|Fantasy   Jonathan Hensleigh   \n",
       "2                               Comedy|Romance  Mark Steven Johnson   \n",
       "3                         Comedy|Drama|Romance       Terry McMillan   \n",
       "4                                       Comedy       Albert Hackett   \n",
       "\n",
       "                                       plot_keywords  \n",
       "0                   toy|rivalry|cowboy|cgi animation  \n",
       "1                   board game|adventurer|fight|game  \n",
       "2                         boat|lake|neighbor|rivalry  \n",
       "3  black american|husband wife relationship|betra...  \n",
       "4                    fatherhood|doberman|dog|mansion  "
      ]
     },
     "execution_count": 33,
     "metadata": {},
     "output_type": "execute_result"
    }
   ],
   "source": [
    "# Extract movieId, title_cast, director and plot_keywords from df_meta\n",
    "df_meta = df_meta[['movieId', 'director', 'plot_keywords']]\n",
    "\n",
    "\n",
    "# merge meta dataset to movies dataset to produce our train dataset\n",
    "df_train = df_movies.merge(df_meta, on='movieId', how='left')\n",
    "df_train.head()"
   ]
  },
  {
   "cell_type": "markdown",
   "id": "b426f060",
   "metadata": {},
   "source": [
    "<br>\n",
    "\n",
    "#### 5.1.2 Cleaning the Selected features\n",
    "\n",
    "The genres and plot keywords feature contains genres and keywords seperated by the '|' character. There is a need to replace the seperator character with a space. On the director feature, there is a need to remove the space between the director name and surname; this is so that the model will not percieve any similarity between Albert Johnson and Albert Robert. They are totally different persons. And lastly, merging the features together and changing them to all lowercasing."
   ]
  },
  {
   "cell_type": "code",
   "execution_count": 35,
   "id": "d140484f",
   "metadata": {},
   "outputs": [
    {
     "data": {
      "text/plain": [
       "0        adventure animation children comedy fantasy jo...\n",
       "1        adventure children fantasy jonathanhensleigh  ...\n",
       "2        comedy romance markstevenjohnson  boat lake ne...\n",
       "3        comedy drama romance terrymcmillan  black amer...\n",
       "4        comedy alberthackett  fatherhood doberman dog ...\n",
       "                               ...                        \n",
       "62418                                            drama    \n",
       "62419                                      documentary    \n",
       "62420                                     comedy drama    \n",
       "62421                                                     \n",
       "62422                           action adventure drama    \n",
       "Length: 62423, dtype: object"
      ]
     },
     "execution_count": 35,
     "metadata": {},
     "output_type": "execute_result"
    }
   ],
   "source": [
    "# handle missing data\n",
    "df_train.fillna(' ', inplace=True)\n",
    "\n",
    "# replacing \"|\" and \"(no genres listed)\" with ' ' in genre\n",
    "df_train['genres'] = df_train['genres'].apply(lambda x: x.replace(\"|\" , ' ')\n",
    "                                       .replace(\"(no genres listed)\", ' '))\n",
    "\n",
    "# replacing \" \" with ' ' in director\n",
    "df_train['director'] = df_train['director'].apply(lambda x: ((x+'|'))\n",
    "                                            .replace(\" \", '')\n",
    "                                            .replace(\"|\", \" \"))\n",
    "\n",
    "# replace \"|\" with ' ' in plot_keywords\n",
    "df_train['plot_keywords'] = df_train['plot_keywords'].apply(lambda x: x.replace(\"|\", \" \"))\n",
    "\n",
    "# Merge the genres, plot_keywords and director names as our major predictors\n",
    "df_train = df_train['genres'] + \" \" + df_train['director'] + \" \" + df_train['plot_keywords']\n",
    "\n",
    "# change to lower case\n",
    "df_train.apply(str.lower)"
   ]
  },
  {
   "cell_type": "markdown",
   "id": "fe9dbeb8",
   "metadata": {},
   "source": [
    "#### 5.1.3 Vectorization\n",
    "\n",
    "To create a model, there is a need to have a set of feature(s) with numerical values since most models only accept numerical values for feature sets. For this project, our feature is a string of words. Hence there is a need to create vectors of digits from these words. The process is called Vectorization.\n",
    "\n",
    "For this project we define a vectorizer with the following tuning\n",
    "- analyser = 'word'\n",
    "- ngram_range = (1, 1)\n",
    "- max_df = 0.3\n",
    "- min_df = 20\n",
    "- stop_words = 'english'"
   ]
  },
  {
   "cell_type": "code",
   "execution_count": 37,
   "id": "42f81104",
   "metadata": {},
   "outputs": [],
   "source": [
    "vectorizer = TfidfVectorizer(analyzer='word', ngram_range=(1, 1), min_df=20, max_df=0.3, stop_words='english')\n",
    "features = vectorizer.fit_transform(df_train)"
   ]
  },
  {
   "cell_type": "markdown",
   "id": "459082d2",
   "metadata": {},
   "source": [
    "### 5.2 Recommending\n",
    "\n",
    "In this section, we will recommend m"
   ]
  },
  {
   "cell_type": "code",
   "execution_count": null,
   "id": "4be9c2f0",
   "metadata": {},
   "outputs": [],
   "source": []
  },
  {
   "cell_type": "code",
   "execution_count": 28,
   "id": "c9f31838",
   "metadata": {},
   "outputs": [],
   "source": [
    "# merging dataset to form our inital dataset\n",
    "\n",
    "df_merged = df_movies.merge(df_meta, on='movieId', how='left')"
   ]
  },
  {
   "cell_type": "code",
   "execution_count": 29,
   "id": "39347b0a",
   "metadata": {},
   "outputs": [
    {
     "data": {
      "text/plain": [
       "(62423, 5)"
      ]
     },
     "execution_count": 29,
     "metadata": {},
     "output_type": "execute_result"
    }
   ],
   "source": [
    "df_merged.shape"
   ]
  },
  {
   "cell_type": "code",
   "execution_count": 30,
   "id": "009dd901",
   "metadata": {},
   "outputs": [
    {
     "name": "stdout",
     "output_type": "stream",
     "text": [
      "<class 'pandas.core.frame.DataFrame'>\n",
      "Int64Index: 62423 entries, 0 to 62422\n",
      "Data columns (total 5 columns):\n",
      " #   Column         Non-Null Count  Dtype \n",
      "---  ------         --------------  ----- \n",
      " 0   movieId        62423 non-null  int64 \n",
      " 1   title          62423 non-null  object\n",
      " 2   genres         62423 non-null  object\n",
      " 3   director       15347 non-null  object\n",
      " 4   plot_keywords  14384 non-null  object\n",
      "dtypes: int64(1), object(4)\n",
      "memory usage: 2.9+ MB\n"
     ]
    }
   ],
   "source": [
    "df_merged.info()"
   ]
  },
  {
   "cell_type": "code",
   "execution_count": 31,
   "id": "cc028ebe",
   "metadata": {},
   "outputs": [
    {
     "ename": "KeyError",
     "evalue": "'title_cast'",
     "output_type": "error",
     "traceback": [
      "\u001b[1;31m---------------------------------------------------------------------------\u001b[0m",
      "\u001b[1;31mKeyError\u001b[0m                                  Traceback (most recent call last)",
      "\u001b[1;32mc:\\users\\user\\appdata\\local\\programs\\python\\python37\\lib\\site-packages\\pandas\\core\\indexes\\base.py\u001b[0m in \u001b[0;36mget_loc\u001b[1;34m(self, key, method, tolerance)\u001b[0m\n\u001b[0;32m   3360\u001b[0m             \u001b[1;32mtry\u001b[0m\u001b[1;33m:\u001b[0m\u001b[1;33m\u001b[0m\u001b[1;33m\u001b[0m\u001b[0m\n\u001b[1;32m-> 3361\u001b[1;33m                 \u001b[1;32mreturn\u001b[0m \u001b[0mself\u001b[0m\u001b[1;33m.\u001b[0m\u001b[0m_engine\u001b[0m\u001b[1;33m.\u001b[0m\u001b[0mget_loc\u001b[0m\u001b[1;33m(\u001b[0m\u001b[0mcasted_key\u001b[0m\u001b[1;33m)\u001b[0m\u001b[1;33m\u001b[0m\u001b[1;33m\u001b[0m\u001b[0m\n\u001b[0m\u001b[0;32m   3362\u001b[0m             \u001b[1;32mexcept\u001b[0m \u001b[0mKeyError\u001b[0m \u001b[1;32mas\u001b[0m \u001b[0merr\u001b[0m\u001b[1;33m:\u001b[0m\u001b[1;33m\u001b[0m\u001b[1;33m\u001b[0m\u001b[0m\n",
      "\u001b[1;32mc:\\users\\user\\appdata\\local\\programs\\python\\python37\\lib\\site-packages\\pandas\\_libs\\index.pyx\u001b[0m in \u001b[0;36mpandas._libs.index.IndexEngine.get_loc\u001b[1;34m()\u001b[0m\n",
      "\u001b[1;32mc:\\users\\user\\appdata\\local\\programs\\python\\python37\\lib\\site-packages\\pandas\\_libs\\index.pyx\u001b[0m in \u001b[0;36mpandas._libs.index.IndexEngine.get_loc\u001b[1;34m()\u001b[0m\n",
      "\u001b[1;32mpandas\\_libs\\hashtable_class_helper.pxi\u001b[0m in \u001b[0;36mpandas._libs.hashtable.PyObjectHashTable.get_item\u001b[1;34m()\u001b[0m\n",
      "\u001b[1;32mpandas\\_libs\\hashtable_class_helper.pxi\u001b[0m in \u001b[0;36mpandas._libs.hashtable.PyObjectHashTable.get_item\u001b[1;34m()\u001b[0m\n",
      "\u001b[1;31mKeyError\u001b[0m: 'title_cast'",
      "\nThe above exception was the direct cause of the following exception:\n",
      "\u001b[1;31mKeyError\u001b[0m                                  Traceback (most recent call last)",
      "\u001b[1;32m~\\AppData\\Local\\Temp\\ipykernel_2228\\2955906455.py\u001b[0m in \u001b[0;36m<module>\u001b[1;34m\u001b[0m\n\u001b[0;32m      1\u001b[0m \u001b[1;31m# handle missing data\u001b[0m\u001b[1;33m\u001b[0m\u001b[1;33m\u001b[0m\u001b[1;33m\u001b[0m\u001b[0m\n\u001b[1;32m----> 2\u001b[1;33m \u001b[0mdf_merged\u001b[0m\u001b[1;33m[\u001b[0m\u001b[1;34m'title_cast'\u001b[0m\u001b[1;33m]\u001b[0m\u001b[1;33m.\u001b[0m\u001b[0mfillna\u001b[0m\u001b[1;33m(\u001b[0m\u001b[1;34m' '\u001b[0m\u001b[1;33m,\u001b[0m \u001b[0minplace\u001b[0m\u001b[1;33m=\u001b[0m\u001b[1;32mTrue\u001b[0m\u001b[1;33m)\u001b[0m\u001b[1;33m\u001b[0m\u001b[1;33m\u001b[0m\u001b[0m\n\u001b[0m\u001b[0;32m      3\u001b[0m \u001b[0mdf_merged\u001b[0m\u001b[1;33m[\u001b[0m\u001b[1;34m'director'\u001b[0m\u001b[1;33m]\u001b[0m\u001b[1;33m.\u001b[0m\u001b[0mfillna\u001b[0m\u001b[1;33m(\u001b[0m\u001b[1;34m' '\u001b[0m\u001b[1;33m,\u001b[0m \u001b[0minplace\u001b[0m\u001b[1;33m=\u001b[0m\u001b[1;32mTrue\u001b[0m\u001b[1;33m)\u001b[0m\u001b[1;33m\u001b[0m\u001b[1;33m\u001b[0m\u001b[0m\n\u001b[0;32m      4\u001b[0m \u001b[0mdf_merged\u001b[0m\u001b[1;33m[\u001b[0m\u001b[1;34m'plot_keywords'\u001b[0m\u001b[1;33m]\u001b[0m\u001b[1;33m.\u001b[0m\u001b[0mfillna\u001b[0m\u001b[1;33m(\u001b[0m\u001b[1;34m' '\u001b[0m\u001b[1;33m,\u001b[0m \u001b[0minplace\u001b[0m\u001b[1;33m=\u001b[0m\u001b[1;32mTrue\u001b[0m\u001b[1;33m)\u001b[0m\u001b[1;33m\u001b[0m\u001b[1;33m\u001b[0m\u001b[0m\n",
      "\u001b[1;32mc:\\users\\user\\appdata\\local\\programs\\python\\python37\\lib\\site-packages\\pandas\\core\\frame.py\u001b[0m in \u001b[0;36m__getitem__\u001b[1;34m(self, key)\u001b[0m\n\u001b[0;32m   3456\u001b[0m             \u001b[1;32mif\u001b[0m \u001b[0mself\u001b[0m\u001b[1;33m.\u001b[0m\u001b[0mcolumns\u001b[0m\u001b[1;33m.\u001b[0m\u001b[0mnlevels\u001b[0m \u001b[1;33m>\u001b[0m \u001b[1;36m1\u001b[0m\u001b[1;33m:\u001b[0m\u001b[1;33m\u001b[0m\u001b[1;33m\u001b[0m\u001b[0m\n\u001b[0;32m   3457\u001b[0m                 \u001b[1;32mreturn\u001b[0m \u001b[0mself\u001b[0m\u001b[1;33m.\u001b[0m\u001b[0m_getitem_multilevel\u001b[0m\u001b[1;33m(\u001b[0m\u001b[0mkey\u001b[0m\u001b[1;33m)\u001b[0m\u001b[1;33m\u001b[0m\u001b[1;33m\u001b[0m\u001b[0m\n\u001b[1;32m-> 3458\u001b[1;33m             \u001b[0mindexer\u001b[0m \u001b[1;33m=\u001b[0m \u001b[0mself\u001b[0m\u001b[1;33m.\u001b[0m\u001b[0mcolumns\u001b[0m\u001b[1;33m.\u001b[0m\u001b[0mget_loc\u001b[0m\u001b[1;33m(\u001b[0m\u001b[0mkey\u001b[0m\u001b[1;33m)\u001b[0m\u001b[1;33m\u001b[0m\u001b[1;33m\u001b[0m\u001b[0m\n\u001b[0m\u001b[0;32m   3459\u001b[0m             \u001b[1;32mif\u001b[0m \u001b[0mis_integer\u001b[0m\u001b[1;33m(\u001b[0m\u001b[0mindexer\u001b[0m\u001b[1;33m)\u001b[0m\u001b[1;33m:\u001b[0m\u001b[1;33m\u001b[0m\u001b[1;33m\u001b[0m\u001b[0m\n\u001b[0;32m   3460\u001b[0m                 \u001b[0mindexer\u001b[0m \u001b[1;33m=\u001b[0m \u001b[1;33m[\u001b[0m\u001b[0mindexer\u001b[0m\u001b[1;33m]\u001b[0m\u001b[1;33m\u001b[0m\u001b[1;33m\u001b[0m\u001b[0m\n",
      "\u001b[1;32mc:\\users\\user\\appdata\\local\\programs\\python\\python37\\lib\\site-packages\\pandas\\core\\indexes\\base.py\u001b[0m in \u001b[0;36mget_loc\u001b[1;34m(self, key, method, tolerance)\u001b[0m\n\u001b[0;32m   3361\u001b[0m                 \u001b[1;32mreturn\u001b[0m \u001b[0mself\u001b[0m\u001b[1;33m.\u001b[0m\u001b[0m_engine\u001b[0m\u001b[1;33m.\u001b[0m\u001b[0mget_loc\u001b[0m\u001b[1;33m(\u001b[0m\u001b[0mcasted_key\u001b[0m\u001b[1;33m)\u001b[0m\u001b[1;33m\u001b[0m\u001b[1;33m\u001b[0m\u001b[0m\n\u001b[0;32m   3362\u001b[0m             \u001b[1;32mexcept\u001b[0m \u001b[0mKeyError\u001b[0m \u001b[1;32mas\u001b[0m \u001b[0merr\u001b[0m\u001b[1;33m:\u001b[0m\u001b[1;33m\u001b[0m\u001b[1;33m\u001b[0m\u001b[0m\n\u001b[1;32m-> 3363\u001b[1;33m                 \u001b[1;32mraise\u001b[0m \u001b[0mKeyError\u001b[0m\u001b[1;33m(\u001b[0m\u001b[0mkey\u001b[0m\u001b[1;33m)\u001b[0m \u001b[1;32mfrom\u001b[0m \u001b[0merr\u001b[0m\u001b[1;33m\u001b[0m\u001b[1;33m\u001b[0m\u001b[0m\n\u001b[0m\u001b[0;32m   3364\u001b[0m \u001b[1;33m\u001b[0m\u001b[0m\n\u001b[0;32m   3365\u001b[0m         \u001b[1;32mif\u001b[0m \u001b[0mis_scalar\u001b[0m\u001b[1;33m(\u001b[0m\u001b[0mkey\u001b[0m\u001b[1;33m)\u001b[0m \u001b[1;32mand\u001b[0m \u001b[0misna\u001b[0m\u001b[1;33m(\u001b[0m\u001b[0mkey\u001b[0m\u001b[1;33m)\u001b[0m \u001b[1;32mand\u001b[0m \u001b[1;32mnot\u001b[0m \u001b[0mself\u001b[0m\u001b[1;33m.\u001b[0m\u001b[0mhasnans\u001b[0m\u001b[1;33m:\u001b[0m\u001b[1;33m\u001b[0m\u001b[1;33m\u001b[0m\u001b[0m\n",
      "\u001b[1;31mKeyError\u001b[0m: 'title_cast'"
     ]
    }
   ],
   "source": [
    "# handle missing data\n",
    "df_merged['title_cast'].fillna(' ', inplace=True)\n",
    "df_merged['director'].fillna(' ', inplace=True)\n",
    "df_merged['plot_keywords'].fillna(' ', inplace=True)"
   ]
  },
  {
   "cell_type": "code",
   "execution_count": null,
   "id": "6c669ea9",
   "metadata": {},
   "outputs": [],
   "source": [
    "df_merged.info()"
   ]
  },
  {
   "cell_type": "code",
   "execution_count": null,
   "id": "b902b9eb",
   "metadata": {},
   "outputs": [],
   "source": [
    "df_merged"
   ]
  },
  {
   "cell_type": "code",
   "execution_count": null,
   "id": "1793338b",
   "metadata": {},
   "outputs": [],
   "source": [
    "# cleaning the data in genres\n",
    "df_cleaned = df_merged.copy()\n",
    "df_cleaned['genres'] = df_merged['genres'].apply(lambda x: x.replace(\"|\" , ' ').replace(\"(no genres listed)\", ' '))"
   ]
  },
  {
   "cell_type": "code",
   "execution_count": null,
   "id": "6e1c0980",
   "metadata": {},
   "outputs": [],
   "source": [
    "df_cleaned['title_cast'] = df_merged['title_cast'].apply(lambda x: x.replace(\" \" , '').replace(\"|\", ' '))\n"
   ]
  },
  {
   "cell_type": "code",
   "execution_count": 18,
   "id": "36270679",
   "metadata": {},
   "outputs": [],
   "source": [
    "df_cleaned['director'] = df_merged['director'].apply(lambda x: ((x+'|') * 3).replace(\" \", '').replace(\"|\", \" \"))"
   ]
  },
  {
   "cell_type": "code",
   "execution_count": 19,
   "id": "8ce0576b",
   "metadata": {},
   "outputs": [
    {
     "data": {
      "text/plain": [
       "0                  JohnLasseter JohnLasseter JohnLasseter \n",
       "1        JonathanHensleigh JonathanHensleigh JonathanHe...\n",
       "2        MarkStevenJohnson MarkStevenJohnson MarkSteven...\n",
       "3               TerryMcMillan TerryMcMillan TerryMcMillan \n",
       "4               AlbertHackett AlbertHackett AlbertHackett \n",
       "                               ...                        \n",
       "62418                                                     \n",
       "62419                                                     \n",
       "62420                                                     \n",
       "62421                                                     \n",
       "62422                                                     \n",
       "Name: director, Length: 62423, dtype: object"
      ]
     },
     "execution_count": 19,
     "metadata": {},
     "output_type": "execute_result"
    }
   ],
   "source": [
    "df_cleaned['director']"
   ]
  },
  {
   "cell_type": "code",
   "execution_count": 20,
   "id": "5bed151f",
   "metadata": {},
   "outputs": [],
   "source": [
    "df_cleaned['plot_keywords'] = df_merged['plot_keywords'].apply(lambda x: x.replace(\"|\", \" \"))"
   ]
  },
  {
   "cell_type": "code",
   "execution_count": 21,
   "id": "2fb0707a",
   "metadata": {},
   "outputs": [
    {
     "data": {
      "text/plain": [
       "0                         toy rivalry cowboy cgi animation\n",
       "1                         board game adventurer fight game\n",
       "2                               boat lake neighbor rivalry\n",
       "3        black american husband wife relationship betra...\n",
       "4                          fatherhood doberman dog mansion\n",
       "                               ...                        \n",
       "62418                                                     \n",
       "62419                                                     \n",
       "62420                                                     \n",
       "62421                                                     \n",
       "62422                                                     \n",
       "Name: plot_keywords, Length: 62423, dtype: object"
      ]
     },
     "execution_count": 21,
     "metadata": {},
     "output_type": "execute_result"
    }
   ],
   "source": [
    "df_cleaned['plot_keywords']"
   ]
  },
  {
   "cell_type": "code",
   "execution_count": 22,
   "id": "e87377a7",
   "metadata": {},
   "outputs": [
    {
     "data": {
      "text/html": [
       "<div>\n",
       "<style scoped>\n",
       "    .dataframe tbody tr th:only-of-type {\n",
       "        vertical-align: middle;\n",
       "    }\n",
       "\n",
       "    .dataframe tbody tr th {\n",
       "        vertical-align: top;\n",
       "    }\n",
       "\n",
       "    .dataframe thead th {\n",
       "        text-align: right;\n",
       "    }\n",
       "</style>\n",
       "<table border=\"1\" class=\"dataframe\">\n",
       "  <thead>\n",
       "    <tr style=\"text-align: right;\">\n",
       "      <th></th>\n",
       "      <th>movieId</th>\n",
       "      <th>title</th>\n",
       "      <th>genres</th>\n",
       "      <th>title_cast</th>\n",
       "      <th>director</th>\n",
       "      <th>plot_keywords</th>\n",
       "    </tr>\n",
       "  </thead>\n",
       "  <tbody>\n",
       "    <tr>\n",
       "      <th>0</th>\n",
       "      <td>1</td>\n",
       "      <td>Toy Story (1995)</td>\n",
       "      <td>Adventure Animation Children Comedy Fantasy</td>\n",
       "      <td>TomHanks TimAllen DonRickles JimVarney Wallace...</td>\n",
       "      <td>JohnLasseter JohnLasseter JohnLasseter</td>\n",
       "      <td>toy rivalry cowboy cgi animation</td>\n",
       "    </tr>\n",
       "    <tr>\n",
       "      <th>1</th>\n",
       "      <td>2</td>\n",
       "      <td>Jumanji (1995)</td>\n",
       "      <td>Adventure Children Fantasy</td>\n",
       "      <td>RobinWilliams JonathanHyde KirstenDunst Bradle...</td>\n",
       "      <td>JonathanHensleigh JonathanHensleigh JonathanHe...</td>\n",
       "      <td>board game adventurer fight game</td>\n",
       "    </tr>\n",
       "    <tr>\n",
       "      <th>2</th>\n",
       "      <td>3</td>\n",
       "      <td>Grumpier Old Men (1995)</td>\n",
       "      <td>Comedy Romance</td>\n",
       "      <td>WalterMatthau JackLemmon SophiaLoren Ann-Margr...</td>\n",
       "      <td>MarkStevenJohnson MarkStevenJohnson MarkSteven...</td>\n",
       "      <td>boat lake neighbor rivalry</td>\n",
       "    </tr>\n",
       "    <tr>\n",
       "      <th>3</th>\n",
       "      <td>4</td>\n",
       "      <td>Waiting to Exhale (1995)</td>\n",
       "      <td>Comedy Drama Romance</td>\n",
       "      <td>WhitneyHouston AngelaBassett LorettaDevine Lel...</td>\n",
       "      <td>TerryMcMillan TerryMcMillan TerryMcMillan</td>\n",
       "      <td>black american husband wife relationship betra...</td>\n",
       "    </tr>\n",
       "    <tr>\n",
       "      <th>4</th>\n",
       "      <td>5</td>\n",
       "      <td>Father of the Bride Part II (1995)</td>\n",
       "      <td>Comedy</td>\n",
       "      <td>SteveMartin DianeKeaton MartinShort KimberlyWi...</td>\n",
       "      <td>AlbertHackett AlbertHackett AlbertHackett</td>\n",
       "      <td>fatherhood doberman dog mansion</td>\n",
       "    </tr>\n",
       "  </tbody>\n",
       "</table>\n",
       "</div>"
      ],
      "text/plain": [
       "   movieId                               title  \\\n",
       "0        1                    Toy Story (1995)   \n",
       "1        2                      Jumanji (1995)   \n",
       "2        3             Grumpier Old Men (1995)   \n",
       "3        4            Waiting to Exhale (1995)   \n",
       "4        5  Father of the Bride Part II (1995)   \n",
       "\n",
       "                                        genres  \\\n",
       "0  Adventure Animation Children Comedy Fantasy   \n",
       "1                   Adventure Children Fantasy   \n",
       "2                               Comedy Romance   \n",
       "3                         Comedy Drama Romance   \n",
       "4                                       Comedy   \n",
       "\n",
       "                                          title_cast  \\\n",
       "0  TomHanks TimAllen DonRickles JimVarney Wallace...   \n",
       "1  RobinWilliams JonathanHyde KirstenDunst Bradle...   \n",
       "2  WalterMatthau JackLemmon SophiaLoren Ann-Margr...   \n",
       "3  WhitneyHouston AngelaBassett LorettaDevine Lel...   \n",
       "4  SteveMartin DianeKeaton MartinShort KimberlyWi...   \n",
       "\n",
       "                                            director  \\\n",
       "0            JohnLasseter JohnLasseter JohnLasseter    \n",
       "1  JonathanHensleigh JonathanHensleigh JonathanHe...   \n",
       "2  MarkStevenJohnson MarkStevenJohnson MarkSteven...   \n",
       "3         TerryMcMillan TerryMcMillan TerryMcMillan    \n",
       "4         AlbertHackett AlbertHackett AlbertHackett    \n",
       "\n",
       "                                       plot_keywords  \n",
       "0                   toy rivalry cowboy cgi animation  \n",
       "1                   board game adventurer fight game  \n",
       "2                         boat lake neighbor rivalry  \n",
       "3  black american husband wife relationship betra...  \n",
       "4                    fatherhood doberman dog mansion  "
      ]
     },
     "execution_count": 22,
     "metadata": {},
     "output_type": "execute_result"
    }
   ],
   "source": [
    "df_cleaned.head()"
   ]
  },
  {
   "cell_type": "code",
   "execution_count": 23,
   "id": "9fb81f88",
   "metadata": {},
   "outputs": [],
   "source": [
    "df_data_string = df_cleaned['title'] + \" \" + df_cleaned['genres'] + \" \" + df_cleaned['title_cast'] + \" \" + df_cleaned['director'] + \" \" + df_cleaned['plot_keywords']"
   ]
  },
  {
   "cell_type": "code",
   "execution_count": 24,
   "id": "528d83d4",
   "metadata": {},
   "outputs": [
    {
     "data": {
      "text/plain": [
       "0    Toy Story (1995) Adventure Animation Children ...\n",
       "1    Jumanji (1995) Adventure Children Fantasy Robi...\n",
       "2    Grumpier Old Men (1995) Comedy Romance WalterM...\n",
       "3    Waiting to Exhale (1995) Comedy Drama Romance ...\n",
       "4    Father of the Bride Part II (1995) Comedy Stev...\n",
       "dtype: object"
      ]
     },
     "execution_count": 24,
     "metadata": {},
     "output_type": "execute_result"
    }
   ],
   "source": [
    "df_data_string.head()"
   ]
  },
  {
   "cell_type": "code",
   "execution_count": null,
   "id": "c3159ac5",
   "metadata": {},
   "outputs": [],
   "source": [
    "# vectorization\n",
    "\n",
    "vectorizer = TfidfVectorizer(analyzer='word', ngram_range=(1, 2), min_df=1, max_df=0.5, stop_words='english')\n",
    "features = vectorizer.fit_transform(df_data_string)"
   ]
  },
  {
   "cell_type": "code",
   "execution_count": null,
   "id": "4ccfea4b",
   "metadata": {},
   "outputs": [],
   "source": [
    "features.astype(np.float16)"
   ]
  },
  {
   "cell_type": "code",
   "execution_count": null,
   "id": "3fc5293e",
   "metadata": {},
   "outputs": [],
   "source": [
    "# creating the similarity matrix\n",
    "cosine_sim = cosine_similarity(features[0:1000], features)"
   ]
  },
  {
   "cell_type": "code",
   "execution_count": null,
   "id": "840abb56",
   "metadata": {},
   "outputs": [],
   "source": [
    "cosine_sim.shape"
   ]
  },
  {
   "cell_type": "code",
   "execution_count": 45,
   "id": "8a50c13f",
   "metadata": {},
   "outputs": [
    {
     "data": {
      "text/plain": [
       "0             1\n",
       "1             2\n",
       "2             3\n",
       "3             4\n",
       "4             5\n",
       "          ...  \n",
       "62418    209157\n",
       "62419    209159\n",
       "62420    209163\n",
       "62421    209169\n",
       "62422    209171\n",
       "Name: movieId, Length: 62423, dtype: int64"
      ]
     },
     "execution_count": 45,
     "metadata": {},
     "output_type": "execute_result"
    }
   ],
   "source": [
    "df_cleaned.movieId"
   ]
  },
  {
   "cell_type": "code",
   "execution_count": null,
   "id": "1bb467a8",
   "metadata": {},
   "outputs": [],
   "source": []
  }
 ],
 "metadata": {
  "kernelspec": {
   "display_name": "Python 3 (ipykernel)",
   "language": "python",
   "name": "python3"
  },
  "language_info": {
   "codemirror_mode": {
    "name": "ipython",
    "version": 3
   },
   "file_extension": ".py",
   "mimetype": "text/x-python",
   "name": "python",
   "nbconvert_exporter": "python",
   "pygments_lexer": "ipython3",
   "version": "3.7.6"
  }
 },
 "nbformat": 4,
 "nbformat_minor": 5
}
