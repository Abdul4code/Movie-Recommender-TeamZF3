{
 "cells": [
  {
   "cell_type": "markdown",
   "id": "7dc42a1c",
   "metadata": {},
   "source": [
    "# Movie Recommendation System - Team ZF3\n",
    "\n",
    "© Strataz Analytics Ltd. 2022\n",
    "\n",
    "---\n",
    "\n",
    "###### Team Members\n",
    "\n",
    "1. Abubakar Abdulkadir\n",
    "2. Bongani Mkhize\n",
    "3. Ubasinachi Eleonu\n",
    "4. Michael Mamah\n",
    "5. Joseph Okonkwo\n",
    "6. Marvic Cocouvi\n",
    "\n",
    "---"
   ]
  },
  {
   "cell_type": "markdown",
   "id": "ec70a281",
   "metadata": {},
   "source": [
    "<a id=\"cont\"></a>\n",
    "\n",
    "## Table of Contents\n",
    "\n",
    "<a href=#i>I. Problem Statement</a>\n",
    "\n",
    "<a href=#ii>II. Project Objective</a>\n",
    "\n",
    "<a href=#one>1.0 Packages</a>\n",
    "\n",
    "<a href=#two>2.0 Loading Dataset</a>\n",
    "\n",
    "<a href=#three>3.0 Exploratory Data Analysis (EDA)</a>\n",
    "\n",
    "<a href=#four>4.0 Content Based Filtering</a>\n",
    "\n",
    "<a href=#five>5.0 Collaborative Filtering </a>\n",
    "\n",
    "<a href=#six>6.0 Submission</a>\n",
    "\n",
    "<a href=#seven>7.0 Conclusion</a>\n",
    "\n",
    "<a href=#eight>8.0 References</a>"
   ]
  },
  {
   "cell_type": "markdown",
   "id": "4dd0fc14",
   "metadata": {},
   "source": [
    "<a id=\"i\"></a>\n",
    "## I. Problem Statement <br ><br>\n",
    "\n",
    "<img src=\"https://th.bing.com/th/id/R.f32f6c0a36b1166033122544cf0dd8a1?rik=QmYumf41lwVQgA&pid=ImgRaw&r=0\" style='margin-top:30x; margin-bottom:30px'/>\n",
    "It is almost impossible for a person to attempt to consume all the products and choices available. It is even most likely that a person will not have the time, patience or resources to even view the myraids of choices in terms of products and services available at his disposal. Hence, it becomes almost imperative for producers of goods and services to help narrow down the choices of products presented to their users in an attempt to reduce overwhelming them and help them reach thier relevant products and services without waste of time and as a result, helping them have a better user experience, while also exposing them to more products and services they might have never discovered otherwise. This help comes in the form of  <b> recommendation </b>\n",
    "\n",
    "Simple as the above sounds, it is not as easy to implement because the traditional approach would have been to deploy product recommender agents (like customer service representatives) who will handle recommendation requests from customers. But these agents will be unable to learn about every of thier customers and what products and services they might want and find useful. So how does one recommend products and services to people he does not know?\n",
    "\n",
    "The response is using Recommender Systems. Recommender systems are machine learning systems that help users discover products and services based on the relationship between the users and the products.Recommender systems are like salesmen who have learnt to recognize customers and the products they might like based on their history and preferences. Recommender systems are so common place now that every time you shop online, a  recommendation system is guiding you towards the most likely product you might purchase.\n",
    "\n",
    "There are several use cases of the recommender system. But this project will focus on movie recommendation.\n",
    "\n",
    "---"
   ]
  },
  {
   "cell_type": "markdown",
   "id": "e5ea8e42",
   "metadata": {},
   "source": [
    "<a id=\"ii\"></a>\n",
    "## II. Project Objective\n",
    "\n",
    "Our primary objective is to build a recommendation system capable of recommending movies to users and predicting ratings a user might give a movie they have never seen bebfore. <br ><br>"
   ]
  },
  {
   "cell_type": "markdown",
   "id": "d3289f47",
   "metadata": {},
   "source": [
    "<a id=\"one\"></a>\n",
    "## 1.0 Packages\n",
    "<a href=#cont>Back to Table of Contents</a>"
   ]
  },
  {
   "cell_type": "markdown",
   "id": "a5765a86",
   "metadata": {},
   "source": [
    "### 1.1. Installing Packages\n",
    "\n",
    "For this project, two major libraries were leveraged on - sklearn and surprise. Sklearn is the most mopular of the two."
   ]
  },
  {
   "cell_type": "code",
   "execution_count": 25,
   "id": "058ec304",
   "metadata": {},
   "outputs": [
    {
     "name": "stdout",
     "output_type": "stream",
     "text": [
      "Requirement already satisfied: scikit-surprise in c:\\users\\ubasinachi\\anaconda3\\lib\\site-packages (1.1.1)\n",
      "Requirement already satisfied: six>=1.10.0 in c:\\users\\ubasinachi\\appdata\\roaming\\python\\python39\\site-packages (from scikit-surprise) (1.16.0)\n",
      "Requirement already satisfied: scipy>=1.0.0 in c:\\users\\ubasinachi\\anaconda3\\lib\\site-packages (from scikit-surprise) (1.7.1)\n",
      "Requirement already satisfied: joblib>=0.11 in c:\\users\\ubasinachi\\anaconda3\\lib\\site-packages (from scikit-surprise) (1.1.0)\n",
      "Requirement already satisfied: numpy>=1.11.2 in c:\\users\\ubasinachi\\anaconda3\\lib\\site-packages (from scikit-surprise) (1.20.3)\n"
     ]
    }
   ],
   "source": [
    "!pip install scikit-surprise"
   ]
  },
  {
   "cell_type": "markdown",
   "id": "a5a3694f",
   "metadata": {},
   "source": [
    "- <a href=\"http://surpriselib.com/\"> Surprise</a> is a Python scikit for building and analyzing recommender systems that deal with explicit rating data. It does not support implicit ratings or content-based information. Surprise was used in this project to make collaborative prediction. <br>"
   ]
  },
  {
   "cell_type": "markdown",
   "id": "f8e78f84",
   "metadata": {},
   "source": [
    "### 1.2 Importing Packages "
   ]
  },
  {
   "cell_type": "code",
   "execution_count": 26,
   "id": "48f5c979",
   "metadata": {},
   "outputs": [],
   "source": [
    "# data loading and preprocessing \n",
    "import numpy as np \n",
    "import pandas as pd \n",
    "import pickle as pkl\n",
    "from collections import Counter\n",
    "from surprise import Reader\n",
    "from surprise import Dataset\n",
    "import math\n",
    "\n",
    "# Visualisation\n",
    "import matplotlib.pyplot as plt\n",
    "import seaborn as sns\n",
    "\n",
    "# feature extration and similarity metrics\n",
    "from sklearn.feature_extraction.text import TfidfVectorizer, CountVectorizer\n",
    "from sklearn.metrics.pairwise import linear_kernel, cosine_similarity\n",
    "\n",
    "#modeling and validation\n",
    "from surprise.model_selection import cross_validate\n",
    "from surprise import NormalPredictor\n",
    "from surprise import KNNBasic\n",
    "from surprise import KNNWithMeans\n",
    "from surprise import KNNWithZScore\n",
    "from surprise import KNNBaseline\n",
    "from surprise import SVD\n",
    "from surprise import BaselineOnly\n",
    "from surprise import SVDpp\n",
    "from surprise import NMF\n",
    "from surprise import SlopeOne\n",
    "from surprise import CoClustering\n",
    "from surprise.accuracy import rmse\n",
    "from surprise import accuracy\n",
    "from surprise.model_selection import train_test_split\n",
    "from surprise.model_selection import GridSearchCV"
   ]
  },
  {
   "cell_type": "markdown",
   "id": "039aa0d9",
   "metadata": {},
   "source": [
    "<br />\n",
    "\n",
    "<a id=\"two\"></a>\n",
    "## 2.0 Loading Dataset\n",
    "<a href=#cont>Back to Table of Contents</a>\n",
    "\n",
    "The dataset used for this project is the MovieLens dataset maintained by the GroupLens research group in the Department of Computer Science and Engineering at the University of Minnesota. Additional movie content data was legally scraped from IMDB. The dataset can be found <a href=\"https://www.kaggle.com/competitions/edsa-movie-recommendation-2022/data\"> here</a>. Pandas library will be used to access and Manipulate the datasets."
   ]
  },
  {
   "cell_type": "code",
   "execution_count": 27,
   "id": "1f488215",
   "metadata": {},
   "outputs": [],
   "source": [
    "# read movie dataset\n",
    "df_movies = pd.read_csv('movies.csv')"
   ]
  },
  {
   "cell_type": "code",
   "execution_count": 28,
   "id": "5cc9acc9",
   "metadata": {},
   "outputs": [],
   "source": [
    "# read the ratings dataset\n",
    "df_rating = pd.read_csv('train_resized.csv')"
   ]
  },
  {
   "cell_type": "code",
   "execution_count": 29,
   "id": "a4db1727",
   "metadata": {},
   "outputs": [],
   "source": [
    "# read the movie additional information\n",
    "df_meta = pd.read_csv('imdb_data.csv')"
   ]
  },
  {
   "cell_type": "markdown",
   "id": "d559cabe",
   "metadata": {},
   "source": [
    "<br><br>\n",
    "\n",
    "<a id=\"three\"></a>\n",
    "## 3.0 Exploratory Data Analysis\n",
    "<a href=#cont>Back to Table of Contents</a>\n",
    "\n",
    "Exploratory data analysis is an approach to analyzing data sets to summarize their main characteristics, often with visual methods. Primarily, EDA is for seeing what the data can tell us beyond the formal modeling or hypothesis testing task.This approach for data analysis uses many tools(mainly graphical to maximize insight into a data set, extract important variables, detect outliers and anomalies, amongst other details that is missed when looking at DataFrame. This step is very important especially when we model the data in order to apply Machine Learning techniques. <br><br>"
   ]
  },
  {
   "cell_type": "markdown",
   "id": "ad0e4cac",
   "metadata": {},
   "source": [
    "### 3.1 Overview of Our Datasets"
   ]
  },
  {
   "cell_type": "markdown",
   "id": "18937148",
   "metadata": {},
   "source": [
    "The datasets for this project are eight. A brief overview is available <a href=\"https://www.kaggle.com/competitions/edsa-movie-recommendation-2022/data\"> here</a>. For the purose of this project, we will be looking at three of those dataset (already imported above) which our models will most likely be relying on. "
   ]
  },
  {
   "cell_type": "markdown",
   "id": "b3e3150d",
   "metadata": {},
   "source": [
    "### 3.2 Movie Ratings\n",
    "\n",
    "We explore the scale, the distribution, ratings by movies, ratings by genre, average movie rating etc <br>"
   ]
  },
  {
   "cell_type": "markdown",
   "id": "6ed873fa",
   "metadata": {},
   "source": [
    "#### 3.2.1 Ratings Distribution"
   ]
  },
  {
   "cell_type": "code",
   "execution_count": 30,
   "id": "befa8687",
   "metadata": {},
   "outputs": [
    {
     "name": "stderr",
     "output_type": "stream",
     "text": [
      "C:\\Users\\Ubasinachi\\anaconda3\\lib\\site-packages\\seaborn\\categorical.py:3717: UserWarning: The `factorplot` function has been renamed to `catplot`. The original name will be removed in a future release. Please update your code. Note that the default `kind` in `factorplot` (`'point'`) has changed `'strip'` in `catplot`.\n",
      "  warnings.warn(msg)\n",
      "C:\\Users\\Ubasinachi\\anaconda3\\lib\\site-packages\\seaborn\\_decorators.py:36: FutureWarning: Pass the following variable as a keyword arg: x. From version 0.12, the only valid positional argument will be `data`, and passing other arguments without an explicit keyword will result in an error or misinterpretation.\n",
      "  warnings.warn(\n"
     ]
    },
    {
     "name": "stdout",
     "output_type": "stream",
     "text": [
      "Average rating in dataset: 3.5335374198316765\n"
     ]
    },
    {
     "data": {
      "image/png": "[encoded data removed]",
      "text/plain": [
       "<Figure size 720x360 with 1 Axes>"
      ]
     },
     "metadata": {},
     "output_type": "display_data"
    }
   ],
   "source": [
    "with sns.axes_style('white'):\n",
    "    g = sns.factorplot(\"rating\", data=df_rating, aspect=2.0,kind='count')\n",
    "    g.set_ylabels(\"Total number of ratings\")\n",
    "print (f'Average rating in dataset: {np.mean(df_rating[\"rating\"])}')"
   ]
  },
  {
   "cell_type": "markdown",
   "id": "b1b7d209",
   "metadata": {},
   "source": [
    "Most of the movies are rated above average. The Top three most common ratings are 3.0, 4.0 and 5.0. Generally, the ratings for movies has been good as the chart skews to the left. A look at the chart, we can observe that users prefer to rate movies in integers say 3 than thier float say 3.5. For an instance 1.0 is more frequent than 1.5, 2.0 than 2.5, 3.0 than 3.5 and goes all the way."
   ]
  },
  {
   "cell_type": "markdown",
   "id": "cceee369",
   "metadata": {},
   "source": [
    "#### 3.2.2 Most rated Movies"
   ]
  },
  {
   "cell_type": "code",
   "execution_count": 35,
   "id": "1d1675a8",
   "metadata": {},
   "outputs": [
    {
     "data": {
      "image/png": "[encoded data removed]",
      "text/plain": [
       "<Figure size 720x504 with 1 Axes>"
      ]
     },
     "metadata": {
      "needs_background": "light"
     },
     "output_type": "display_data"
    }
   ],
   "source": [
    "fig, ax = plt.subplots(figsize = (10, 7))\n",
    "data = df_rating['movieId'].value_counts().sort_values(ascending=False)[0:10]\n",
    "titles = [df_movies.loc[movieId, 'title'] for movieId in data.index]\n",
    "sns.barplot(y=titles, x=data, ax=ax, palette=\"Blues_d\")\n",
    "plt.title('Top 10 Most rated Movies')\n",
    "plt.ylabel(\"Movie Title\")\n",
    "plt.xlabel(\"Number of Ratings Recieved\")\n",
    "plt.show()"
   ]
  },
  {
   "cell_type": "markdown",
   "id": "0573cf4e",
   "metadata": {},
   "source": [
    "The most rated movies are movies produced in the 90's. Although, these chart does not determine if the movies are positevly or negatively rated. It only shows the total number of ratings they are able to garner. The question is, which movies are best rated."
   ]
  },
  {
   "cell_type": "markdown",
   "id": "4dbb86cb",
   "metadata": {},
   "source": [
    "#### 3.2.3 Best Rated Movies"
   ]
  },
  {
   "cell_type": "code",
   "execution_count": 40,
   "id": "b3e5fb2f",
   "metadata": {},
   "outputs": [
    {
     "data": {
      "image/png": "[encoded data removed]",
      "text/plain": [
       "<Figure size 720x504 with 1 Axes>"
      ]
     },
     "metadata": {
      "needs_background": "light"
     },
     "output_type": "display_data"
    }
   ],
   "source": [
    "def most_popular(start, stop):\n",
    "    # filter out movies with less than 50 ratings\n",
    "    movies_per_rating = dict(Counter(df_rating.movieId))\n",
    "    required_movies = []\n",
    "    for key, value in movies_per_rating.items():\n",
    "        if value > 50:\n",
    "            required_movies.append(key)\n",
    "    data = df_rating[df_rating['movieId'].isin(required_movies)]\n",
    "\n",
    "    # calculating the average rating\n",
    "    data = data.groupby('movieId')['rating'].mean().sort_values(ascending=False)[start:stop]\n",
    "    return data\n",
    "\n",
    "data = most_popular(0,10)\n",
    "\n",
    "# ploting the \n",
    "fig, ax = plt.subplots(figsize = (10, 7))\n",
    "index = [df_movies[df_movies['movieId'] == x].index for x in data.index]\n",
    "titles = [df_movies[df_movies['movieId'] == movieId]['title'].iloc[0] for movieId in data.index]\n",
    "sns.barplot(y=titles, x=data.values, ax=ax, palette=\"Greens_d\")\n",
    "plt.title('Top 10 Positively Rated Movies')\n",
    "plt.ylabel(\"Movie Title\")\n",
    "plt.xlabel(\"Average Rating\")\n",
    "plt.show()"
   ]
  },
  {
   "cell_type": "markdown",
   "id": "8f272c21",
   "metadata": {},
   "source": [
    "The result of the best rated movies points to the possibility that the best rated movies share genres in common. In fact, the best and second best movies where parts I and II of Planet Earth (same movie). From the title of the movies, one can make a blind guess that movies ranked top are between action, adventure and triller genres. We explore the common genres of the top rated movies.  "
   ]
  },
  {
   "cell_type": "markdown",
   "id": "4073fded",
   "metadata": {},
   "source": [
    "#### 3.2.4 Does Genre affect the rating of a movie"
   ]
  },
  {
   "cell_type": "code",
   "execution_count": 51,
   "id": "d9b1dd90",
   "metadata": {
    "scrolled": true
   },
   "outputs": [
    {
     "data": {
      "image/png": "[encoded data removed]",
      "text/plain": [
       "<Figure size 1080x360 with 2 Axes>"
      ]
     },
     "metadata": {
      "needs_background": "light"
     },
     "output_type": "display_data"
    }
   ],
   "source": [
    "# checking the most popular genres in the top n movies with highest average rating\n",
    "# Distribution of words per Class\n",
    "fig, ax = plt.subplots(1,2, figsize=(15,5))\n",
    "\n",
    "all_genres = []\n",
    "data = most_popular(0, 100)\n",
    "#data =  df_rating.groupby('movieId')['rating'].mean().sort_values(ascending = False)[0:100]\n",
    "genres = [df_movies[df_movies['movieId'] == movieId]['genres'].iloc[0] for movieId in data.index]\n",
    "genres = [all_genres.extend(x.split(\"|\")) for x in genres if x != '(no genres listed)']\n",
    "genres = pd.DataFrame({\"genres\":all_genres})\n",
    "#genres['genres'].sort_values(ascending = False)\n",
    "sns.countplot(y='genres', data=genres, palette='Blues_d', ax=ax[0])\n",
    "ax[0].set_title(\"Most frequent Genre in Top 100 movies\")\n",
    "\n",
    "all_genres = []\n",
    "data =  df_rating.groupby('movieId')['rating'].mean().sort_values()[0:100]\n",
    "genres = [df_movies[df_movies['movieId'] == movieId]['genres'].iloc[0] for movieId in data.index]\n",
    "genres = [all_genres.extend(x.split(\"|\")) for x in genres if x != '(no genres listed)']\n",
    "genres = pd.DataFrame({\"genres\":all_genres})\n",
    "#genres['genres'].sort_values()\n",
    "sns.countplot(y='genres', data=genres, palette='Blues_d', ax=ax[1])\n",
    "ax[1].set_title(\"Most frequent Genre in Bottom 100 movies\")\n",
    "\n",
    "plt.subplots_adjust(left=0.1,\n",
    "                bottom=0.1, \n",
    "                right=0.9, \n",
    "                top=0.9, \n",
    "                wspace=0.4, \n",
    "                hspace=0.4)\n",
    "plt.show()"
   ]
  },
  {
   "cell_type": "markdown",
   "id": "42e596f3",
   "metadata": {},
   "source": [
    "The genres of movies as a stand alone featrure has very little deterministic power on the ratings of the movie. Both the distribution of the top 100 and bottom 100 rated movies bears similar distribution. They contain almost same genres with similar frequencies "
   ]
  },
  {
   "cell_type": "markdown",
   "id": "85c877a0",
   "metadata": {},
   "source": [
    "#### 3.2.5 What year or seasons were the highest ratings given"
   ]
  },
  {
   "cell_type": "code",
   "execution_count": 47,
   "id": "57669ed0",
   "metadata": {},
   "outputs": [],
   "source": [
    "def extract_year(title):\n",
    "    year = title.split('(')\n",
    "    if len(year) > 1:\n",
    "        try:\n",
    "            year = int(year[1][0:4])\n",
    "            if year > 1500:\n",
    "                return year\n",
    "        except:\n",
    "            pass\n",
    "    "
   ]
  },
  {
   "cell_type": "code",
   "execution_count": 48,
   "id": "1a076f28",
   "metadata": {},
   "outputs": [
    {
     "data": {
      "text/plain": [
       "[<matplotlib.lines.Line2D at 0x199828ca730>]"
      ]
     },
     "execution_count": 48,
     "metadata": {},
     "output_type": "execute_result"
    },
    {
     "data": {
      "image/png": "[encoded data removed]",
      "text/plain": [
       "<Figure size 1080x504 with 1 Axes>"
      ]
     },
     "metadata": {
      "needs_background": "light"
     },
     "output_type": "display_data"
    }
   ],
   "source": [
    "fig, ax = plt.subplots(figsize=(15, 7))\n",
    "df_movies_high = df_rating[df_rating['rating'] >= 4.5]\n",
    "movie_id_high = df_movies_high['movieId']\n",
    "movie_title = df_movies.merge(movie_id_high)['title']\n",
    "movie_date = movie_title.apply(extract_year)\n",
    "movie_date = movie_date.value_counts()\n",
    "movie = pd.DataFrame({'date':movie_date.index, 'count':movie_date.values})\n",
    "movie['date'] = movie['date'].astype('int64')\n",
    "movie['date'] = movie['date'].map(lambda x: pd.to_datetime(f'{x}-01-01'))\n",
    "plt.plot(movie['date'], movie['count'])"
   ]
  },
  {
   "cell_type": "markdown",
   "id": "f5ce48ad",
   "metadata": {},
   "source": [
    "From the timeseries plot, most movies rated 4.5 and above are majorly produced in the 1990s and and the early 2000s. movies produced in these year range have a higher probability of being rated in the class of 4.5 and above than movies produced in earlier years. Hence, the year of production is a good determinant of the ratings of a movie."
   ]
  },
  {
   "cell_type": "markdown",
   "id": "2c863dbc",
   "metadata": {},
   "source": [
    "<br>\n",
    "\n",
    "<a id=\"four\"></a>\n",
    "## 4.0 Content Based Filtering\n",
    "<a href=#cont>Back to Table of Contents</a>\n",
    "\n",
    "This section of the project aims at making recommenadations and rating using the content-based aproach. This approach uses the similarity between items to make recommendations. It is based off the assumption that if a user likes a particular item, the user will like items similar to that items. Hence, if a user rates a particular movie very high, there is aa high chance the user will rank other similar movies high. "
   ]
  },
  {
   "cell_type": "markdown",
   "id": "ccc607e0",
   "metadata": {},
   "source": [
    "### 4.1 Feature Engineering and Selection\n",
    "\n",
    "\n",
    "This project considers building a recommender off the movie genre, the director and the plot keyword feature. "
   ]
  },
  {
   "cell_type": "markdown",
   "id": "c2b559c2",
   "metadata": {},
   "source": [
    "#### 4.1.1 Selecting the Required Features\n",
    "\n",
    "The movie genre is available in the movies dataset, the director and plot keywords features are in the imdb_data dataset. Hence, there is a need to merge both datasets and extract the required features. "
   ]
  },
  {
   "cell_type": "code",
   "execution_count": 49,
   "id": "9824e798",
   "metadata": {},
   "outputs": [
    {
     "data": {
      "text/html": [
       "<div>\n",
       "<style scoped>\n",
       "    .dataframe tbody tr th:only-of-type {\n",
       "        vertical-align: middle;\n",
       "    }\n",
       "\n",
       "    .dataframe tbody tr th {\n",
       "        vertical-align: top;\n",
       "    }\n",
       "\n",
       "    .dataframe thead th {\n",
       "        text-align: right;\n",
       "    }\n",
       "</style>\n",
       "<table border=\"1\" class=\"dataframe\">\n",
       "  <thead>\n",
       "    <tr style=\"text-align: right;\">\n",
       "      <th></th>\n",
       "      <th>movieId</th>\n",
       "      <th>title</th>\n",
       "      <th>genres</th>\n",
       "      <th>director</th>\n",
       "      <th>plot_keywords</th>\n",
       "    </tr>\n",
       "  </thead>\n",
       "  <tbody>\n",
       "    <tr>\n",
       "      <th>0</th>\n",
       "      <td>1</td>\n",
       "      <td>Toy Story (1995)</td>\n",
       "      <td>Adventure|Animation|Children|Comedy|Fantasy</td>\n",
       "      <td>John Lasseter</td>\n",
       "      <td>toy|rivalry|cowboy|cgi animation</td>\n",
       "    </tr>\n",
       "    <tr>\n",
       "      <th>1</th>\n",
       "      <td>2</td>\n",
       "      <td>Jumanji (1995)</td>\n",
       "      <td>Adventure|Children|Fantasy</td>\n",
       "      <td>Jonathan Hensleigh</td>\n",
       "      <td>board game|adventurer|fight|game</td>\n",
       "    </tr>\n",
       "    <tr>\n",
       "      <th>2</th>\n",
       "      <td>3</td>\n",
       "      <td>Grumpier Old Men (1995)</td>\n",
       "      <td>Comedy|Romance</td>\n",
       "      <td>Mark Steven Johnson</td>\n",
       "      <td>boat|lake|neighbor|rivalry</td>\n",
       "    </tr>\n",
       "    <tr>\n",
       "      <th>3</th>\n",
       "      <td>4</td>\n",
       "      <td>Waiting to Exhale (1995)</td>\n",
       "      <td>Comedy|Drama|Romance</td>\n",
       "      <td>Terry McMillan</td>\n",
       "      <td>black american|husband wife relationship|betra...</td>\n",
       "    </tr>\n",
       "    <tr>\n",
       "      <th>4</th>\n",
       "      <td>5</td>\n",
       "      <td>Father of the Bride Part II (1995)</td>\n",
       "      <td>Comedy</td>\n",
       "      <td>Albert Hackett</td>\n",
       "      <td>fatherhood|doberman|dog|mansion</td>\n",
       "    </tr>\n",
       "  </tbody>\n",
       "</table>\n",
       "</div>"
      ],
      "text/plain": [
       "   movieId                               title  \\\n",
       "0        1                    Toy Story (1995)   \n",
       "1        2                      Jumanji (1995)   \n",
       "2        3             Grumpier Old Men (1995)   \n",
       "3        4            Waiting to Exhale (1995)   \n",
       "4        5  Father of the Bride Part II (1995)   \n",
       "\n",
       "                                        genres             director  \\\n",
       "0  Adventure|Animation|Children|Comedy|Fantasy        John Lasseter   \n",
       "1                   Adventure|Children|Fantasy   Jonathan Hensleigh   \n",
       "2                               Comedy|Romance  Mark Steven Johnson   \n",
       "3                         Comedy|Drama|Romance       Terry McMillan   \n",
       "4                                       Comedy       Albert Hackett   \n",
       "\n",
       "                                       plot_keywords  \n",
       "0                   toy|rivalry|cowboy|cgi animation  \n",
       "1                   board game|adventurer|fight|game  \n",
       "2                         boat|lake|neighbor|rivalry  \n",
       "3  black american|husband wife relationship|betra...  \n",
       "4                    fatherhood|doberman|dog|mansion  "
      ]
     },
     "execution_count": 49,
     "metadata": {},
     "output_type": "execute_result"
    }
   ],
   "source": [
    "# Extract movieId, title_cast, director and plot_keywords from df_meta\n",
    "df_meta = df_meta[['movieId', 'director', 'plot_keywords']]\n",
    "\n",
    "\n",
    "# merge meta dataset to movies dataset to produce our train dataset\n",
    "df_train = df_movies.merge(df_meta, on='movieId', how='left')\n",
    "df_train.head()"
   ]
  },
  {
   "cell_type": "markdown",
   "id": "b426f060",
   "metadata": {},
   "source": [
    "<br>\n",
    "\n",
    "#### 4.1.2 Cleaning the Selected features\n",
    "\n",
    "The genres and plot keywords feature contains genres and keywords seperated by the '|' character. There is a need to replace the seperator character with a space. On the director feature, there is a need to remove the space between the director name and surname; this is so that the model will not percieve any similarity between Albert Johnson and Albert Robert. They are totally different persons. And lastly, merging the features together and changing them to all lowercasing."
   ]
  },
  {
   "cell_type": "code",
   "execution_count": 17,
   "id": "d140484f",
   "metadata": {},
   "outputs": [
    {
     "data": {
      "text/plain": [
       "0        adventure animation children comedy fantasy jo...\n",
       "1        adventure children fantasy jonathanhensleigh  ...\n",
       "2        comedy romance markstevenjohnson  boat lake ne...\n",
       "3        comedy drama romance terrymcmillan  black amer...\n",
       "4        comedy alberthackett  fatherhood doberman dog ...\n",
       "                               ...                        \n",
       "62418                                            drama    \n",
       "62419                                      documentary    \n",
       "62420                                     comedy drama    \n",
       "62421                                                     \n",
       "62422                           action adventure drama    \n",
       "Length: 62423, dtype: object"
      ]
     },
     "execution_count": 17,
     "metadata": {},
     "output_type": "execute_result"
    }
   ],
   "source": [
    "# handle missing data\n",
    "df_train.fillna(' ', inplace=True)\n",
    "\n",
    "# replacing \"|\" and \"(no genres listed)\" with ' ' in genre\n",
    "df_train['genres'] = df_train['genres'].apply(lambda x: x.replace(\"|\" , ' ')\n",
    "                                       .replace(\"(no genres listed)\", ' '))\n",
    "\n",
    "# replacing \" \" with ' ' in director\n",
    "df_train['director'] = df_train['director'].apply(lambda x: ((x+'|'))\n",
    "                                            .replace(\" \", '')\n",
    "                                            .replace(\"|\", \" \"))\n",
    "\n",
    "# replace \"|\" with ' ' in plot_keywords\n",
    "df_train['plot_keywords'] = df_train['plot_keywords'].apply(lambda x: x.replace(\"|\", \" \"))\n",
    "\n",
    "# Merge the genres, plot_keywords and director names as our major predictors\n",
    "df_train_string = df_train['genres'] + \" \" + df_train['director'] + \" \" + df_train['plot_keywords']\n",
    "\n",
    "# change to lower case\n",
    "df_train_string.apply(str.lower)"
   ]
  },
  {
   "cell_type": "markdown",
   "id": "fe9dbeb8",
   "metadata": {},
   "source": [
    "#### 4.1.3 Vectorization\n",
    "\n",
    "To create a model, there is a need to have a set of feature(s) with numerical values since most models only accept numerical values for feature sets. For this project, our feature is a string of words. Hence there is a need to create vectors of digits from these words. The process is called Vectorization.\n",
    "\n",
    "For this project we define a vectorizer with the following tuning\n",
    "- analyser = 'word'\n",
    "- ngram_range = (1, 1)\n",
    "- max_df = 0.3\n",
    "- min_df = 20\n",
    "- stop_words = 'english'"
   ]
  },
  {
   "cell_type": "code",
   "execution_count": 50,
   "id": "42f81104",
   "metadata": {},
   "outputs": [
    {
     "data": {
      "text/plain": [
       "(62423, 1581)"
      ]
     },
     "execution_count": 50,
     "metadata": {},
     "output_type": "execute_result"
    }
   ],
   "source": [
    "vectorizer = TfidfVectorizer(analyzer='word', ngram_range=(1, 1), min_df=10, max_df=0.5, stop_words='english')\n",
    "features = vectorizer.fit_transform(df_train_string)\n",
    "\n",
    "features.shape"
   ]
  },
  {
   "cell_type": "markdown",
   "id": "459082d2",
   "metadata": {},
   "source": [
    "<br>\n",
    "\n",
    "### 4.2 Recommending\n",
    "\n",
    "This section contains functions for making movie recommendation for a user using the vectorised features from the previous section. The section contains four functions "
   ]
  },
  {
   "cell_type": "markdown",
   "id": "1d29ccdd",
   "metadata": {},
   "source": [
    "#### 4.2.1 Retrieving Top N Movies Rated by a User\n",
    "\n",
    "To perform content based filtering, there is a need to retrieve all movies rated by the user under focus sorted by the rating the user ascribe to them in descending order. "
   ]
  },
  {
   "cell_type": "code",
   "execution_count": 19,
   "id": "a152c0dc",
   "metadata": {},
   "outputs": [],
   "source": [
    "#function to collect all movies rated by a particular user\n",
    "\n",
    "def all_user_rated_movies(userId, n):\n",
    "    rated_movies = df_rating[df_rating['userId'] == userId]\n",
    "    rated_sorted =  rated_movies.sort_values(by='rating', ascending=False)\n",
    "    return rated_sorted['movieId'].iloc[:n]"
   ]
  },
  {
   "cell_type": "markdown",
   "id": "6cda0ef6",
   "metadata": {},
   "source": [
    "#### 4.2.2 Retrieving All Unseen Movies by a User\n",
    "\n",
    "Similarly, there is also a need to retrieve all movies previously unseen by a user from which we can make recommendation from to avoid recommending movies which has previously been seen by a user."
   ]
  },
  {
   "cell_type": "code",
   "execution_count": 20,
   "id": "16ad9930",
   "metadata": {},
   "outputs": [],
   "source": [
    "def all_unseen_movies(userId):\n",
    "    unseen_movies = df_rating[df_rating['userId'] != userId]['movieId']\n",
    "    return df_movies[df_movies['movieId'].isin(unseen_movies)].index"
   ]
  },
  {
   "cell_type": "markdown",
   "id": "cc29821f",
   "metadata": {},
   "source": [
    "#### 4.2.3 Recommending Top N Unseen Movies by user\n",
    "\n",
    "Using the cosine similarity, the top N similar movies to each top rated movies by the user is recommended for the user."
   ]
  },
  {
   "cell_type": "code",
   "execution_count": 21,
   "id": "c9f31838",
   "metadata": {},
   "outputs": [],
   "source": [
    "# Recommend the Top N movies for each top rated movie by a user\n",
    "\n",
    "def recommend(movie_df, userId, n=10):\n",
    "    top_rated_movies_id = all_user_rated_movies(userId, int(n/2))\n",
    "    unseen_movies = all_unseen_movies(userId)\n",
    "    similarity_list = []\n",
    "    \n",
    "    for movieId in list(top_rated_movies_id):\n",
    "        movie_index = movie_df[movie_df['movieId'] == movieId].index[0]\n",
    "        sim_matrix = cosine_similarity(features[movie_index], features[unseen_movies])[0]\n",
    "        \n",
    "        for i in range(2):\n",
    "            similarity_list.append(np.argmax(sim_matrix))\n",
    "            sim_matrix[np.argmax(sim_matrix)] = 0\n",
    "        \n",
    "    return df_train.iloc[similarity_list]"
   ]
  },
  {
   "cell_type": "markdown",
   "id": "04df036b",
   "metadata": {},
   "source": [
    "Using the recommend function to recommend 15 movies for user with userId 100"
   ]
  },
  {
   "cell_type": "code",
   "execution_count": 23,
   "id": "8e905c15",
   "metadata": {},
   "outputs": [
    {
     "data": {
      "text/html": [
       "<div>\n",
       "<style scoped>\n",
       "    .dataframe tbody tr th:only-of-type {\n",
       "        vertical-align: middle;\n",
       "    }\n",
       "\n",
       "    .dataframe tbody tr th {\n",
       "        vertical-align: top;\n",
       "    }\n",
       "\n",
       "    .dataframe thead th {\n",
       "        text-align: right;\n",
       "    }\n",
       "</style>\n",
       "<table border=\"1\" class=\"dataframe\">\n",
       "  <thead>\n",
       "    <tr style=\"text-align: right;\">\n",
       "      <th></th>\n",
       "      <th>movieId</th>\n",
       "      <th>title</th>\n",
       "      <th>genres</th>\n",
       "      <th>director</th>\n",
       "      <th>plot_keywords</th>\n",
       "    </tr>\n",
       "  </thead>\n",
       "  <tbody>\n",
       "    <tr>\n",
       "      <th>685</th>\n",
       "      <td>700</td>\n",
       "      <td>Angus (1995)</td>\n",
       "      <td>Comedy</td>\n",
       "      <td>ChrisCrutcher</td>\n",
       "      <td>based on short story independent film characte...</td>\n",
       "    </tr>\n",
       "    <tr>\n",
       "      <th>7680</th>\n",
       "      <td>8224</td>\n",
       "      <td>Dexter the Dragon &amp; Bumble the Bear (a.k.a. Dr...</td>\n",
       "      <td>Animation Children Fantasy</td>\n",
       "      <td>BjørnFrankJensen</td>\n",
       "      <td>egg bear dragon anthropomorphism</td>\n",
       "    </tr>\n",
       "    <tr>\n",
       "      <th>258</th>\n",
       "      <td>261</td>\n",
       "      <td>Little Women (1994)</td>\n",
       "      <td>Drama</td>\n",
       "      <td>LouisaMayAlcott</td>\n",
       "      <td>american civil war f rated female protagonist ...</td>\n",
       "    </tr>\n",
       "    <tr>\n",
       "      <th>15651</th>\n",
       "      <td>82353</td>\n",
       "      <td>Solo Sunny (1980)</td>\n",
       "      <td>Drama Musical Romance</td>\n",
       "      <td></td>\n",
       "      <td></td>\n",
       "    </tr>\n",
       "    <tr>\n",
       "      <th>346</th>\n",
       "      <td>351</td>\n",
       "      <td>Corrina, Corrina (1994)</td>\n",
       "      <td>Comedy Drama Romance</td>\n",
       "      <td>JessieNelson</td>\n",
       "      <td>housekeeper repetition in title title based on...</td>\n",
       "    </tr>\n",
       "    <tr>\n",
       "      <th>13113</th>\n",
       "      <td>66773</td>\n",
       "      <td>Adrift in Manhattan (2007)</td>\n",
       "      <td>Drama</td>\n",
       "      <td></td>\n",
       "      <td></td>\n",
       "    </tr>\n",
       "  </tbody>\n",
       "</table>\n",
       "</div>"
      ],
      "text/plain": [
       "       movieId                                              title  \\\n",
       "685        700                                       Angus (1995)   \n",
       "7680      8224  Dexter the Dragon & Bumble the Bear (a.k.a. Dr...   \n",
       "258        261                                Little Women (1994)   \n",
       "15651    82353                                  Solo Sunny (1980)   \n",
       "346        351                            Corrina, Corrina (1994)   \n",
       "13113    66773                         Adrift in Manhattan (2007)   \n",
       "\n",
       "                           genres           director  \\\n",
       "685                        Comedy     ChrisCrutcher    \n",
       "7680   Animation Children Fantasy  BjørnFrankJensen    \n",
       "258                         Drama   LouisaMayAlcott    \n",
       "15651       Drama Musical Romance                      \n",
       "346          Comedy Drama Romance      JessieNelson    \n",
       "13113                       Drama                      \n",
       "\n",
       "                                           plot_keywords  \n",
       "685    based on short story independent film characte...  \n",
       "7680                    egg bear dragon anthropomorphism  \n",
       "258    american civil war f rated female protagonist ...  \n",
       "15651                                                     \n",
       "346    housekeeper repetition in title title based on...  \n",
       "13113                                                     "
      ]
     },
     "execution_count": 23,
     "metadata": {},
     "output_type": "execute_result"
    }
   ],
   "source": [
    "recommend(df_movies, 600, 15)"
   ]
  },
  {
   "cell_type": "code",
   "execution_count": 24,
   "id": "39347b0a",
   "metadata": {},
   "outputs": [
    {
     "data": {
      "text/html": [
       "<div>\n",
       "<style scoped>\n",
       "    .dataframe tbody tr th:only-of-type {\n",
       "        vertical-align: middle;\n",
       "    }\n",
       "\n",
       "    .dataframe tbody tr th {\n",
       "        vertical-align: top;\n",
       "    }\n",
       "\n",
       "    .dataframe thead th {\n",
       "        text-align: right;\n",
       "    }\n",
       "</style>\n",
       "<table border=\"1\" class=\"dataframe\">\n",
       "  <thead>\n",
       "    <tr style=\"text-align: right;\">\n",
       "      <th></th>\n",
       "      <th>movieId</th>\n",
       "      <th>title</th>\n",
       "      <th>genres</th>\n",
       "      <th>director</th>\n",
       "      <th>plot_keywords</th>\n",
       "    </tr>\n",
       "  </thead>\n",
       "  <tbody>\n",
       "    <tr>\n",
       "      <th>239</th>\n",
       "      <td>242</td>\n",
       "      <td>Farinelli: il castrato (1994)</td>\n",
       "      <td>Drama Musical</td>\n",
       "      <td>AndréeCorbiau</td>\n",
       "      <td>bare chested male male protagonist secret brot...</td>\n",
       "    </tr>\n",
       "    <tr>\n",
       "      <th>13443</th>\n",
       "      <td>69469</td>\n",
       "      <td>Garfield's Pet Force (2009)</td>\n",
       "      <td>Animation</td>\n",
       "      <td>MarkA.Z.Dippé</td>\n",
       "      <td>outer space animal character name in title gar...</td>\n",
       "    </tr>\n",
       "    <tr>\n",
       "      <th>16</th>\n",
       "      <td>17</td>\n",
       "      <td>Sense and Sensibility (1995)</td>\n",
       "      <td>Drama Romance</td>\n",
       "      <td>JaneAusten</td>\n",
       "      <td>england 19th century based on novel black hair</td>\n",
       "    </tr>\n",
       "    <tr>\n",
       "      <th>563</th>\n",
       "      <td>570</td>\n",
       "      <td>Slingshot, The (Kådisbellan) (1993)</td>\n",
       "      <td>Comedy Drama</td>\n",
       "      <td>ÅkeSandgren</td>\n",
       "      <td>condom nose bandage corporal punishment anti s...</td>\n",
       "    </tr>\n",
       "    <tr>\n",
       "      <th>486</th>\n",
       "      <td>491</td>\n",
       "      <td>Man Without a Face, The (1993)</td>\n",
       "      <td>Drama</td>\n",
       "      <td>IsabelleHolland</td>\n",
       "      <td>directorial debut disfigured face directed by ...</td>\n",
       "    </tr>\n",
       "    <tr>\n",
       "      <th>9838</th>\n",
       "      <td>32866</td>\n",
       "      <td>Love Me or Leave Me (1955)</td>\n",
       "      <td>Drama Musical Romance</td>\n",
       "      <td></td>\n",
       "      <td></td>\n",
       "    </tr>\n",
       "    <tr>\n",
       "      <th>18</th>\n",
       "      <td>19</td>\n",
       "      <td>Ace Ventura: When Nature Calls (1995)</td>\n",
       "      <td>Comedy</td>\n",
       "      <td>JackBernstein</td>\n",
       "      <td>male objectification kidnapping caught masturb...</td>\n",
       "    </tr>\n",
       "    <tr>\n",
       "      <th>14027</th>\n",
       "      <td>72645</td>\n",
       "      <td>Tale of the Wind, A (Histoire de vent, Une) (1...</td>\n",
       "      <td>Documentary</td>\n",
       "      <td></td>\n",
       "      <td></td>\n",
       "    </tr>\n",
       "  </tbody>\n",
       "</table>\n",
       "</div>"
      ],
      "text/plain": [
       "       movieId                                              title  \\\n",
       "239        242                      Farinelli: il castrato (1994)   \n",
       "13443    69469                        Garfield's Pet Force (2009)   \n",
       "16          17                       Sense and Sensibility (1995)   \n",
       "563        570                Slingshot, The (Kådisbellan) (1993)   \n",
       "486        491                     Man Without a Face, The (1993)   \n",
       "9838     32866                         Love Me or Leave Me (1955)   \n",
       "18          19              Ace Ventura: When Nature Calls (1995)   \n",
       "14027    72645  Tale of the Wind, A (Histoire de vent, Une) (1...   \n",
       "\n",
       "                      genres          director  \\\n",
       "239            Drama Musical    AndréeCorbiau    \n",
       "13443              Animation    MarkA.Z.Dippé    \n",
       "16             Drama Romance       JaneAusten    \n",
       "563             Comedy Drama      ÅkeSandgren    \n",
       "486                    Drama  IsabelleHolland    \n",
       "9838   Drama Musical Romance                     \n",
       "18                    Comedy    JackBernstein    \n",
       "14027            Documentary                     \n",
       "\n",
       "                                           plot_keywords  \n",
       "239    bare chested male male protagonist secret brot...  \n",
       "13443  outer space animal character name in title gar...  \n",
       "16        england 19th century based on novel black hair  \n",
       "563    condom nose bandage corporal punishment anti s...  \n",
       "486    directorial debut disfigured face directed by ...  \n",
       "9838                                                      \n",
       "18     male objectification kidnapping caught masturb...  \n",
       "14027                                                     "
      ]
     },
     "execution_count": 24,
     "metadata": {},
     "output_type": "execute_result"
    }
   ],
   "source": [
    "recommend(df_movies, 25, 15)"
   ]
  },
  {
   "cell_type": "markdown",
   "id": "2d0f196d",
   "metadata": {},
   "source": [
    "<br><br>\n",
    "\n",
    "<a id=\"five\"></a>\n",
    "## 5.0 Collaborative Filtering\n",
    "<a href=#cont>Back to Table of Contents</a>\n",
    "\n",
    "This section of the project aims at making recommenadations and rating using the collaborative aproach. This approach uses the similarity between users to make recommendations. It is based off the assumption that if a user likes a particular item, other users sharing similar trait with the user will most likely like the item. Hence, if a user rates a particular movie very high, there is a high chance another user who enjoys similar rating patern with the use will rank the movie high. \n",
    "\n",
    "For the collaborative filtering, we use the surprise package for handling data loading, data manipulation, modelling and testing. In this section, unlike the content-based section, where the most used dataset if the movies and meta data dataset, this section will leverage more on the ratings data set."
   ]
  },
  {
   "cell_type": "markdown",
   "id": "39ac68b6",
   "metadata": {},
   "source": [
    "<br>\n",
    "\n",
    "### 5.1 Reducing the Dataset Dimension"
   ]
  },
  {
   "cell_type": "markdown",
   "id": "7492ad5f",
   "metadata": {},
   "source": [
    "Our initial ratings dataset which plays a pivotal role in the training of this model contains a little above 10 million records. This will constitute a speed inefficiency during training. To reduce the dimension of our training dataset, we filter out movies with low ratings and users who have only rated few movies. "
   ]
  },
  {
   "cell_type": "markdown",
   "id": "24da6ecc",
   "metadata": {},
   "source": [
    "\n",
    "#### 5.1.1 Filtering Movies with below Benchmark number of ratings"
   ]
  },
  {
   "cell_type": "code",
   "execution_count": null,
   "id": "b6fb5c79",
   "metadata": {},
   "outputs": [],
   "source": [
    "def filter_low_rated_movies(df, min_no_rating):\n",
    "    movies_per_rating = dict(Counter(df.movieId))\n",
    "    required_movies = []\n",
    "    \n",
    "    for key, value in movies_per_rating.items():\n",
    "        if value > min_no_rating:\n",
    "            required_movies.append(key)\n",
    "        \n",
    "    return df[df['movieId'].isin(required_movies)]"
   ]
  },
  {
   "cell_type": "code",
   "execution_count": null,
   "id": "38d74d24",
   "metadata": {},
   "outputs": [],
   "source": [
    "df_filtered = filter_low_rated_movies(df_rating, 2500)\n",
    "\n",
    "print(\"The old dataset has {} shape\".format(df_rating.shape))\n",
    "print(\"The dataset with low ratings removed has {} shape\".format(df_filtered.shape))"
   ]
  },
  {
   "cell_type": "markdown",
   "id": "56003f64",
   "metadata": {},
   "source": [
    "\n",
    "#### 5.1.2 Filtering Users who have rated below Benchmark number of ratings"
   ]
  },
  {
   "cell_type": "code",
   "execution_count": null,
   "id": "527ed85d",
   "metadata": {},
   "outputs": [],
   "source": [
    "def filter_low_rating_users(df, min_no_rating):\n",
    "    users_per_rating = dict(Counter(df.userId))\n",
    "    required_users = []\n",
    "    \n",
    "    for key, value in users_per_rating.items():\n",
    "        if value > min_no_rating:\n",
    "            required_users.append(key)\n",
    "        \n",
    "    return df[df['userId'].isin(required_users)]"
   ]
  },
  {
   "cell_type": "code",
   "execution_count": null,
   "id": "b9fc1a5b",
   "metadata": {},
   "outputs": [],
   "source": [
    "df_cleaned = filter_low_rating_users(df_filtered, 250)\n",
    "\n",
    "print(\"The dataset with low rating users removed has {} shape\".format(df_cleaned.shape))"
   ]
  },
  {
   "cell_type": "markdown",
   "id": "238e1769",
   "metadata": {},
   "source": [
    "<br>\n",
    "\n",
    "### 5.2 Benchmarking the Models"
   ]
  },
  {
   "cell_type": "code",
   "execution_count": null,
   "id": "c40172ff",
   "metadata": {},
   "outputs": [],
   "source": [
    "# Tune the surprise reader prediction scale\n",
    "reader = Reader(rating_scale=(1, 5))\n",
    "\n",
    "# load the training dataset with the surprise dataset class\n",
    "data = Dataset.load_from_df(df_cleaned[['userId', 'movieId', 'rating']], reader)"
   ]
  },
  {
   "cell_type": "markdown",
   "id": "0383787d",
   "metadata": {},
   "source": [
    "<br>\n",
    "The surprise library provides a range of models which can be used to make predictions. In this section, we select few distinct models and benchmark their performance"
   ]
  },
  {
   "cell_type": "code",
   "execution_count": null,
   "id": "68eb4386",
   "metadata": {},
   "outputs": [],
   "source": [
    "benchmark = []\n",
    "# Iterate over all algorithms\n",
    "algorithms = [SVD(), NMF(), NormalPredictor(), CoClustering(), SVDpp()]\n",
    "\n",
    "print (\"Attempting: \", str(algorithms), '\\n\\n\\n')\n",
    "\n",
    "for algorithm in algorithms:\n",
    "    print(\"Starting: \" ,str(algorithm))\n",
    "    \n",
    "    # Perform cross validation\n",
    "    results = cross_validate(algorithm, data, measures=['RMSE'], cv=3, verbose=False)\n",
    "    \n",
    "    # Get results & append algorithm name\n",
    "    tmp = pd.DataFrame.from_dict(results).mean(axis=0)\n",
    "    tmp = tmp.append(pd.Series([str(algorithm).split(' ')[0].split('.')[-1]], index=['Algorithm']))\n",
    "    benchmark.append(tmp)\n",
    "    print(\"Done: \" ,str(algorithm), \"\\n\\n\")\n",
    "\n",
    "print ('\\n\\tDONE\\n')"
   ]
  },
  {
   "cell_type": "code",
   "execution_count": null,
   "id": "f640792a",
   "metadata": {},
   "outputs": [],
   "source": [
    "surprise_results = pd.DataFrame(benchmark).set_index('Algorithm').sort_values('test_rmse')\n",
    "surprise_results"
   ]
  },
  {
   "cell_type": "markdown",
   "id": "000e6f09",
   "metadata": {},
   "source": [
    "The best performing model is the SVDpp with 0.7670 RMSE while the worst is the Normal predictor"
   ]
  },
  {
   "cell_type": "code",
   "execution_count": null,
   "id": "30726333",
   "metadata": {},
   "outputs": [],
   "source": [
    "# visualising the result on a bar chart\n",
    "surprise_results['test_rmse'].plot(kind='bar', figsize=(10,7))\n",
    "plt.ylabel(\"RMSE\")\n",
    "plt.title(\"RMSE for Bechnmarked Algorithms\")\n",
    "plt.show()"
   ]
  },
  {
   "cell_type": "markdown",
   "id": "ab5a1253",
   "metadata": {},
   "source": [
    "<br>\n",
    "\n",
    "### 5.3 Choice of Model"
   ]
  },
  {
   "cell_type": "markdown",
   "id": "22fc05ae",
   "metadata": {},
   "source": [
    "From the benchmark in the previous section, the best performing model is the SVDpp, which is a variant of the SVD model. Although, its performance does not come without a limitation. It is the slowest of all the models by a wide marging. Its training and testing time is very high and might cause a bottle for our usecase. The use case is a movie recommendation system; there will be expectation of trafic upon its deployment. Hence, for this project, its variant SVD is considered."
   ]
  },
  {
   "cell_type": "markdown",
   "id": "d6326a05",
   "metadata": {},
   "source": [
    "<br>\n",
    "\n",
    "### 5.4 Training an SVD Model"
   ]
  },
  {
   "cell_type": "markdown",
   "id": "a350ab9b",
   "metadata": {},
   "source": [
    "In this section, we train an SVD model with the following hyperparameters    \"n_epochs\": 20, \"lr_all\": 0.005, \"reg_all\": 0.02. Although, we should train our model on the full dataset, but because of execution time, we will train our models on only items with 2500 ratings and above and users with 250 ratings and above. These parameters can be adjusted for scenarios where there is more computing power."
   ]
  },
  {
   "cell_type": "code",
   "execution_count": null,
   "id": "5f913c3f",
   "metadata": {},
   "outputs": [],
   "source": [
    "# Hyperparameter tuning variable\n",
    "params = {\n",
    "    \"n_epochs\": 20,\n",
    "    \"lr_all\": 0.005,\n",
    "    \"reg_all\": 0.02\n",
    "}\n",
    "\n",
    "# Configurable minimum number of movie and users ratings\n",
    "min_no_movie_rating = 2500\n",
    "min_no_user_rating = 250\n",
    "\n",
    "# Filter the training set with the configuration\n",
    "training_set = filter_low_rated_movies(df_rating, min_no_movie_rating)\n",
    "training_set = filter_low_rating_users(training_set, min_no_user_rating)\n",
    "\n",
    "# load the dataset\n",
    "data = Dataset.load_from_df(training_set[['userId', 'movieId', 'rating']], reader)\n",
    "print(training_set.shape)\n",
    "\n",
    "# build a full trainset from the dataset\n",
    "trainset = data.build_full_trainset()\n",
    "\n",
    "algo = SVD(n_epochs = params['n_epochs'], lr_all = params['lr_all'], reg_all = params['reg_all'])\n",
    "\n",
    "algo.fit(trainset)"
   ]
  },
  {
   "cell_type": "markdown",
   "id": "82f137fa",
   "metadata": {},
   "source": [
    "<br>\n",
    "\n",
    "### 5.5 Pickling the Model\n",
    "\n",
    "The trained model was pickled for future use to avoid retraining of a model for every prediction."
   ]
  },
  {
   "cell_type": "code",
   "execution_count": null,
   "id": "8895f290",
   "metadata": {},
   "outputs": [],
   "source": [
    "with open('resources/model.pkl',  'wb') as file:\n",
    "    pkl.dump(algo, file)"
   ]
  },
  {
   "cell_type": "markdown",
   "id": "acb78cf6",
   "metadata": {},
   "source": [
    "<br>\n",
    "\n",
    "### 5.6 Prediction\n",
    "\n",
    "In this section, the trained model is used to generate prediction. The test Dataset is about 5 million rows, but we will be using a sample of 20 entries to generate predictions because of the execution of time of the notebook. This number can be adjusted depending on computing power."
   ]
  },
  {
   "cell_type": "code",
   "execution_count": null,
   "id": "fa84c8fd",
   "metadata": {},
   "outputs": [],
   "source": [
    "# function to predict a single rating\n",
    "def predict_each(row, model):\n",
    "    row['id'] = str(row['userId']) + '_' + str(row['movieId'])\n",
    "    row['rating'] = round(model.predict(row['userId'], row['movieId'], verbose=False).est, 2)\n",
    "    return row[['id', 'rating']]\n",
    "\n",
    "# function to predict all the entries in a dataframe\n",
    "def predict(df, model):\n",
    "    data = df.apply(predict_each, model=model, axis='columns')\n",
    "    return data"
   ]
  },
  {
   "cell_type": "markdown",
   "id": "b4ef412a",
   "metadata": {},
   "source": [
    "<br>\n",
    "\n",
    "Then we read the testing dataset and make predictions with the predict fucntion"
   ]
  },
  {
   "cell_type": "code",
   "execution_count": null,
   "id": "2ead3760",
   "metadata": {},
   "outputs": [],
   "source": [
    "# adjust this number for more or fewer predictions\n",
    "number_of_predictions = 20\n",
    "\n",
    "# read the test dataset\n",
    "test = pd.read_csv('data/test.csv')\n",
    "\n",
    "# Make the required number of predictions\n",
    "df_prediction = predict(test[:number_of_predictions], algo)\n",
    "\n",
    "df_prediction"
   ]
  },
  {
   "cell_type": "markdown",
   "id": "a9a9ddd5",
   "metadata": {},
   "source": [
    "<br>\n",
    "\n",
    "<a id=\"six\"></a>\n",
    "## 6.0 Submission\n",
    "<a href=#cont>Back to Table of Contents</a>\n",
    "\n",
    "The prediction dataframe is converted to a csv file for kaggle submission. Note: To make a valid submission, change the number_of_predictions variable to lenght of test dataset."
   ]
  },
  {
   "cell_type": "code",
   "execution_count": null,
   "id": "f716a70d",
   "metadata": {},
   "outputs": [],
   "source": [
    "df_prediction.to_csv(\"submission.csv\", index=False)"
   ]
  },
  {
   "cell_type": "markdown",
   "id": "bbbde83d",
   "metadata": {},
   "source": [
    "<br>\n",
    "\n",
    "<a id=\"seven\"></a>\n",
    "## 7.0 Conclusion\n",
    "<a href=#cont>Back to Table of Contents</a>"
   ]
  },
  {
   "cell_type": "markdown",
   "id": "5f59fc10",
   "metadata": {},
   "source": [
    "<br>\n",
    "\n",
    "<a id=\"eight\"></a>\n",
    "## 8.0 References\n",
    "<a href=#cont>Back to Table of Contents</a>"
   ]
  },
  {
   "cell_type": "code",
   "execution_count": null,
   "id": "1ba18c89",
   "metadata": {},
   "outputs": [],
   "source": []
  }
 ],
 "metadata": {
  "kernelspec": {
   "display_name": "Python 3 (ipykernel)",
   "language": "python",
   "name": "python3"
  },
  "language_info": {
   "codemirror_mode": {
    "name": "ipython",
    "version": 3
   },
   "file_extension": ".py",
   "mimetype": "text/x-python",
   "name": "python",
   "nbconvert_exporter": "python",
   "pygments_lexer": "ipython3",
   "version": "3.9.7"
  }
 },
 "nbformat": 4,
 "nbformat_minor": 5
}
